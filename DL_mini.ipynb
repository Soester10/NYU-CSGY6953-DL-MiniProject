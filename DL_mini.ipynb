{
 "cells": [
  {
   "cell_type": "code",
   "execution_count": 1,
   "metadata": {
    "id": "UKo1jJmvnZmD"
   },
   "outputs": [],
   "source": [
    "import torch\n",
    "import torch.nn as nn\n",
    "import torch.optim as optim\n",
    "import torch.nn.functional as F\n",
    "import torch.backends.cudnn as cudnn\n",
    "\n",
    "import torchvision\n",
    "import torchvision.transforms as transforms\n",
    "\n",
    "import os\n",
    "import argparse\n",
    "\n",
    "from torchsummary import summary\n",
    "\n",
    "import wandb"
   ]
  },
  {
   "cell_type": "code",
   "execution_count": 2,
   "metadata": {},
   "outputs": [],
   "source": [
    "import ssl\n",
    "ssl._create_default_https_context = ssl._create_unverified_context"
   ]
  },
  {
   "cell_type": "code",
   "execution_count": 3,
   "metadata": {
    "id": "ugMdS3Ctm1tg"
   },
   "outputs": [],
   "source": [
    "##Resnet Model\n",
    "\n",
    "import torch\n",
    "import torch.nn as nn\n",
    "import torch.nn.functional as F\n",
    "\n",
    "\n",
    "class BasicBlock(nn.Module):\n",
    "    expansion = 1\n",
    "\n",
    "    def __init__(self, in_planes, planes, stride=1):\n",
    "        super(BasicBlock, self).__init__()\n",
    "        self.conv1 = nn.Conv2d(\n",
    "            in_planes, planes, kernel_size=3, stride=stride, padding=1, bias=False)\n",
    "        self.bn1 = nn.BatchNorm2d(planes)\n",
    "        self.conv2 = nn.Conv2d(planes, planes, kernel_size=3,\n",
    "                               stride=1, padding=1, bias=False)\n",
    "        self.bn2 = nn.BatchNorm2d(planes)\n",
    "\n",
    "        self.shortcut = nn.Sequential()\n",
    "        if stride != 1 or in_planes != self.expansion*planes:\n",
    "            self.shortcut = nn.Sequential(\n",
    "                nn.Conv2d(in_planes, self.expansion*planes,\n",
    "                          kernel_size=1, stride=stride, bias=False),\n",
    "                nn.BatchNorm2d(self.expansion*planes)\n",
    "            )\n",
    "\n",
    "    def forward(self, x):\n",
    "        out = F.relu(self.bn1(self.conv1(x)))\n",
    "        out = self.bn2(self.conv2(out))\n",
    "        out += self.shortcut(x)\n",
    "        out = F.relu(out)\n",
    "        return out\n",
    "\n",
    "\n",
    "class Bottleneck(nn.Module):\n",
    "    expansion = 4\n",
    "\n",
    "    def __init__(self, in_planes, planes, stride=1):\n",
    "        super(Bottleneck, self).__init__()\n",
    "        self.conv1 = nn.Conv2d(in_planes, planes, kernel_size=1, bias=False)\n",
    "        self.bn1 = nn.BatchNorm2d(planes)\n",
    "        self.conv2 = nn.Conv2d(planes, planes, kernel_size=3,\n",
    "                               stride=stride, padding=1, bias=False)\n",
    "        self.bn2 = nn.BatchNorm2d(planes)\n",
    "        self.conv3 = nn.Conv2d(planes, self.expansion *\n",
    "                               planes, kernel_size=1, bias=False)\n",
    "        self.bn3 = nn.BatchNorm2d(self.expansion*planes)\n",
    "\n",
    "        self.shortcut = nn.Sequential()\n",
    "        if stride != 1 or in_planes != self.expansion*planes:\n",
    "            self.shortcut = nn.Sequential(\n",
    "                nn.Conv2d(in_planes, self.expansion*planes,\n",
    "                          kernel_size=1, stride=stride, bias=False),\n",
    "                nn.BatchNorm2d(self.expansion*planes)\n",
    "            )\n",
    "\n",
    "    def forward(self, x):\n",
    "        out = F.relu(self.bn1(self.conv1(x)))\n",
    "        out = F.relu(self.bn2(self.conv2(out)))\n",
    "        out = self.bn3(self.conv3(out))\n",
    "        out += self.shortcut(x)\n",
    "        out = F.relu(out)\n",
    "        return out\n",
    "\n",
    "\n",
    "class ResNet(nn.Module):\n",
    "    def __init__(self, block, num_blocks, num_classes=10):\n",
    "        super(ResNet, self).__init__()\n",
    "        self.in_planes = 64\n",
    "\n",
    "        self.conv1 = nn.Conv2d(3, 64, kernel_size=3,\n",
    "                               stride=1, padding=1, bias=False)\n",
    "        self.bn1 = nn.BatchNorm2d(64)\n",
    "        self.layer1 = self._make_layer(block, 64, num_blocks[0], stride=1)\n",
    "        self.layer2 = self._make_layer(block, 128, num_blocks[1], stride=2)\n",
    "        self.layer3 = self._make_layer(block, 256, num_blocks[2], stride=2)\n",
    "        self.layer4 = self._make_layer(block, 512, num_blocks[3], stride=2)\n",
    "        self.linear = nn.Linear(512*block.expansion, num_classes)\n",
    "\n",
    "    def _make_layer(self, block, planes, num_blocks, stride):\n",
    "        strides = [stride] + [1]*(num_blocks-1)\n",
    "        layers = []\n",
    "        for stride in strides:\n",
    "            layers.append(block(self.in_planes, planes, stride))\n",
    "            self.in_planes = planes * block.expansion\n",
    "        return nn.Sequential(*layers)\n",
    "\n",
    "    def forward(self, x):\n",
    "        out = F.relu(self.bn1(self.conv1(x)))\n",
    "        out = self.layer1(out)\n",
    "        out = self.layer2(out)\n",
    "        out = self.layer3(out)\n",
    "        out = self.layer4(out)\n",
    "        out = F.avg_pool2d(out, 4)\n",
    "        out = out.view(out.size(0), -1)\n",
    "        out = self.linear(out)\n",
    "        return out\n",
    "\n",
    "\n",
    "def ResNet18():\n",
    "    return ResNet(BasicBlock, [2, 1, 1, 1])"
   ]
  },
  {
   "cell_type": "code",
   "execution_count": 4,
   "metadata": {},
   "outputs": [
    {
     "name": "stdout",
     "output_type": "stream",
     "text": [
      "True\n"
     ]
    }
   ],
   "source": [
    "print(torch.cuda.is_available())"
   ]
  },
  {
   "cell_type": "code",
   "execution_count": 5,
   "metadata": {
    "colab": {
     "base_uri": "https://localhost:8080/"
    },
    "id": "H8V4V3wqpBuq",
    "outputId": "b6935e79-81ee-4540-d51b-3ed2fbb3251f"
   },
   "outputs": [
    {
     "name": "stdout",
     "output_type": "stream",
     "text": [
      "==> Building model..\n"
     ]
    }
   ],
   "source": [
    "#model\n",
    "\n",
    "device = 'cuda' if torch.cuda.is_available() else 'cpu'\n",
    "print('==> Building model..')\n",
    "net = ResNet18()\n",
    "net = net.to(device)\n",
    "if device == 'cuda':\n",
    "    net = torch.nn.DataParallel(net)\n",
    "    cudnn.benchmark = True"
   ]
  },
  {
   "cell_type": "code",
   "execution_count": 6,
   "metadata": {
    "colab": {
     "base_uri": "https://localhost:8080/"
    },
    "id": "4Z2UqQERtnos",
    "outputId": "4db641d1-a50f-4c9e-fdf0-f2741f1f41a7"
   },
   "outputs": [
    {
     "name": "stdout",
     "output_type": "stream",
     "text": [
      "----------------------------------------------------------------\n",
      "        Layer (type)               Output Shape         Param #\n",
      "================================================================\n",
      "            Conv2d-1           [-1, 64, 32, 32]           1,728\n",
      "       BatchNorm2d-2           [-1, 64, 32, 32]             128\n",
      "            Conv2d-3           [-1, 64, 32, 32]          36,864\n",
      "       BatchNorm2d-4           [-1, 64, 32, 32]             128\n",
      "            Conv2d-5           [-1, 64, 32, 32]          36,864\n",
      "       BatchNorm2d-6           [-1, 64, 32, 32]             128\n",
      "        BasicBlock-7           [-1, 64, 32, 32]               0\n",
      "            Conv2d-8           [-1, 64, 32, 32]          36,864\n",
      "       BatchNorm2d-9           [-1, 64, 32, 32]             128\n",
      "           Conv2d-10           [-1, 64, 32, 32]          36,864\n",
      "      BatchNorm2d-11           [-1, 64, 32, 32]             128\n",
      "       BasicBlock-12           [-1, 64, 32, 32]               0\n",
      "           Conv2d-13          [-1, 128, 16, 16]          73,728\n",
      "      BatchNorm2d-14          [-1, 128, 16, 16]             256\n",
      "           Conv2d-15          [-1, 128, 16, 16]         147,456\n",
      "      BatchNorm2d-16          [-1, 128, 16, 16]             256\n",
      "           Conv2d-17          [-1, 128, 16, 16]           8,192\n",
      "      BatchNorm2d-18          [-1, 128, 16, 16]             256\n",
      "       BasicBlock-19          [-1, 128, 16, 16]               0\n",
      "           Conv2d-20            [-1, 256, 8, 8]         294,912\n",
      "      BatchNorm2d-21            [-1, 256, 8, 8]             512\n",
      "           Conv2d-22            [-1, 256, 8, 8]         589,824\n",
      "      BatchNorm2d-23            [-1, 256, 8, 8]             512\n",
      "           Conv2d-24            [-1, 256, 8, 8]          32,768\n",
      "      BatchNorm2d-25            [-1, 256, 8, 8]             512\n",
      "       BasicBlock-26            [-1, 256, 8, 8]               0\n",
      "           Conv2d-27            [-1, 512, 4, 4]       1,179,648\n",
      "      BatchNorm2d-28            [-1, 512, 4, 4]           1,024\n",
      "           Conv2d-29            [-1, 512, 4, 4]       2,359,296\n",
      "      BatchNorm2d-30            [-1, 512, 4, 4]           1,024\n",
      "           Conv2d-31            [-1, 512, 4, 4]         131,072\n",
      "      BatchNorm2d-32            [-1, 512, 4, 4]           1,024\n",
      "       BasicBlock-33            [-1, 512, 4, 4]               0\n",
      "           Linear-34                   [-1, 10]           5,130\n",
      "           ResNet-35                   [-1, 10]               0\n",
      "================================================================\n",
      "Total params: 4,977,226\n",
      "Trainable params: 4,977,226\n",
      "Non-trainable params: 0\n",
      "----------------------------------------------------------------\n",
      "Input size (MB): 0.01\n",
      "Forward/backward pass size (MB): 9.06\n",
      "Params size (MB): 18.99\n",
      "Estimated Total Size (MB): 28.06\n",
      "----------------------------------------------------------------\n"
     ]
    }
   ],
   "source": [
    "##Model Parameters\n",
    "\n",
    "summary(net, (3, 32, 32))"
   ]
  },
  {
   "cell_type": "code",
   "execution_count": 7,
   "metadata": {
    "id": "LIXpNclgne29"
   },
   "outputs": [],
   "source": [
    "#hyperparameters\n",
    "\n",
    "lr = 0.1\n",
    "num_workers = 2\n",
    "criterion = nn.CrossEntropyLoss()\n",
    "optimizer = optim.Adadelta(net.parameters(), lr=lr, weight_decay=5e-4)\n",
    "scheduler = torch.optim.lr_scheduler.CosineAnnealingLR(optimizer, T_max=200)"
   ]
  },
  {
   "cell_type": "code",
   "execution_count": 8,
   "metadata": {
    "id": "27vzKHsfouMr"
   },
   "outputs": [],
   "source": [
    "data_path = \"./data\"\n",
    "\n",
    "best_acc = 0  # best test accuracy\n",
    "best_train_acc = 0   #best train accuracy\n",
    "start_epoch = 0  # start from epoch 0 or last checkpoint epoch\n",
    "\n",
    "epochs = 50"
   ]
  },
  {
   "cell_type": "code",
   "execution_count": 9,
   "metadata": {
    "colab": {
     "base_uri": "https://localhost:8080/"
    },
    "id": "LQIrn7UznCbS",
    "outputId": "8f2972db-0b29-4331-eea0-ddd96b817923"
   },
   "outputs": [
    {
     "name": "stdout",
     "output_type": "stream",
     "text": [
      "==> Preparing data..\n",
      "Files already downloaded and verified\n",
      "Files already downloaded and verified\n"
     ]
    }
   ],
   "source": [
    "# Data\n",
    "print('==> Preparing data..')\n",
    "transform_train = transforms.Compose([\n",
    "    transforms.RandomCrop(32, padding=4),\n",
    "    transforms.RandomHorizontalFlip(p=0.5),\n",
    "    transforms.ToTensor(),\n",
    "    transforms.Normalize((0.4914, 0.4822, 0.4465), (0.2023, 0.1994, 0.2010)),\n",
    "])\n",
    "\n",
    "transform_test = transforms.Compose([\n",
    "    transforms.ToTensor(),\n",
    "    transforms.Normalize((0.4914, 0.4822, 0.4465), (0.2023, 0.1994, 0.2010)),\n",
    "])\n",
    "\n",
    "trainset = torchvision.datasets.CIFAR10(\n",
    "    root=data_path, train=True, download=True, transform=transform_train)\n",
    "trainloader = torch.utils.data.DataLoader(\n",
    "    trainset, batch_size=128, shuffle=True, num_workers=num_workers)\n",
    "\n",
    "testset = torchvision.datasets.CIFAR10(\n",
    "    root=data_path, train=False, download=True, transform=transform_test)\n",
    "testloader = torch.utils.data.DataLoader(\n",
    "    testset, batch_size=100, shuffle=False, num_workers=num_workers)\n",
    "\n",
    "\n",
    "classes = ('plane', 'car', 'bird', 'cat', 'deer',\n",
    "           'dog', 'frog', 'horse', 'ship', 'truck')"
   ]
  },
  {
   "cell_type": "code",
   "execution_count": 10,
   "metadata": {
    "id": "ldQjBd3_pPQx"
   },
   "outputs": [],
   "source": [
    "##Training\n",
    "\n",
    "def train(epoch, optimizer, net, best_train_acc):\n",
    "    # print('\\nEpoch: %d' % epoch)\n",
    "    net.train()\n",
    "    train_loss = 0\n",
    "    correct = 0\n",
    "    total = 0\n",
    "    for batch_idx, (inputs, targets) in enumerate(trainloader):\n",
    "        inputs, targets = inputs.to(device), targets.to(device)\n",
    "        optimizer.zero_grad()\n",
    "        outputs = net(inputs)\n",
    "        loss = criterion(outputs, targets)\n",
    "        loss.backward()\n",
    "        optimizer.step()\n",
    "\n",
    "        train_loss += loss.item()\n",
    "        _, predicted = outputs.max(1)\n",
    "        total += targets.size(0)\n",
    "        correct += predicted.eq(targets).sum().item()\n",
    "\n",
    "    if best_train_acc < 100.*correct/total:\n",
    "        best_train_acc = 100.*correct/total\n",
    "    \n",
    "    return 100.*correct/total, train_loss/(batch_idx+1), best_train_acc"
   ]
  },
  {
   "cell_type": "code",
   "execution_count": 11,
   "metadata": {
    "id": "hql3CZwLpP9C"
   },
   "outputs": [],
   "source": [
    "##Testing\n",
    "\n",
    "def test(epoch, optimizer, net, best_acc, save_weights):\n",
    "    net.eval()\n",
    "    test_loss = 0\n",
    "    correct = 0\n",
    "    total = 0\n",
    "    with torch.no_grad():\n",
    "        for batch_idx, (inputs, targets) in enumerate(testloader):\n",
    "            inputs, targets = inputs.to(device), targets.to(device)\n",
    "            outputs = net(inputs)\n",
    "            loss = criterion(outputs, targets)\n",
    "\n",
    "            test_loss += loss.item()\n",
    "            _, predicted = outputs.max(1)\n",
    "            total += targets.size(0)\n",
    "            correct += predicted.eq(targets).sum().item()\n",
    "\n",
    "    # Save checkpoint.\n",
    "    acc = 100.*correct/total\n",
    "    if acc > best_acc:\n",
    "        if save_weights:\n",
    "            print('Saving..')\n",
    "            state = {\n",
    "                'net': net.state_dict(),\n",
    "                'acc': acc,\n",
    "                'epoch': epoch,\n",
    "            }\n",
    "            if not os.path.isdir('checkpoint'):\n",
    "                os.mkdir('checkpoint')\n",
    "            torch.save(state, './checkpoint/ckpt.pth')\n",
    "        \n",
    "        best_acc = acc\n",
    "        \n",
    "    return 100.*correct/total, test_loss/(batch_idx+1), best_acc"
   ]
  },
  {
   "cell_type": "code",
   "execution_count": 12,
   "metadata": {
    "id": "Qp91Ieaf2m0I"
   },
   "outputs": [],
   "source": [
    "##optimizers\n",
    "\n",
    "optimizers = {'sgd': optim.SGD, \n",
    "            'adam': optim.Adam, \n",
    "            'sgd-nesterov': optim.SGD,\n",
    "            'adagrad': optim.Adagrad,\n",
    "            'adadelta': optim.Adadelta}\n",
    "\n",
    "def optim_func(optimizer_, net, lr=0.1, momentum=0.9, weight_decay=5e-4):\n",
    "  if optimizer_ == 'sgd':\n",
    "      optimizer = optimizers[optimizer_](net.parameters(), lr=lr,\n",
    "                    momentum=momentum, weight_decay=weight_decay)\n",
    "\n",
    "  elif optimizer_ == 'sgd-nesterov':\n",
    "      optimizer = optimizers[optimizer_](net.parameters(), lr=lr,\n",
    "                    momentum=momentum, weight_decay=weight_decay, nesterov=True)\n",
    "\n",
    "  else:\n",
    "      optimizer = optimizers[optimizer_](net.parameters(), lr=lr, weight_decay=weight_decay)\n",
    "\n",
    "  return optimizer"
   ]
  },
  {
   "cell_type": "code",
   "execution_count": 24,
   "metadata": {
    "id": "8qNVAIv_2mxZ"
   },
   "outputs": [],
   "source": [
    "##Main\n",
    "\n",
    "def main(optimizer_, epochs, lr, momentum, weight_decay, save_weights, ret_polt_values):\n",
    "   \n",
    "    device = 'cuda' if torch.cuda.is_available() else 'cpu'\n",
    "    net = ResNet18()\n",
    "    net = net.to(device)\n",
    "    if device == 'cuda':\n",
    "        net = torch.nn.DataParallel(net)\n",
    "        cudnn.benchmark = True\n",
    "        \n",
    "    best_train_acc = 0\n",
    "    best_acc = 0\n",
    "    train_accs = []\n",
    "    test_accs= []\n",
    "    for epoch in range(start_epoch, start_epoch + epochs):\n",
    "        \n",
    "        optimizer = optim_func(optimizer_, net, lr, momentum, weight_decay)\n",
    "\n",
    "        print(f\"Running Epoch {epoch}...\")\n",
    "        train_acc, train_loss, best_train_acc = train(epoch, optimizer, net, best_train_acc)\n",
    "        test_acc, test_loss, best_acc = test(epoch, optimizer, net, best_acc, save_weights)\n",
    "        scheduler.step()\n",
    "\n",
    "        print(\"Train==>\", \"Loss:\", format(train_loss, '.03f'), 'Acc:', format(train_acc, '.03f'))\n",
    "        print(\"Test==>\", \"Loss:\", format(test_loss, '.03f'), 'Acc:', format(test_acc, '.03f'))\n",
    "        \n",
    "        if wandb.run is not None:\n",
    "            wandb.log(\n",
    "                {\n",
    "                    \"train_loss\": train_loss,\n",
    "                    \"train_accuracy\": train_acc,\n",
    "                    \"test_loss\": test_loss,\n",
    "                    \"test_accuracy\": test_acc,\n",
    "                    \"epoch\": epoch + 1,\n",
    "                }\n",
    "            )\n",
    "            \n",
    "        train_accs.append(train_acc)\n",
    "        test_accs.append(test_acc)\n",
    "        \n",
    "    print(\"\\n\\nBest accuracy:\", best_acc)\n",
    "    \n",
    "    if ret_polt_values:\n",
    "        return train_accs, test_accs"
   ]
  },
  {
   "cell_type": "code",
   "execution_count": 14,
   "metadata": {
    "id": "5ld-Edr02muv"
   },
   "outputs": [
    {
     "name": "stdout",
     "output_type": "stream",
     "text": [
      "{'method': 'random',\n",
      " 'metric': {'goal': 'maximize', 'name': 'train_accuracy'},\n",
      " 'parameters': {'learning_rate': {'values': [0.01, 0.1]},\n",
      "                'momentum': {'values': [0.9, 0.99]},\n",
      "                'optimizer': {'values': ['sgd',\n",
      "                                         'adam',\n",
      "                                         'sgd-nesterov',\n",
      "                                         'adagrad',\n",
      "                                         'adadelta']},\n",
      "                'weight_decay': {'values': [0.0005, 0.001]}}}\n"
     ]
    }
   ],
   "source": [
    "##Running sweep to determin best hyperparameters\n",
    "\n",
    "metric_config = {\n",
    "    \"name\": \"train_accuracy\",\n",
    "    \"goal\": \"maximize\",\n",
    "}\n",
    "\n",
    "parameters_config = {\n",
    "    \"optimizer\": {\n",
    "        \"values\": ['sgd', \n",
    "                   'adam', \n",
    "                   'sgd-nesterov',\n",
    "                   'adagrad',\n",
    "                   'adadelta'],\n",
    "    },\n",
    "    \"learning_rate\": {\"values\": [0.01, 0.1]},\n",
    "    \"weight_decay\": {\"values\": [0.0005, 0.001]},\n",
    "    \"momentum\": {\"values\": [0.9, 0.99]},\n",
    "}\n",
    "\n",
    "sweep_config = {\n",
    "    \"method\": \"random\",\n",
    "    \"metric\": metric_config,\n",
    "    \"parameters\": parameters_config,\n",
    "}\n",
    "\n",
    "import pprint\n",
    "\n",
    "pprint.pprint(sweep_config)"
   ]
  },
  {
   "cell_type": "code",
   "execution_count": 15,
   "metadata": {},
   "outputs": [
    {
     "name": "stderr",
     "output_type": "stream",
     "text": [
      "wandb: Appending key for api.wandb.ai to your netrc file: C:\\Users\\hnnha/.netrc\n"
     ]
    }
   ],
   "source": [
    "wandb.login()"
   ]
  },
  {
   "cell_type": "code",
   "execution_count": 16,
   "metadata": {
    "id": "j_k7iEvy5xTB"
   },
   "outputs": [
    {
     "name": "stdout",
     "output_type": "stream",
     "text": [
      "Create sweep with ID: ct9ebkvi\n",
      "Sweep URL: https://wandb.ai/hn2237/dl_mini/sweeps/ct9ebkvi\n"
     ]
    }
   ],
   "source": [
    "sweep_id = wandb.sweep(sweep_config, project=\"dl_mini\")\n",
    "\n",
    "# sweep_id = 'ywo62d4s'"
   ]
  },
  {
   "cell_type": "code",
   "execution_count": 17,
   "metadata": {
    "id": "WX5X64QT2mYB"
   },
   "outputs": [],
   "source": [
    "##test runs with wandb\n",
    "\n",
    "def test_wandb(config=None):\n",
    "     with wandb.init(config=config):\n",
    "        config = wandb.config\n",
    "\n",
    "        main(optimizer_ = config.optimizer, \n",
    "             epochs = 20, \n",
    "             lr = config.learning_rate, \n",
    "             momentum = config.momentum, \n",
    "             weight_decay = config.weight_decay,\n",
    "             save_weights = False,\n",
    "             ret_polt_values = False)"
   ]
  },
  {
   "cell_type": "code",
   "execution_count": 18,
   "metadata": {
    "id": "xeP5vq3Z6F-U"
   },
   "outputs": [
    {
     "name": "stderr",
     "output_type": "stream",
     "text": [
      "wandb: Agent Starting Run: z68nwuvp with config:\n",
      "wandb: \tlearning_rate: 0.01\n",
      "wandb: \tmomentum: 0.9\n",
      "wandb: \toptimizer: adagrad\n",
      "wandb: \tweight_decay: 0.0005\n",
      "wandb: Currently logged in as: hn2237. Use `wandb login --relogin` to force relogin\n"
     ]
    },
    {
     "data": {
      "application/vnd.jupyter.widget-view+json": {
       "model_id": "ee30515a9bbf45749325bbc2507f78d0",
       "version_major": 2,
       "version_minor": 0
      },
      "text/plain": [
       "VBox(children=(Label(value='Waiting for wandb.init()...\\r'), FloatProgress(value=0.016933333330477276, max=1.0…"
      ]
     },
     "metadata": {},
     "output_type": "display_data"
    },
    {
     "data": {
      "text/html": [
       "Tracking run with wandb version 0.14.2"
      ],
      "text/plain": [
       "<IPython.core.display.HTML object>"
      ]
     },
     "metadata": {},
     "output_type": "display_data"
    },
    {
     "data": {
      "text/html": [
       "Run data is saved locally in <code>C:\\Users\\hnnha\\Desktop\\Hari_NYU\\Spring23\\DL\\Mini_Project\\wandb\\run-20230414_190625-z68nwuvp</code>"
      ],
      "text/plain": [
       "<IPython.core.display.HTML object>"
      ]
     },
     "metadata": {},
     "output_type": "display_data"
    },
    {
     "data": {
      "text/html": [
       "Syncing run <strong><a href='https://wandb.ai/hn2237/dl_mini/runs/z68nwuvp' target=\"_blank\">light-sweep-1</a></strong> to <a href='https://wandb.ai/hn2237/dl_mini' target=\"_blank\">Weights & Biases</a> (<a href='https://wandb.me/run' target=\"_blank\">docs</a>)<br/>Sweep page: <a href='https://wandb.ai/hn2237/dl_mini/sweeps/ct9ebkvi' target=\"_blank\">https://wandb.ai/hn2237/dl_mini/sweeps/ct9ebkvi</a>"
      ],
      "text/plain": [
       "<IPython.core.display.HTML object>"
      ]
     },
     "metadata": {},
     "output_type": "display_data"
    },
    {
     "data": {
      "text/html": [
       " View project at <a href='https://wandb.ai/hn2237/dl_mini' target=\"_blank\">https://wandb.ai/hn2237/dl_mini</a>"
      ],
      "text/plain": [
       "<IPython.core.display.HTML object>"
      ]
     },
     "metadata": {},
     "output_type": "display_data"
    },
    {
     "data": {
      "text/html": [
       " View sweep at <a href='https://wandb.ai/hn2237/dl_mini/sweeps/ct9ebkvi' target=\"_blank\">https://wandb.ai/hn2237/dl_mini/sweeps/ct9ebkvi</a>"
      ],
      "text/plain": [
       "<IPython.core.display.HTML object>"
      ]
     },
     "metadata": {},
     "output_type": "display_data"
    },
    {
     "data": {
      "text/html": [
       " View run at <a href='https://wandb.ai/hn2237/dl_mini/runs/z68nwuvp' target=\"_blank\">https://wandb.ai/hn2237/dl_mini/runs/z68nwuvp</a>"
      ],
      "text/plain": [
       "<IPython.core.display.HTML object>"
      ]
     },
     "metadata": {},
     "output_type": "display_data"
    },
    {
     "name": "stdout",
     "output_type": "stream",
     "text": [
      "Running Epoch 0...\n"
     ]
    },
    {
     "name": "stderr",
     "output_type": "stream",
     "text": [
      "c:\\users\\hnnha\\appdata\\local\\programs\\python\\python37\\lib\\site-packages\\torch\\optim\\lr_scheduler.py:134: UserWarning: Detected call of `lr_scheduler.step()` before `optimizer.step()`. In PyTorch 1.1.0 and later, you should call them in the opposite order: `optimizer.step()` before `lr_scheduler.step()`.  Failure to do this will result in PyTorch skipping the first value of the learning rate schedule. See more details at https://pytorch.org/docs/stable/optim.html#how-to-adjust-learning-rate\n",
      "  \"https://pytorch.org/docs/stable/optim.html#how-to-adjust-learning-rate\", UserWarning)\n"
     ]
    },
    {
     "name": "stdout",
     "output_type": "stream",
     "text": [
      "Train==> Loss: 1.602 Acc: 40.678\n",
      "Test==> Loss: 1.332 Acc: 52.580\n",
      "Running Epoch 1...\n",
      "Train==> Loss: 1.424 Acc: 47.728\n",
      "Test==> Loss: 1.223 Acc: 55.290\n",
      "Running Epoch 2...\n",
      "Train==> Loss: 1.343 Acc: 51.116\n",
      "Test==> Loss: 1.237 Acc: 56.090\n",
      "Running Epoch 3...\n",
      "Train==> Loss: 1.219 Acc: 55.798\n",
      "Test==> Loss: 1.082 Acc: 61.030\n",
      "Running Epoch 4...\n",
      "Train==> Loss: 1.205 Acc: 56.534\n",
      "Test==> Loss: 1.299 Acc: 55.260\n",
      "Running Epoch 5...\n",
      "Train==> Loss: 1.134 Acc: 59.164\n",
      "Test==> Loss: 1.089 Acc: 62.110\n",
      "Running Epoch 6...\n",
      "Train==> Loss: 1.064 Acc: 61.752\n",
      "Test==> Loss: 0.913 Acc: 67.270\n",
      "Running Epoch 7...\n",
      "Train==> Loss: 1.017 Acc: 63.700\n",
      "Test==> Loss: 0.894 Acc: 68.080\n",
      "Running Epoch 8...\n",
      "Train==> Loss: 1.004 Acc: 64.134\n",
      "Test==> Loss: 1.503 Acc: 57.160\n",
      "Running Epoch 9...\n",
      "Train==> Loss: 0.900 Acc: 68.218\n",
      "Test==> Loss: 0.789 Acc: 72.250\n",
      "Running Epoch 10...\n",
      "Train==> Loss: 0.855 Acc: 69.832\n",
      "Test==> Loss: 0.801 Acc: 72.210\n",
      "Running Epoch 11...\n",
      "Train==> Loss: 0.786 Acc: 72.472\n",
      "Test==> Loss: 0.744 Acc: 74.590\n",
      "Running Epoch 12...\n",
      "Train==> Loss: 0.738 Acc: 74.404\n",
      "Test==> Loss: 0.998 Acc: 68.610\n",
      "Running Epoch 13...\n",
      "Train==> Loss: 0.686 Acc: 76.324\n",
      "Test==> Loss: 0.728 Acc: 76.090\n",
      "Running Epoch 14...\n",
      "Train==> Loss: 0.661 Acc: 77.162\n",
      "Test==> Loss: 0.744 Acc: 75.230\n",
      "Running Epoch 15...\n",
      "Train==> Loss: 0.630 Acc: 78.472\n",
      "Test==> Loss: 0.612 Acc: 78.740\n",
      "Running Epoch 16...\n",
      "Train==> Loss: 0.597 Acc: 79.686\n",
      "Test==> Loss: 0.631 Acc: 79.220\n",
      "Running Epoch 17...\n",
      "Train==> Loss: 0.580 Acc: 80.390\n",
      "Test==> Loss: 0.607 Acc: 79.280\n",
      "Running Epoch 18...\n",
      "Train==> Loss: 0.549 Acc: 81.120\n",
      "Test==> Loss: 0.607 Acc: 80.100\n",
      "Running Epoch 19...\n",
      "Train==> Loss: 0.539 Acc: 81.672\n",
      "Test==> Loss: 0.517 Acc: 83.010\n",
      "\n",
      "\n",
      "Best accuracy: 83.01\n"
     ]
    },
    {
     "data": {
      "text/html": [
       "Waiting for W&B process to finish... <strong style=\"color:green\">(success).</strong>"
      ],
      "text/plain": [
       "<IPython.core.display.HTML object>"
      ]
     },
     "metadata": {},
     "output_type": "display_data"
    },
    {
     "data": {
      "text/html": [
       "<style>\n",
       "    table.wandb td:nth-child(1) { padding: 0 10px; text-align: left ; width: auto;} td:nth-child(2) {text-align: left ; width: 100%}\n",
       "    .wandb-row { display: flex; flex-direction: row; flex-wrap: wrap; justify-content: flex-start; width: 100% }\n",
       "    .wandb-col { display: flex; flex-direction: column; flex-basis: 100%; flex: 1; padding: 10px; }\n",
       "    </style>\n",
       "<div class=\"wandb-row\"><div class=\"wandb-col\"><h3>Run history:</h3><br/><table class=\"wandb\"><tr><td>epoch</td><td>▁▁▂▂▂▃▃▄▄▄▅▅▅▆▆▇▇▇██</td></tr><tr><td>test_accuracy</td><td>▁▂▂▃▂▃▄▅▂▆▆▆▅▆▆▇▇▇▇█</td></tr><tr><td>test_loss</td><td>▇▆▆▅▇▅▄▄█▃▃▃▄▂▃▂▂▂▂▁</td></tr><tr><td>train_accuracy</td><td>▁▂▃▄▄▄▅▅▅▆▆▆▇▇▇▇████</td></tr><tr><td>train_loss</td><td>█▇▆▅▅▅▄▄▄▃▃▃▂▂▂▂▁▁▁▁</td></tr></table><br/></div><div class=\"wandb-col\"><h3>Run summary:</h3><br/><table class=\"wandb\"><tr><td>epoch</td><td>20</td></tr><tr><td>test_accuracy</td><td>83.01</td></tr><tr><td>test_loss</td><td>0.51719</td></tr><tr><td>train_accuracy</td><td>81.672</td></tr><tr><td>train_loss</td><td>0.53929</td></tr></table><br/></div></div>"
      ],
      "text/plain": [
       "<IPython.core.display.HTML object>"
      ]
     },
     "metadata": {},
     "output_type": "display_data"
    },
    {
     "data": {
      "text/html": [
       " View run <strong style=\"color:#cdcd00\">light-sweep-1</strong> at: <a href='https://wandb.ai/hn2237/dl_mini/runs/z68nwuvp' target=\"_blank\">https://wandb.ai/hn2237/dl_mini/runs/z68nwuvp</a><br/>Synced 5 W&B file(s), 0 media file(s), 0 artifact file(s) and 0 other file(s)"
      ],
      "text/plain": [
       "<IPython.core.display.HTML object>"
      ]
     },
     "metadata": {},
     "output_type": "display_data"
    },
    {
     "data": {
      "text/html": [
       "Find logs at: <code>.\\wandb\\run-20230414_190625-z68nwuvp\\logs</code>"
      ],
      "text/plain": [
       "<IPython.core.display.HTML object>"
      ]
     },
     "metadata": {},
     "output_type": "display_data"
    },
    {
     "name": "stderr",
     "output_type": "stream",
     "text": [
      "wandb: Agent Starting Run: w2keohtb with config:\n",
      "wandb: \tlearning_rate: 0.1\n",
      "wandb: \tmomentum: 0.9\n",
      "wandb: \toptimizer: adam\n",
      "wandb: \tweight_decay: 0.0005\n"
     ]
    },
    {
     "data": {
      "text/html": [
       "Tracking run with wandb version 0.14.2"
      ],
      "text/plain": [
       "<IPython.core.display.HTML object>"
      ]
     },
     "metadata": {},
     "output_type": "display_data"
    },
    {
     "data": {
      "text/html": [
       "Run data is saved locally in <code>C:\\Users\\hnnha\\Desktop\\Hari_NYU\\Spring23\\DL\\Mini_Project\\wandb\\run-20230414_191217-w2keohtb</code>"
      ],
      "text/plain": [
       "<IPython.core.display.HTML object>"
      ]
     },
     "metadata": {},
     "output_type": "display_data"
    },
    {
     "data": {
      "text/html": [
       "Syncing run <strong><a href='https://wandb.ai/hn2237/dl_mini/runs/w2keohtb' target=\"_blank\">dry-sweep-2</a></strong> to <a href='https://wandb.ai/hn2237/dl_mini' target=\"_blank\">Weights & Biases</a> (<a href='https://wandb.me/run' target=\"_blank\">docs</a>)<br/>Sweep page: <a href='https://wandb.ai/hn2237/dl_mini/sweeps/ct9ebkvi' target=\"_blank\">https://wandb.ai/hn2237/dl_mini/sweeps/ct9ebkvi</a>"
      ],
      "text/plain": [
       "<IPython.core.display.HTML object>"
      ]
     },
     "metadata": {},
     "output_type": "display_data"
    },
    {
     "data": {
      "text/html": [
       " View project at <a href='https://wandb.ai/hn2237/dl_mini' target=\"_blank\">https://wandb.ai/hn2237/dl_mini</a>"
      ],
      "text/plain": [
       "<IPython.core.display.HTML object>"
      ]
     },
     "metadata": {},
     "output_type": "display_data"
    },
    {
     "data": {
      "text/html": [
       " View sweep at <a href='https://wandb.ai/hn2237/dl_mini/sweeps/ct9ebkvi' target=\"_blank\">https://wandb.ai/hn2237/dl_mini/sweeps/ct9ebkvi</a>"
      ],
      "text/plain": [
       "<IPython.core.display.HTML object>"
      ]
     },
     "metadata": {},
     "output_type": "display_data"
    },
    {
     "data": {
      "text/html": [
       " View run at <a href='https://wandb.ai/hn2237/dl_mini/runs/w2keohtb' target=\"_blank\">https://wandb.ai/hn2237/dl_mini/runs/w2keohtb</a>"
      ],
      "text/plain": [
       "<IPython.core.display.HTML object>"
      ]
     },
     "metadata": {},
     "output_type": "display_data"
    },
    {
     "name": "stdout",
     "output_type": "stream",
     "text": [
      "Running Epoch 0...\n",
      "Train==> Loss: 2.155 Acc: 22.808\n",
      "Test==> Loss: 2.708 Acc: 15.360\n",
      "Running Epoch 1...\n",
      "Train==> Loss: 1.831 Acc: 29.982\n",
      "Test==> Loss: 1.917 Acc: 29.630\n",
      "Running Epoch 2...\n",
      "Train==> Loss: 1.765 Acc: 33.720\n",
      "Test==> Loss: 2.058 Acc: 24.080\n",
      "Running Epoch 3...\n",
      "Train==> Loss: 1.734 Acc: 34.554\n",
      "Test==> Loss: 1.852 Acc: 30.890\n",
      "Running Epoch 4...\n",
      "Train==> Loss: 1.745 Acc: 34.330\n",
      "Test==> Loss: 2.214 Acc: 24.870\n",
      "Running Epoch 5...\n",
      "Train==> Loss: 1.721 Acc: 35.706\n",
      "Test==> Loss: 2.558 Acc: 19.350\n",
      "Running Epoch 6...\n",
      "Train==> Loss: 1.683 Acc: 36.924\n",
      "Test==> Loss: 2.425 Acc: 25.810\n",
      "Running Epoch 7...\n",
      "Train==> Loss: 1.679 Acc: 36.660\n",
      "Test==> Loss: 3.339 Acc: 19.150\n",
      "Running Epoch 8...\n",
      "Train==> Loss: 1.687 Acc: 37.384\n",
      "Test==> Loss: 2.310 Acc: 23.310\n",
      "Running Epoch 9...\n",
      "Train==> Loss: 1.669 Acc: 37.926\n",
      "Test==> Loss: 2.568 Acc: 25.450\n",
      "Running Epoch 10...\n",
      "Train==> Loss: 1.646 Acc: 38.508\n",
      "Test==> Loss: 3.043 Acc: 23.200\n",
      "Running Epoch 11...\n",
      "Train==> Loss: 1.650 Acc: 38.678\n",
      "Test==> Loss: 4.051 Acc: 10.870\n",
      "Running Epoch 12...\n",
      "Train==> Loss: 1.629 Acc: 39.586\n",
      "Test==> Loss: 1.954 Acc: 27.100\n",
      "Running Epoch 13...\n",
      "Train==> Loss: 1.655 Acc: 38.160\n",
      "Test==> Loss: 3.448 Acc: 16.570\n",
      "Running Epoch 14...\n",
      "Train==> Loss: 1.646 Acc: 38.774\n",
      "Test==> Loss: 11.218 Acc: 12.540\n",
      "Running Epoch 15...\n",
      "Train==> Loss: 1.629 Acc: 39.082\n",
      "Test==> Loss: 5.779 Acc: 13.220\n",
      "Running Epoch 16...\n",
      "Train==> Loss: 1.707 Acc: 36.648\n",
      "Test==> Loss: 5.478 Acc: 16.080\n",
      "Running Epoch 17...\n",
      "Train==> Loss: 1.619 Acc: 39.316\n",
      "Test==> Loss: 3.642 Acc: 20.000\n",
      "Running Epoch 18...\n",
      "Train==> Loss: 1.627 Acc: 39.344\n",
      "Test==> Loss: 6.543 Acc: 16.230\n",
      "Running Epoch 19...\n",
      "Train==> Loss: 1.617 Acc: 39.608\n",
      "Test==> Loss: 4.168 Acc: 19.030\n",
      "\n",
      "\n",
      "Best accuracy: 30.89\n"
     ]
    },
    {
     "data": {
      "text/html": [
       "Waiting for W&B process to finish... <strong style=\"color:green\">(success).</strong>"
      ],
      "text/plain": [
       "<IPython.core.display.HTML object>"
      ]
     },
     "metadata": {},
     "output_type": "display_data"
    },
    {
     "data": {
      "application/vnd.jupyter.widget-view+json": {
       "model_id": "20bed19adc514a47af221af1772b85fd",
       "version_major": 2,
       "version_minor": 0
      },
      "text/plain": [
       "VBox(children=(Label(value='0.001 MB of 0.001 MB uploaded (0.000 MB deduped)\\r'), FloatProgress(value=1.0, max…"
      ]
     },
     "metadata": {},
     "output_type": "display_data"
    },
    {
     "data": {
      "text/html": [
       "<style>\n",
       "    table.wandb td:nth-child(1) { padding: 0 10px; text-align: left ; width: auto;} td:nth-child(2) {text-align: left ; width: 100%}\n",
       "    .wandb-row { display: flex; flex-direction: row; flex-wrap: wrap; justify-content: flex-start; width: 100% }\n",
       "    .wandb-col { display: flex; flex-direction: column; flex-basis: 100%; flex: 1; padding: 10px; }\n",
       "    </style>\n",
       "<div class=\"wandb-row\"><div class=\"wandb-col\"><h3>Run history:</h3><br/><table class=\"wandb\"><tr><td>epoch</td><td>▁▁▂▂▂▃▃▄▄▄▅▅▅▆▆▇▇▇██</td></tr><tr><td>test_accuracy</td><td>▃█▆█▆▄▆▄▅▆▅▁▇▃▂▂▃▄▃▄</td></tr><tr><td>test_loss</td><td>▂▁▁▁▁▂▁▂▁▂▂▃▁▂█▄▄▂▅▃</td></tr><tr><td>train_accuracy</td><td>▁▄▆▆▆▆▇▇▇▇███▇██▇███</td></tr><tr><td>train_loss</td><td>█▄▃▃▃▂▂▂▂▂▁▁▁▁▁▁▂▁▁▁</td></tr></table><br/></div><div class=\"wandb-col\"><h3>Run summary:</h3><br/><table class=\"wandb\"><tr><td>epoch</td><td>20</td></tr><tr><td>test_accuracy</td><td>19.03</td></tr><tr><td>test_loss</td><td>4.16762</td></tr><tr><td>train_accuracy</td><td>39.608</td></tr><tr><td>train_loss</td><td>1.61697</td></tr></table><br/></div></div>"
      ],
      "text/plain": [
       "<IPython.core.display.HTML object>"
      ]
     },
     "metadata": {},
     "output_type": "display_data"
    },
    {
     "data": {
      "text/html": [
       " View run <strong style=\"color:#cdcd00\">dry-sweep-2</strong> at: <a href='https://wandb.ai/hn2237/dl_mini/runs/w2keohtb' target=\"_blank\">https://wandb.ai/hn2237/dl_mini/runs/w2keohtb</a><br/>Synced 5 W&B file(s), 0 media file(s), 0 artifact file(s) and 0 other file(s)"
      ],
      "text/plain": [
       "<IPython.core.display.HTML object>"
      ]
     },
     "metadata": {},
     "output_type": "display_data"
    },
    {
     "data": {
      "text/html": [
       "Find logs at: <code>.\\wandb\\run-20230414_191217-w2keohtb\\logs</code>"
      ],
      "text/plain": [
       "<IPython.core.display.HTML object>"
      ]
     },
     "metadata": {},
     "output_type": "display_data"
    },
    {
     "name": "stderr",
     "output_type": "stream",
     "text": [
      "wandb: Agent Starting Run: qhl6cxpx with config:\n",
      "wandb: \tlearning_rate: 0.1\n",
      "wandb: \tmomentum: 0.99\n",
      "wandb: \toptimizer: adam\n",
      "wandb: \tweight_decay: 0.0005\n"
     ]
    },
    {
     "data": {
      "text/html": [
       "Tracking run with wandb version 0.14.2"
      ],
      "text/plain": [
       "<IPython.core.display.HTML object>"
      ]
     },
     "metadata": {},
     "output_type": "display_data"
    },
    {
     "data": {
      "text/html": [
       "Run data is saved locally in <code>C:\\Users\\hnnha\\Desktop\\Hari_NYU\\Spring23\\DL\\Mini_Project\\wandb\\run-20230414_191812-qhl6cxpx</code>"
      ],
      "text/plain": [
       "<IPython.core.display.HTML object>"
      ]
     },
     "metadata": {},
     "output_type": "display_data"
    },
    {
     "data": {
      "text/html": [
       "Syncing run <strong><a href='https://wandb.ai/hn2237/dl_mini/runs/qhl6cxpx' target=\"_blank\">stilted-sweep-3</a></strong> to <a href='https://wandb.ai/hn2237/dl_mini' target=\"_blank\">Weights & Biases</a> (<a href='https://wandb.me/run' target=\"_blank\">docs</a>)<br/>Sweep page: <a href='https://wandb.ai/hn2237/dl_mini/sweeps/ct9ebkvi' target=\"_blank\">https://wandb.ai/hn2237/dl_mini/sweeps/ct9ebkvi</a>"
      ],
      "text/plain": [
       "<IPython.core.display.HTML object>"
      ]
     },
     "metadata": {},
     "output_type": "display_data"
    },
    {
     "data": {
      "text/html": [
       " View project at <a href='https://wandb.ai/hn2237/dl_mini' target=\"_blank\">https://wandb.ai/hn2237/dl_mini</a>"
      ],
      "text/plain": [
       "<IPython.core.display.HTML object>"
      ]
     },
     "metadata": {},
     "output_type": "display_data"
    },
    {
     "data": {
      "text/html": [
       " View sweep at <a href='https://wandb.ai/hn2237/dl_mini/sweeps/ct9ebkvi' target=\"_blank\">https://wandb.ai/hn2237/dl_mini/sweeps/ct9ebkvi</a>"
      ],
      "text/plain": [
       "<IPython.core.display.HTML object>"
      ]
     },
     "metadata": {},
     "output_type": "display_data"
    },
    {
     "data": {
      "text/html": [
       " View run at <a href='https://wandb.ai/hn2237/dl_mini/runs/qhl6cxpx' target=\"_blank\">https://wandb.ai/hn2237/dl_mini/runs/qhl6cxpx</a>"
      ],
      "text/plain": [
       "<IPython.core.display.HTML object>"
      ]
     },
     "metadata": {},
     "output_type": "display_data"
    },
    {
     "name": "stdout",
     "output_type": "stream",
     "text": [
      "Running Epoch 0...\n",
      "Train==> Loss: 2.162 Acc: 22.912\n",
      "Test==> Loss: 3.848 Acc: 24.490\n",
      "Running Epoch 1...\n",
      "Train==> Loss: 1.817 Acc: 31.226\n",
      "Test==> Loss: 2.780 Acc: 18.970\n",
      "Running Epoch 2...\n",
      "Train==> Loss: 1.758 Acc: 33.940\n",
      "Test==> Loss: 2.264 Acc: 26.210\n",
      "Running Epoch 3...\n",
      "Train==> Loss: 1.737 Acc: 34.988\n",
      "Test==> Loss: 3.961 Acc: 16.490\n",
      "Running Epoch 4...\n",
      "Train==> Loss: 1.725 Acc: 35.722\n",
      "Test==> Loss: 2.219 Acc: 24.340\n",
      "Running Epoch 5...\n",
      "Train==> Loss: 1.715 Acc: 35.856\n",
      "Test==> Loss: 2.439 Acc: 24.570\n",
      "Running Epoch 6...\n",
      "Train==> Loss: 1.692 Acc: 37.056\n",
      "Test==> Loss: 2.464 Acc: 29.900\n",
      "Running Epoch 7...\n",
      "Train==> Loss: 1.689 Acc: 36.962\n",
      "Test==> Loss: 2.781 Acc: 18.380\n",
      "Running Epoch 8...\n",
      "Train==> Loss: 1.699 Acc: 36.552\n",
      "Test==> Loss: 8.840 Acc: 10.110\n",
      "Running Epoch 9...\n",
      "Train==> Loss: 1.700 Acc: 36.992\n",
      "Test==> Loss: 6.954 Acc: 13.560\n",
      "Running Epoch 10...\n",
      "Train==> Loss: 1.668 Acc: 38.168\n",
      "Test==> Loss: 2.135 Acc: 25.260\n",
      "Running Epoch 11...\n",
      "Train==> Loss: 1.657 Acc: 38.620\n",
      "Test==> Loss: 5.252 Acc: 13.520\n",
      "Running Epoch 12...\n",
      "Train==> Loss: 1.662 Acc: 38.794\n",
      "Test==> Loss: 6.290 Acc: 15.460\n",
      "Running Epoch 13...\n",
      "Train==> Loss: 1.649 Acc: 39.198\n",
      "Test==> Loss: 3.224 Acc: 21.400\n",
      "Running Epoch 14...\n",
      "Train==> Loss: 1.676 Acc: 37.708\n",
      "Test==> Loss: 6.801 Acc: 14.330\n",
      "Running Epoch 15...\n",
      "Train==> Loss: 1.652 Acc: 39.008\n",
      "Test==> Loss: 4.383 Acc: 17.520\n",
      "Running Epoch 16...\n",
      "Train==> Loss: 1.651 Acc: 38.936\n",
      "Test==> Loss: 2.398 Acc: 28.170\n",
      "Running Epoch 17...\n",
      "Train==> Loss: 1.650 Acc: 38.724\n",
      "Test==> Loss: 7.964 Acc: 10.290\n",
      "Running Epoch 18...\n",
      "Train==> Loss: 1.657 Acc: 38.550\n",
      "Test==> Loss: 12.040 Acc: 10.250\n",
      "Running Epoch 19...\n",
      "Train==> Loss: 1.634 Acc: 38.892\n",
      "Test==> Loss: 3.967 Acc: 23.300\n",
      "\n",
      "\n",
      "Best accuracy: 29.9\n"
     ]
    },
    {
     "data": {
      "text/html": [
       "Waiting for W&B process to finish... <strong style=\"color:green\">(success).</strong>"
      ],
      "text/plain": [
       "<IPython.core.display.HTML object>"
      ]
     },
     "metadata": {},
     "output_type": "display_data"
    },
    {
     "data": {
      "application/vnd.jupyter.widget-view+json": {
       "model_id": "9de72311b82d4d318ffa65e90ead16f1",
       "version_major": 2,
       "version_minor": 0
      },
      "text/plain": [
       "VBox(children=(Label(value='0.001 MB of 0.009 MB uploaded (0.000 MB deduped)\\r'), FloatProgress(value=0.119732…"
      ]
     },
     "metadata": {},
     "output_type": "display_data"
    },
    {
     "data": {
      "text/html": [
       "<style>\n",
       "    table.wandb td:nth-child(1) { padding: 0 10px; text-align: left ; width: auto;} td:nth-child(2) {text-align: left ; width: 100%}\n",
       "    .wandb-row { display: flex; flex-direction: row; flex-wrap: wrap; justify-content: flex-start; width: 100% }\n",
       "    .wandb-col { display: flex; flex-direction: column; flex-basis: 100%; flex: 1; padding: 10px; }\n",
       "    </style>\n",
       "<div class=\"wandb-row\"><div class=\"wandb-col\"><h3>Run history:</h3><br/><table class=\"wandb\"><tr><td>epoch</td><td>▁▁▂▂▂▃▃▄▄▄▅▅▅▆▆▇▇▇██</td></tr><tr><td>test_accuracy</td><td>▆▄▇▃▆▆█▄▁▂▆▂▃▅▂▄▇▁▁▆</td></tr><tr><td>test_loss</td><td>▂▁▁▂▁▁▁▁▆▄▁▃▄▂▄▃▁▅█▂</td></tr><tr><td>train_accuracy</td><td>▁▅▆▆▇▇▇▇▇▇████▇█████</td></tr><tr><td>train_loss</td><td>█▃▃▂▂▂▂▂▂▂▁▁▁▁▂▁▁▁▁▁</td></tr></table><br/></div><div class=\"wandb-col\"><h3>Run summary:</h3><br/><table class=\"wandb\"><tr><td>epoch</td><td>20</td></tr><tr><td>test_accuracy</td><td>23.3</td></tr><tr><td>test_loss</td><td>3.96662</td></tr><tr><td>train_accuracy</td><td>38.892</td></tr><tr><td>train_loss</td><td>1.6336</td></tr></table><br/></div></div>"
      ],
      "text/plain": [
       "<IPython.core.display.HTML object>"
      ]
     },
     "metadata": {},
     "output_type": "display_data"
    },
    {
     "data": {
      "text/html": [
       " View run <strong style=\"color:#cdcd00\">stilted-sweep-3</strong> at: <a href='https://wandb.ai/hn2237/dl_mini/runs/qhl6cxpx' target=\"_blank\">https://wandb.ai/hn2237/dl_mini/runs/qhl6cxpx</a><br/>Synced 5 W&B file(s), 0 media file(s), 0 artifact file(s) and 0 other file(s)"
      ],
      "text/plain": [
       "<IPython.core.display.HTML object>"
      ]
     },
     "metadata": {},
     "output_type": "display_data"
    },
    {
     "data": {
      "text/html": [
       "Find logs at: <code>.\\wandb\\run-20230414_191812-qhl6cxpx\\logs</code>"
      ],
      "text/plain": [
       "<IPython.core.display.HTML object>"
      ]
     },
     "metadata": {},
     "output_type": "display_data"
    },
    {
     "name": "stderr",
     "output_type": "stream",
     "text": [
      "wandb: Agent Starting Run: fvcujixt with config:\n",
      "wandb: \tlearning_rate: 0.1\n",
      "wandb: \tmomentum: 0.99\n",
      "wandb: \toptimizer: sgd\n",
      "wandb: \tweight_decay: 0.0005\n"
     ]
    },
    {
     "data": {
      "application/vnd.jupyter.widget-view+json": {
       "model_id": "95bfb5bf5a804582863ca1cf66f6ec22",
       "version_major": 2,
       "version_minor": 0
      },
      "text/plain": [
       "VBox(children=(Label(value='Waiting for wandb.init()...\\r'), FloatProgress(value=0.016933333330477276, max=1.0…"
      ]
     },
     "metadata": {},
     "output_type": "display_data"
    },
    {
     "data": {
      "text/html": [
       "Tracking run with wandb version 0.14.2"
      ],
      "text/plain": [
       "<IPython.core.display.HTML object>"
      ]
     },
     "metadata": {},
     "output_type": "display_data"
    },
    {
     "data": {
      "text/html": [
       "Run data is saved locally in <code>C:\\Users\\hnnha\\Desktop\\Hari_NYU\\Spring23\\DL\\Mini_Project\\wandb\\run-20230414_192405-fvcujixt</code>"
      ],
      "text/plain": [
       "<IPython.core.display.HTML object>"
      ]
     },
     "metadata": {},
     "output_type": "display_data"
    },
    {
     "data": {
      "text/html": [
       "Syncing run <strong><a href='https://wandb.ai/hn2237/dl_mini/runs/fvcujixt' target=\"_blank\">whole-sweep-4</a></strong> to <a href='https://wandb.ai/hn2237/dl_mini' target=\"_blank\">Weights & Biases</a> (<a href='https://wandb.me/run' target=\"_blank\">docs</a>)<br/>Sweep page: <a href='https://wandb.ai/hn2237/dl_mini/sweeps/ct9ebkvi' target=\"_blank\">https://wandb.ai/hn2237/dl_mini/sweeps/ct9ebkvi</a>"
      ],
      "text/plain": [
       "<IPython.core.display.HTML object>"
      ]
     },
     "metadata": {},
     "output_type": "display_data"
    },
    {
     "data": {
      "text/html": [
       " View project at <a href='https://wandb.ai/hn2237/dl_mini' target=\"_blank\">https://wandb.ai/hn2237/dl_mini</a>"
      ],
      "text/plain": [
       "<IPython.core.display.HTML object>"
      ]
     },
     "metadata": {},
     "output_type": "display_data"
    },
    {
     "data": {
      "text/html": [
       " View sweep at <a href='https://wandb.ai/hn2237/dl_mini/sweeps/ct9ebkvi' target=\"_blank\">https://wandb.ai/hn2237/dl_mini/sweeps/ct9ebkvi</a>"
      ],
      "text/plain": [
       "<IPython.core.display.HTML object>"
      ]
     },
     "metadata": {},
     "output_type": "display_data"
    },
    {
     "data": {
      "text/html": [
       " View run at <a href='https://wandb.ai/hn2237/dl_mini/runs/fvcujixt' target=\"_blank\">https://wandb.ai/hn2237/dl_mini/runs/fvcujixt</a>"
      ],
      "text/plain": [
       "<IPython.core.display.HTML object>"
      ]
     },
     "metadata": {},
     "output_type": "display_data"
    },
    {
     "name": "stdout",
     "output_type": "stream",
     "text": [
      "Running Epoch 0...\n",
      "Train==> Loss: 1.861 Acc: 30.692\n",
      "Test==> Loss: 1.728 Acc: 33.940\n",
      "Running Epoch 1...\n",
      "Train==> Loss: 1.544 Acc: 42.764\n",
      "Test==> Loss: 1.520 Acc: 45.910\n",
      "Running Epoch 2...\n",
      "Train==> Loss: 1.376 Acc: 50.046\n",
      "Test==> Loss: 1.541 Acc: 46.510\n",
      "Running Epoch 3...\n",
      "Train==> Loss: 1.275 Acc: 54.468\n",
      "Test==> Loss: 1.448 Acc: 50.030\n",
      "Running Epoch 4...\n",
      "Train==> Loss: 1.242 Acc: 55.936\n",
      "Test==> Loss: 1.383 Acc: 52.130\n",
      "Running Epoch 5...\n",
      "Train==> Loss: 1.187 Acc: 57.856\n",
      "Test==> Loss: 2.278 Acc: 39.770\n",
      "Running Epoch 6...\n",
      "Train==> Loss: 1.152 Acc: 59.012\n",
      "Test==> Loss: 1.824 Acc: 46.580\n",
      "Running Epoch 7...\n",
      "Train==> Loss: 1.120 Acc: 60.724\n",
      "Test==> Loss: 1.728 Acc: 49.600\n",
      "Running Epoch 8...\n",
      "Train==> Loss: 1.053 Acc: 63.480\n",
      "Test==> Loss: 1.299 Acc: 56.960\n",
      "Running Epoch 9...\n",
      "Train==> Loss: 1.065 Acc: 62.792\n",
      "Test==> Loss: 1.198 Acc: 58.820\n",
      "Running Epoch 10...\n",
      "Train==> Loss: 1.040 Acc: 63.874\n",
      "Test==> Loss: 1.458 Acc: 53.360\n",
      "Running Epoch 11...\n",
      "Train==> Loss: 1.074 Acc: 62.648\n",
      "Test==> Loss: 1.880 Acc: 46.560\n",
      "Running Epoch 12...\n",
      "Train==> Loss: 1.078 Acc: 62.604\n",
      "Test==> Loss: 1.892 Acc: 47.310\n",
      "Running Epoch 13...\n",
      "Train==> Loss: 1.072 Acc: 62.500\n",
      "Test==> Loss: 1.542 Acc: 48.060\n",
      "Running Epoch 14...\n",
      "Train==> Loss: 1.063 Acc: 62.812\n",
      "Test==> Loss: 1.714 Acc: 45.720\n",
      "Running Epoch 15...\n",
      "Train==> Loss: 1.050 Acc: 63.478\n",
      "Test==> Loss: 1.106 Acc: 61.520\n",
      "Running Epoch 16...\n",
      "Train==> Loss: 1.077 Acc: 62.670\n",
      "Test==> Loss: 1.619 Acc: 47.830\n",
      "Running Epoch 17...\n",
      "Train==> Loss: 1.072 Acc: 62.868\n",
      "Test==> Loss: 1.620 Acc: 51.450\n",
      "Running Epoch 18...\n",
      "Train==> Loss: 1.058 Acc: 63.340\n",
      "Test==> Loss: 2.535 Acc: 36.600\n",
      "Running Epoch 19...\n",
      "Train==> Loss: 1.079 Acc: 62.194\n",
      "Test==> Loss: 1.563 Acc: 54.450\n",
      "\n",
      "\n",
      "Best accuracy: 61.52\n"
     ]
    },
    {
     "data": {
      "text/html": [
       "Waiting for W&B process to finish... <strong style=\"color:green\">(success).</strong>"
      ],
      "text/plain": [
       "<IPython.core.display.HTML object>"
      ]
     },
     "metadata": {},
     "output_type": "display_data"
    },
    {
     "data": {
      "application/vnd.jupyter.widget-view+json": {
       "model_id": "79f536f09b5747b99b33d35d3cf55a23",
       "version_major": 2,
       "version_minor": 0
      },
      "text/plain": [
       "VBox(children=(Label(value='0.001 MB of 0.009 MB uploaded (0.000 MB deduped)\\r'), FloatProgress(value=0.119860…"
      ]
     },
     "metadata": {},
     "output_type": "display_data"
    },
    {
     "data": {
      "text/html": [
       "<style>\n",
       "    table.wandb td:nth-child(1) { padding: 0 10px; text-align: left ; width: auto;} td:nth-child(2) {text-align: left ; width: 100%}\n",
       "    .wandb-row { display: flex; flex-direction: row; flex-wrap: wrap; justify-content: flex-start; width: 100% }\n",
       "    .wandb-col { display: flex; flex-direction: column; flex-basis: 100%; flex: 1; padding: 10px; }\n",
       "    </style>\n",
       "<div class=\"wandb-row\"><div class=\"wandb-col\"><h3>Run history:</h3><br/><table class=\"wandb\"><tr><td>epoch</td><td>▁▁▂▂▂▃▃▄▄▄▅▅▅▆▆▇▇▇██</td></tr><tr><td>test_accuracy</td><td>▁▄▄▅▆▂▄▅▇▇▆▄▄▅▄█▅▅▂▆</td></tr><tr><td>test_loss</td><td>▄▃▃▃▂▇▅▄▂▁▃▅▅▃▄▁▄▄█▃</td></tr><tr><td>train_accuracy</td><td>▁▄▅▆▆▇▇▇████████████</td></tr><tr><td>train_loss</td><td>█▅▄▃▃▂▂▂▁▁▁▁▁▁▁▁▁▁▁▁</td></tr></table><br/></div><div class=\"wandb-col\"><h3>Run summary:</h3><br/><table class=\"wandb\"><tr><td>epoch</td><td>20</td></tr><tr><td>test_accuracy</td><td>54.45</td></tr><tr><td>test_loss</td><td>1.56277</td></tr><tr><td>train_accuracy</td><td>62.194</td></tr><tr><td>train_loss</td><td>1.07944</td></tr></table><br/></div></div>"
      ],
      "text/plain": [
       "<IPython.core.display.HTML object>"
      ]
     },
     "metadata": {},
     "output_type": "display_data"
    },
    {
     "data": {
      "text/html": [
       " View run <strong style=\"color:#cdcd00\">whole-sweep-4</strong> at: <a href='https://wandb.ai/hn2237/dl_mini/runs/fvcujixt' target=\"_blank\">https://wandb.ai/hn2237/dl_mini/runs/fvcujixt</a><br/>Synced 5 W&B file(s), 0 media file(s), 0 artifact file(s) and 0 other file(s)"
      ],
      "text/plain": [
       "<IPython.core.display.HTML object>"
      ]
     },
     "metadata": {},
     "output_type": "display_data"
    },
    {
     "data": {
      "text/html": [
       "Find logs at: <code>.\\wandb\\run-20230414_192405-fvcujixt\\logs</code>"
      ],
      "text/plain": [
       "<IPython.core.display.HTML object>"
      ]
     },
     "metadata": {},
     "output_type": "display_data"
    },
    {
     "name": "stderr",
     "output_type": "stream",
     "text": [
      "wandb: Agent Starting Run: qnetl69f with config:\n",
      "wandb: \tlearning_rate: 0.01\n",
      "wandb: \tmomentum: 0.99\n",
      "wandb: \toptimizer: adadelta\n",
      "wandb: \tweight_decay: 0.001\n"
     ]
    },
    {
     "data": {
      "application/vnd.jupyter.widget-view+json": {
       "model_id": "1aa5a15ca8bd4d809f11a5786a20f2d3",
       "version_major": 2,
       "version_minor": 0
      },
      "text/plain": [
       "VBox(children=(Label(value='Waiting for wandb.init()...\\r'), FloatProgress(value=0.016666666666666666, max=1.0…"
      ]
     },
     "metadata": {},
     "output_type": "display_data"
    },
    {
     "data": {
      "text/html": [
       "Tracking run with wandb version 0.14.2"
      ],
      "text/plain": [
       "<IPython.core.display.HTML object>"
      ]
     },
     "metadata": {},
     "output_type": "display_data"
    },
    {
     "data": {
      "text/html": [
       "Run data is saved locally in <code>C:\\Users\\hnnha\\Desktop\\Hari_NYU\\Spring23\\DL\\Mini_Project\\wandb\\run-20230414_192950-qnetl69f</code>"
      ],
      "text/plain": [
       "<IPython.core.display.HTML object>"
      ]
     },
     "metadata": {},
     "output_type": "display_data"
    },
    {
     "data": {
      "text/html": [
       "Syncing run <strong><a href='https://wandb.ai/hn2237/dl_mini/runs/qnetl69f' target=\"_blank\">generous-sweep-5</a></strong> to <a href='https://wandb.ai/hn2237/dl_mini' target=\"_blank\">Weights & Biases</a> (<a href='https://wandb.me/run' target=\"_blank\">docs</a>)<br/>Sweep page: <a href='https://wandb.ai/hn2237/dl_mini/sweeps/ct9ebkvi' target=\"_blank\">https://wandb.ai/hn2237/dl_mini/sweeps/ct9ebkvi</a>"
      ],
      "text/plain": [
       "<IPython.core.display.HTML object>"
      ]
     },
     "metadata": {},
     "output_type": "display_data"
    },
    {
     "data": {
      "text/html": [
       " View project at <a href='https://wandb.ai/hn2237/dl_mini' target=\"_blank\">https://wandb.ai/hn2237/dl_mini</a>"
      ],
      "text/plain": [
       "<IPython.core.display.HTML object>"
      ]
     },
     "metadata": {},
     "output_type": "display_data"
    },
    {
     "data": {
      "text/html": [
       " View sweep at <a href='https://wandb.ai/hn2237/dl_mini/sweeps/ct9ebkvi' target=\"_blank\">https://wandb.ai/hn2237/dl_mini/sweeps/ct9ebkvi</a>"
      ],
      "text/plain": [
       "<IPython.core.display.HTML object>"
      ]
     },
     "metadata": {},
     "output_type": "display_data"
    },
    {
     "data": {
      "text/html": [
       " View run at <a href='https://wandb.ai/hn2237/dl_mini/runs/qnetl69f' target=\"_blank\">https://wandb.ai/hn2237/dl_mini/runs/qnetl69f</a>"
      ],
      "text/plain": [
       "<IPython.core.display.HTML object>"
      ]
     },
     "metadata": {},
     "output_type": "display_data"
    },
    {
     "name": "stdout",
     "output_type": "stream",
     "text": [
      "Running Epoch 0...\n",
      "Train==> Loss: 1.761 Acc: 35.404\n",
      "Test==> Loss: 1.509 Acc: 44.340\n",
      "Running Epoch 1...\n",
      "Train==> Loss: 1.449 Acc: 47.474\n",
      "Test==> Loss: 1.361 Acc: 50.250\n",
      "Running Epoch 2...\n",
      "Train==> Loss: 1.303 Acc: 53.172\n",
      "Test==> Loss: 1.234 Acc: 55.440\n",
      "Running Epoch 3...\n",
      "Train==> Loss: 1.203 Acc: 57.218\n",
      "Test==> Loss: 1.186 Acc: 57.650\n",
      "Running Epoch 4...\n",
      "Train==> Loss: 1.126 Acc: 59.856\n",
      "Test==> Loss: 1.101 Acc: 60.370\n",
      "Running Epoch 5...\n",
      "Train==> Loss: 1.059 Acc: 62.756\n",
      "Test==> Loss: 1.098 Acc: 61.180\n",
      "Running Epoch 6...\n",
      "Train==> Loss: 1.006 Acc: 64.528\n",
      "Test==> Loss: 0.996 Acc: 64.860\n",
      "Running Epoch 7...\n",
      "Train==> Loss: 0.963 Acc: 66.254\n",
      "Test==> Loss: 0.968 Acc: 65.250\n",
      "Running Epoch 8...\n",
      "Train==> Loss: 0.919 Acc: 67.884\n",
      "Test==> Loss: 0.939 Acc: 66.560\n",
      "Running Epoch 9...\n",
      "Train==> Loss: 0.884 Acc: 68.998\n",
      "Test==> Loss: 0.916 Acc: 68.070\n",
      "Running Epoch 10...\n",
      "Train==> Loss: 0.850 Acc: 70.260\n",
      "Test==> Loss: 1.046 Acc: 64.210\n",
      "Running Epoch 11...\n",
      "Train==> Loss: 0.817 Acc: 71.384\n",
      "Test==> Loss: 1.011 Acc: 65.690\n",
      "Running Epoch 12...\n",
      "Train==> Loss: 0.789 Acc: 72.164\n",
      "Test==> Loss: 0.831 Acc: 71.180\n",
      "Running Epoch 13...\n",
      "Train==> Loss: 0.762 Acc: 73.392\n",
      "Test==> Loss: 0.808 Acc: 71.600\n",
      "Running Epoch 14...\n",
      "Train==> Loss: 0.736 Acc: 74.312\n",
      "Test==> Loss: 0.813 Acc: 71.790\n",
      "Running Epoch 15...\n",
      "Train==> Loss: 0.709 Acc: 75.388\n",
      "Test==> Loss: 0.777 Acc: 73.020\n",
      "Running Epoch 16...\n",
      "Train==> Loss: 0.686 Acc: 76.088\n",
      "Test==> Loss: 0.758 Acc: 73.840\n",
      "Running Epoch 17...\n",
      "Train==> Loss: 0.665 Acc: 76.908\n",
      "Test==> Loss: 0.822 Acc: 71.740\n",
      "Running Epoch 18...\n",
      "Train==> Loss: 0.647 Acc: 77.300\n",
      "Test==> Loss: 0.714 Acc: 75.350\n",
      "Running Epoch 19...\n",
      "Train==> Loss: 0.629 Acc: 78.208\n",
      "Test==> Loss: 0.721 Acc: 75.170\n",
      "\n",
      "\n",
      "Best accuracy: 75.35\n"
     ]
    },
    {
     "data": {
      "text/html": [
       "Waiting for W&B process to finish... <strong style=\"color:green\">(success).</strong>"
      ],
      "text/plain": [
       "<IPython.core.display.HTML object>"
      ]
     },
     "metadata": {},
     "output_type": "display_data"
    },
    {
     "data": {
      "application/vnd.jupyter.widget-view+json": {
       "model_id": "59ddd32c8c624ae4b64c8654c3d684ab",
       "version_major": 2,
       "version_minor": 0
      },
      "text/plain": [
       "VBox(children=(Label(value='0.001 MB of 0.009 MB uploaded (0.000 MB deduped)\\r'), FloatProgress(value=0.122749…"
      ]
     },
     "metadata": {},
     "output_type": "display_data"
    },
    {
     "data": {
      "text/html": [
       "<style>\n",
       "    table.wandb td:nth-child(1) { padding: 0 10px; text-align: left ; width: auto;} td:nth-child(2) {text-align: left ; width: 100%}\n",
       "    .wandb-row { display: flex; flex-direction: row; flex-wrap: wrap; justify-content: flex-start; width: 100% }\n",
       "    .wandb-col { display: flex; flex-direction: column; flex-basis: 100%; flex: 1; padding: 10px; }\n",
       "    </style>\n",
       "<div class=\"wandb-row\"><div class=\"wandb-col\"><h3>Run history:</h3><br/><table class=\"wandb\"><tr><td>epoch</td><td>▁▁▂▂▂▃▃▄▄▄▅▅▅▆▆▇▇▇██</td></tr><tr><td>test_accuracy</td><td>▁▂▄▄▅▅▆▆▆▆▅▆▇▇▇▇█▇██</td></tr><tr><td>test_loss</td><td>█▇▆▅▄▄▃▃▃▃▄▄▂▂▂▂▁▂▁▁</td></tr><tr><td>train_accuracy</td><td>▁▃▄▅▅▅▆▆▆▆▇▇▇▇▇█████</td></tr><tr><td>train_loss</td><td>█▆▅▅▄▄▃▃▃▃▂▂▂▂▂▁▁▁▁▁</td></tr></table><br/></div><div class=\"wandb-col\"><h3>Run summary:</h3><br/><table class=\"wandb\"><tr><td>epoch</td><td>20</td></tr><tr><td>test_accuracy</td><td>75.17</td></tr><tr><td>test_loss</td><td>0.72111</td></tr><tr><td>train_accuracy</td><td>78.208</td></tr><tr><td>train_loss</td><td>0.62875</td></tr></table><br/></div></div>"
      ],
      "text/plain": [
       "<IPython.core.display.HTML object>"
      ]
     },
     "metadata": {},
     "output_type": "display_data"
    },
    {
     "data": {
      "text/html": [
       " View run <strong style=\"color:#cdcd00\">generous-sweep-5</strong> at: <a href='https://wandb.ai/hn2237/dl_mini/runs/qnetl69f' target=\"_blank\">https://wandb.ai/hn2237/dl_mini/runs/qnetl69f</a><br/>Synced 5 W&B file(s), 0 media file(s), 0 artifact file(s) and 0 other file(s)"
      ],
      "text/plain": [
       "<IPython.core.display.HTML object>"
      ]
     },
     "metadata": {},
     "output_type": "display_data"
    },
    {
     "data": {
      "text/html": [
       "Find logs at: <code>.\\wandb\\run-20230414_192950-qnetl69f\\logs</code>"
      ],
      "text/plain": [
       "<IPython.core.display.HTML object>"
      ]
     },
     "metadata": {},
     "output_type": "display_data"
    },
    {
     "name": "stderr",
     "output_type": "stream",
     "text": [
      "wandb: Agent Starting Run: qj16d1j2 with config:\n",
      "wandb: \tlearning_rate: 0.01\n",
      "wandb: \tmomentum: 0.9\n",
      "wandb: \toptimizer: adagrad\n",
      "wandb: \tweight_decay: 0.001\n"
     ]
    },
    {
     "data": {
      "text/html": [
       "Tracking run with wandb version 0.14.2"
      ],
      "text/plain": [
       "<IPython.core.display.HTML object>"
      ]
     },
     "metadata": {},
     "output_type": "display_data"
    },
    {
     "data": {
      "text/html": [
       "Run data is saved locally in <code>C:\\Users\\hnnha\\Desktop\\Hari_NYU\\Spring23\\DL\\Mini_Project\\wandb\\run-20230414_193549-qj16d1j2</code>"
      ],
      "text/plain": [
       "<IPython.core.display.HTML object>"
      ]
     },
     "metadata": {},
     "output_type": "display_data"
    },
    {
     "data": {
      "text/html": [
       "Syncing run <strong><a href='https://wandb.ai/hn2237/dl_mini/runs/qj16d1j2' target=\"_blank\">peachy-sweep-6</a></strong> to <a href='https://wandb.ai/hn2237/dl_mini' target=\"_blank\">Weights & Biases</a> (<a href='https://wandb.me/run' target=\"_blank\">docs</a>)<br/>Sweep page: <a href='https://wandb.ai/hn2237/dl_mini/sweeps/ct9ebkvi' target=\"_blank\">https://wandb.ai/hn2237/dl_mini/sweeps/ct9ebkvi</a>"
      ],
      "text/plain": [
       "<IPython.core.display.HTML object>"
      ]
     },
     "metadata": {},
     "output_type": "display_data"
    },
    {
     "data": {
      "text/html": [
       " View project at <a href='https://wandb.ai/hn2237/dl_mini' target=\"_blank\">https://wandb.ai/hn2237/dl_mini</a>"
      ],
      "text/plain": [
       "<IPython.core.display.HTML object>"
      ]
     },
     "metadata": {},
     "output_type": "display_data"
    },
    {
     "data": {
      "text/html": [
       " View sweep at <a href='https://wandb.ai/hn2237/dl_mini/sweeps/ct9ebkvi' target=\"_blank\">https://wandb.ai/hn2237/dl_mini/sweeps/ct9ebkvi</a>"
      ],
      "text/plain": [
       "<IPython.core.display.HTML object>"
      ]
     },
     "metadata": {},
     "output_type": "display_data"
    },
    {
     "data": {
      "text/html": [
       " View run at <a href='https://wandb.ai/hn2237/dl_mini/runs/qj16d1j2' target=\"_blank\">https://wandb.ai/hn2237/dl_mini/runs/qj16d1j2</a>"
      ],
      "text/plain": [
       "<IPython.core.display.HTML object>"
      ]
     },
     "metadata": {},
     "output_type": "display_data"
    },
    {
     "name": "stdout",
     "output_type": "stream",
     "text": [
      "Running Epoch 0...\n",
      "Train==> Loss: 1.593 Acc: 40.740\n",
      "Test==> Loss: 1.386 Acc: 48.660\n",
      "Running Epoch 1...\n",
      "Train==> Loss: 1.470 Acc: 45.586\n",
      "Test==> Loss: 1.168 Acc: 57.700\n",
      "Running Epoch 2...\n",
      "Train==> Loss: 1.422 Acc: 47.136\n",
      "Test==> Loss: 1.313 Acc: 53.160\n",
      "Running Epoch 3...\n",
      "Train==> Loss: 1.381 Acc: 49.102\n",
      "Test==> Loss: 1.173 Acc: 57.360\n",
      "Running Epoch 4...\n",
      "Train==> Loss: 1.354 Acc: 50.510\n",
      "Test==> Loss: 1.411 Acc: 52.450\n",
      "Running Epoch 5...\n",
      "Train==> Loss: 1.277 Acc: 53.240\n",
      "Test==> Loss: 1.109 Acc: 60.420\n",
      "Running Epoch 6...\n",
      "Train==> Loss: 1.210 Acc: 56.038\n",
      "Test==> Loss: 1.337 Acc: 52.830\n",
      "Running Epoch 7...\n",
      "Train==> Loss: 1.122 Acc: 59.534\n",
      "Test==> Loss: 0.977 Acc: 65.610\n",
      "Running Epoch 8...\n",
      "Train==> Loss: 1.037 Acc: 62.928\n",
      "Test==> Loss: 0.913 Acc: 67.170\n",
      "Running Epoch 9...\n",
      "Train==> Loss: 0.980 Acc: 65.046\n",
      "Test==> Loss: 1.029 Acc: 64.930\n",
      "Running Epoch 10...\n",
      "Train==> Loss: 0.915 Acc: 67.766\n",
      "Test==> Loss: 0.816 Acc: 71.440\n",
      "Running Epoch 11...\n",
      "Train==> Loss: 0.866 Acc: 69.474\n",
      "Test==> Loss: 0.937 Acc: 67.880\n",
      "Running Epoch 12...\n",
      "Train==> Loss: 0.802 Acc: 72.180\n",
      "Test==> Loss: 0.777 Acc: 73.720\n",
      "Running Epoch 13...\n",
      "Train==> Loss: 0.765 Acc: 73.356\n",
      "Test==> Loss: 0.761 Acc: 73.960\n",
      "Running Epoch 14...\n",
      "Train==> Loss: 0.730 Acc: 75.108\n",
      "Test==> Loss: 0.764 Acc: 74.260\n",
      "Running Epoch 15...\n",
      "Train==> Loss: 0.701 Acc: 75.908\n",
      "Test==> Loss: 0.664 Acc: 76.740\n",
      "Running Epoch 16...\n",
      "Train==> Loss: 0.664 Acc: 77.270\n",
      "Test==> Loss: 0.807 Acc: 73.360\n",
      "Running Epoch 17...\n",
      "Train==> Loss: 0.629 Acc: 78.666\n",
      "Test==> Loss: 0.607 Acc: 79.720\n",
      "Running Epoch 18...\n",
      "Train==> Loss: 0.609 Acc: 79.176\n",
      "Test==> Loss: 0.621 Acc: 79.130\n",
      "Running Epoch 19...\n",
      "Train==> Loss: 0.593 Acc: 79.724\n",
      "Test==> Loss: 0.932 Acc: 72.480\n",
      "\n",
      "\n",
      "Best accuracy: 79.72\n"
     ]
    },
    {
     "data": {
      "text/html": [
       "Waiting for W&B process to finish... <strong style=\"color:green\">(success).</strong>"
      ],
      "text/plain": [
       "<IPython.core.display.HTML object>"
      ]
     },
     "metadata": {},
     "output_type": "display_data"
    },
    {
     "data": {
      "application/vnd.jupyter.widget-view+json": {
       "model_id": "b8ba3e4437ad40ac9a398b00a3c6c23b",
       "version_major": 2,
       "version_minor": 0
      },
      "text/plain": [
       "VBox(children=(Label(value='0.001 MB of 0.001 MB uploaded (0.000 MB deduped)\\r'), FloatProgress(value=1.0, max…"
      ]
     },
     "metadata": {},
     "output_type": "display_data"
    },
    {
     "data": {
      "text/html": [
       "<style>\n",
       "    table.wandb td:nth-child(1) { padding: 0 10px; text-align: left ; width: auto;} td:nth-child(2) {text-align: left ; width: 100%}\n",
       "    .wandb-row { display: flex; flex-direction: row; flex-wrap: wrap; justify-content: flex-start; width: 100% }\n",
       "    .wandb-col { display: flex; flex-direction: column; flex-basis: 100%; flex: 1; padding: 10px; }\n",
       "    </style>\n",
       "<div class=\"wandb-row\"><div class=\"wandb-col\"><h3>Run history:</h3><br/><table class=\"wandb\"><tr><td>epoch</td><td>▁▁▂▂▂▃▃▄▄▄▅▅▅▆▆▇▇▇██</td></tr><tr><td>test_accuracy</td><td>▁▃▂▃▂▄▂▅▅▅▆▅▇▇▇▇▇██▆</td></tr><tr><td>test_loss</td><td>█▆▇▆█▅▇▄▄▅▃▄▂▂▂▁▃▁▁▄</td></tr><tr><td>train_accuracy</td><td>▁▂▂▃▃▃▄▄▅▅▆▆▇▇▇▇████</td></tr><tr><td>train_loss</td><td>█▇▇▇▆▆▅▅▄▄▃▃▂▂▂▂▁▁▁▁</td></tr></table><br/></div><div class=\"wandb-col\"><h3>Run summary:</h3><br/><table class=\"wandb\"><tr><td>epoch</td><td>20</td></tr><tr><td>test_accuracy</td><td>72.48</td></tr><tr><td>test_loss</td><td>0.93216</td></tr><tr><td>train_accuracy</td><td>79.724</td></tr><tr><td>train_loss</td><td>0.59329</td></tr></table><br/></div></div>"
      ],
      "text/plain": [
       "<IPython.core.display.HTML object>"
      ]
     },
     "metadata": {},
     "output_type": "display_data"
    },
    {
     "data": {
      "text/html": [
       " View run <strong style=\"color:#cdcd00\">peachy-sweep-6</strong> at: <a href='https://wandb.ai/hn2237/dl_mini/runs/qj16d1j2' target=\"_blank\">https://wandb.ai/hn2237/dl_mini/runs/qj16d1j2</a><br/>Synced 5 W&B file(s), 0 media file(s), 0 artifact file(s) and 0 other file(s)"
      ],
      "text/plain": [
       "<IPython.core.display.HTML object>"
      ]
     },
     "metadata": {},
     "output_type": "display_data"
    },
    {
     "data": {
      "text/html": [
       "Find logs at: <code>.\\wandb\\run-20230414_193549-qj16d1j2\\logs</code>"
      ],
      "text/plain": [
       "<IPython.core.display.HTML object>"
      ]
     },
     "metadata": {},
     "output_type": "display_data"
    },
    {
     "name": "stderr",
     "output_type": "stream",
     "text": [
      "wandb: Agent Starting Run: tn9wmiuw with config:\n",
      "wandb: \tlearning_rate: 0.1\n",
      "wandb: \tmomentum: 0.9\n",
      "wandb: \toptimizer: sgd-nesterov\n",
      "wandb: \tweight_decay: 0.0005\n"
     ]
    },
    {
     "data": {
      "application/vnd.jupyter.widget-view+json": {
       "model_id": "c639354af54a457baadcd428be96ffef",
       "version_major": 2,
       "version_minor": 0
      },
      "text/plain": [
       "VBox(children=(Label(value='Waiting for wandb.init()...\\r'), FloatProgress(value=0.016666666666666666, max=1.0…"
      ]
     },
     "metadata": {},
     "output_type": "display_data"
    },
    {
     "data": {
      "text/html": [
       "Tracking run with wandb version 0.14.2"
      ],
      "text/plain": [
       "<IPython.core.display.HTML object>"
      ]
     },
     "metadata": {},
     "output_type": "display_data"
    },
    {
     "data": {
      "text/html": [
       "Run data is saved locally in <code>C:\\Users\\hnnha\\Desktop\\Hari_NYU\\Spring23\\DL\\Mini_Project\\wandb\\run-20230414_194137-tn9wmiuw</code>"
      ],
      "text/plain": [
       "<IPython.core.display.HTML object>"
      ]
     },
     "metadata": {},
     "output_type": "display_data"
    },
    {
     "data": {
      "text/html": [
       "Syncing run <strong><a href='https://wandb.ai/hn2237/dl_mini/runs/tn9wmiuw' target=\"_blank\">woven-sweep-7</a></strong> to <a href='https://wandb.ai/hn2237/dl_mini' target=\"_blank\">Weights & Biases</a> (<a href='https://wandb.me/run' target=\"_blank\">docs</a>)<br/>Sweep page: <a href='https://wandb.ai/hn2237/dl_mini/sweeps/ct9ebkvi' target=\"_blank\">https://wandb.ai/hn2237/dl_mini/sweeps/ct9ebkvi</a>"
      ],
      "text/plain": [
       "<IPython.core.display.HTML object>"
      ]
     },
     "metadata": {},
     "output_type": "display_data"
    },
    {
     "data": {
      "text/html": [
       " View project at <a href='https://wandb.ai/hn2237/dl_mini' target=\"_blank\">https://wandb.ai/hn2237/dl_mini</a>"
      ],
      "text/plain": [
       "<IPython.core.display.HTML object>"
      ]
     },
     "metadata": {},
     "output_type": "display_data"
    },
    {
     "data": {
      "text/html": [
       " View sweep at <a href='https://wandb.ai/hn2237/dl_mini/sweeps/ct9ebkvi' target=\"_blank\">https://wandb.ai/hn2237/dl_mini/sweeps/ct9ebkvi</a>"
      ],
      "text/plain": [
       "<IPython.core.display.HTML object>"
      ]
     },
     "metadata": {},
     "output_type": "display_data"
    },
    {
     "data": {
      "text/html": [
       " View run at <a href='https://wandb.ai/hn2237/dl_mini/runs/tn9wmiuw' target=\"_blank\">https://wandb.ai/hn2237/dl_mini/runs/tn9wmiuw</a>"
      ],
      "text/plain": [
       "<IPython.core.display.HTML object>"
      ]
     },
     "metadata": {},
     "output_type": "display_data"
    },
    {
     "name": "stdout",
     "output_type": "stream",
     "text": [
      "Running Epoch 0...\n",
      "Train==> Loss: 1.554 Acc: 42.806\n",
      "Test==> Loss: 1.237 Acc: 56.170\n",
      "Running Epoch 1...\n",
      "Train==> Loss: 1.038 Acc: 62.908\n",
      "Test==> Loss: 1.109 Acc: 63.220\n",
      "Running Epoch 2...\n",
      "Train==> Loss: 0.850 Acc: 69.912\n",
      "Test==> Loss: 0.891 Acc: 70.000\n",
      "Running Epoch 3...\n",
      "Train==> Loss: 0.721 Acc: 74.822\n",
      "Test==> Loss: 0.703 Acc: 75.400\n",
      "Running Epoch 4...\n",
      "Train==> Loss: 0.619 Acc: 78.484\n",
      "Test==> Loss: 0.740 Acc: 75.730\n",
      "Running Epoch 5...\n",
      "Train==> Loss: 0.561 Acc: 80.614\n",
      "Test==> Loss: 0.678 Acc: 76.460\n",
      "Running Epoch 6...\n",
      "Train==> Loss: 0.520 Acc: 82.030\n",
      "Test==> Loss: 0.678 Acc: 77.260\n",
      "Running Epoch 7...\n",
      "Train==> Loss: 0.489 Acc: 83.200\n",
      "Test==> Loss: 0.570 Acc: 79.980\n",
      "Running Epoch 8...\n",
      "Train==> Loss: 0.469 Acc: 83.788\n",
      "Test==> Loss: 0.755 Acc: 76.430\n",
      "Running Epoch 9...\n",
      "Train==> Loss: 0.452 Acc: 84.406\n",
      "Test==> Loss: 0.850 Acc: 74.350\n",
      "Running Epoch 10...\n",
      "Train==> Loss: 0.439 Acc: 84.780\n",
      "Test==> Loss: 0.713 Acc: 76.180\n",
      "Running Epoch 11...\n",
      "Train==> Loss: 0.422 Acc: 85.578\n",
      "Test==> Loss: 0.918 Acc: 72.430\n",
      "Running Epoch 12...\n",
      "Train==> Loss: 0.411 Acc: 85.918\n",
      "Test==> Loss: 0.655 Acc: 78.470\n",
      "Running Epoch 13...\n",
      "Train==> Loss: 0.404 Acc: 86.148\n",
      "Test==> Loss: 0.597 Acc: 80.590\n",
      "Running Epoch 14...\n",
      "Train==> Loss: 0.396 Acc: 86.424\n",
      "Test==> Loss: 0.494 Acc: 83.460\n",
      "Running Epoch 15...\n",
      "Train==> Loss: 0.387 Acc: 86.738\n",
      "Test==> Loss: 0.675 Acc: 77.910\n",
      "Running Epoch 16...\n",
      "Train==> Loss: 0.387 Acc: 86.700\n",
      "Test==> Loss: 0.485 Acc: 83.400\n",
      "Running Epoch 17...\n",
      "Train==> Loss: 0.375 Acc: 86.948\n",
      "Test==> Loss: 0.509 Acc: 82.940\n",
      "Running Epoch 18...\n",
      "Train==> Loss: 0.376 Acc: 87.152\n",
      "Test==> Loss: 0.834 Acc: 75.960\n",
      "Running Epoch 19...\n",
      "Train==> Loss: 0.367 Acc: 87.396\n",
      "Test==> Loss: 0.416 Acc: 86.190\n",
      "\n",
      "\n",
      "Best accuracy: 86.19\n"
     ]
    },
    {
     "data": {
      "text/html": [
       "Waiting for W&B process to finish... <strong style=\"color:green\">(success).</strong>"
      ],
      "text/plain": [
       "<IPython.core.display.HTML object>"
      ]
     },
     "metadata": {},
     "output_type": "display_data"
    },
    {
     "data": {
      "application/vnd.jupyter.widget-view+json": {
       "model_id": "49462083407142e1b338bda702c2632a",
       "version_major": 2,
       "version_minor": 0
      },
      "text/plain": [
       "VBox(children=(Label(value='0.001 MB of 0.009 MB uploaded (0.000 MB deduped)\\r'), FloatProgress(value=0.119737…"
      ]
     },
     "metadata": {},
     "output_type": "display_data"
    },
    {
     "data": {
      "text/html": [
       "<style>\n",
       "    table.wandb td:nth-child(1) { padding: 0 10px; text-align: left ; width: auto;} td:nth-child(2) {text-align: left ; width: 100%}\n",
       "    .wandb-row { display: flex; flex-direction: row; flex-wrap: wrap; justify-content: flex-start; width: 100% }\n",
       "    .wandb-col { display: flex; flex-direction: column; flex-basis: 100%; flex: 1; padding: 10px; }\n",
       "    </style>\n",
       "<div class=\"wandb-row\"><div class=\"wandb-col\"><h3>Run history:</h3><br/><table class=\"wandb\"><tr><td>epoch</td><td>▁▁▂▂▂▃▃▄▄▄▅▅▅▆▆▇▇▇██</td></tr><tr><td>test_accuracy</td><td>▁▃▄▅▆▆▆▇▆▅▆▅▆▇▇▆▇▇▆█</td></tr><tr><td>test_loss</td><td>█▇▅▃▄▃▃▂▄▅▄▅▃▃▂▃▂▂▅▁</td></tr><tr><td>train_accuracy</td><td>▁▄▅▆▇▇▇▇▇███████████</td></tr><tr><td>train_loss</td><td>█▅▄▃▂▂▂▂▂▂▁▁▁▁▁▁▁▁▁▁</td></tr></table><br/></div><div class=\"wandb-col\"><h3>Run summary:</h3><br/><table class=\"wandb\"><tr><td>epoch</td><td>20</td></tr><tr><td>test_accuracy</td><td>86.19</td></tr><tr><td>test_loss</td><td>0.4156</td></tr><tr><td>train_accuracy</td><td>87.396</td></tr><tr><td>train_loss</td><td>0.36683</td></tr></table><br/></div></div>"
      ],
      "text/plain": [
       "<IPython.core.display.HTML object>"
      ]
     },
     "metadata": {},
     "output_type": "display_data"
    },
    {
     "data": {
      "text/html": [
       " View run <strong style=\"color:#cdcd00\">woven-sweep-7</strong> at: <a href='https://wandb.ai/hn2237/dl_mini/runs/tn9wmiuw' target=\"_blank\">https://wandb.ai/hn2237/dl_mini/runs/tn9wmiuw</a><br/>Synced 5 W&B file(s), 0 media file(s), 0 artifact file(s) and 0 other file(s)"
      ],
      "text/plain": [
       "<IPython.core.display.HTML object>"
      ]
     },
     "metadata": {},
     "output_type": "display_data"
    },
    {
     "data": {
      "text/html": [
       "Find logs at: <code>.\\wandb\\run-20230414_194137-tn9wmiuw\\logs</code>"
      ],
      "text/plain": [
       "<IPython.core.display.HTML object>"
      ]
     },
     "metadata": {},
     "output_type": "display_data"
    },
    {
     "name": "stderr",
     "output_type": "stream",
     "text": [
      "wandb: Sweep Agent: Waiting for job.\n",
      "wandb: Job received.\n",
      "wandb: Agent Starting Run: ldyx17l8 with config:\n",
      "wandb: \tlearning_rate: 0.01\n",
      "wandb: \tmomentum: 0.99\n",
      "wandb: \toptimizer: sgd-nesterov\n",
      "wandb: \tweight_decay: 0.001\n"
     ]
    },
    {
     "data": {
      "text/html": [
       "Tracking run with wandb version 0.14.2"
      ],
      "text/plain": [
       "<IPython.core.display.HTML object>"
      ]
     },
     "metadata": {},
     "output_type": "display_data"
    },
    {
     "data": {
      "text/html": [
       "Run data is saved locally in <code>C:\\Users\\hnnha\\Desktop\\Hari_NYU\\Spring23\\DL\\Mini_Project\\wandb\\run-20230414_194735-ldyx17l8</code>"
      ],
      "text/plain": [
       "<IPython.core.display.HTML object>"
      ]
     },
     "metadata": {},
     "output_type": "display_data"
    },
    {
     "data": {
      "text/html": [
       "Syncing run <strong><a href='https://wandb.ai/hn2237/dl_mini/runs/ldyx17l8' target=\"_blank\">sweet-sweep-8</a></strong> to <a href='https://wandb.ai/hn2237/dl_mini' target=\"_blank\">Weights & Biases</a> (<a href='https://wandb.me/run' target=\"_blank\">docs</a>)<br/>Sweep page: <a href='https://wandb.ai/hn2237/dl_mini/sweeps/ct9ebkvi' target=\"_blank\">https://wandb.ai/hn2237/dl_mini/sweeps/ct9ebkvi</a>"
      ],
      "text/plain": [
       "<IPython.core.display.HTML object>"
      ]
     },
     "metadata": {},
     "output_type": "display_data"
    },
    {
     "data": {
      "text/html": [
       " View project at <a href='https://wandb.ai/hn2237/dl_mini' target=\"_blank\">https://wandb.ai/hn2237/dl_mini</a>"
      ],
      "text/plain": [
       "<IPython.core.display.HTML object>"
      ]
     },
     "metadata": {},
     "output_type": "display_data"
    },
    {
     "data": {
      "text/html": [
       " View sweep at <a href='https://wandb.ai/hn2237/dl_mini/sweeps/ct9ebkvi' target=\"_blank\">https://wandb.ai/hn2237/dl_mini/sweeps/ct9ebkvi</a>"
      ],
      "text/plain": [
       "<IPython.core.display.HTML object>"
      ]
     },
     "metadata": {},
     "output_type": "display_data"
    },
    {
     "data": {
      "text/html": [
       " View run at <a href='https://wandb.ai/hn2237/dl_mini/runs/ldyx17l8' target=\"_blank\">https://wandb.ai/hn2237/dl_mini/runs/ldyx17l8</a>"
      ],
      "text/plain": [
       "<IPython.core.display.HTML object>"
      ]
     },
     "metadata": {},
     "output_type": "display_data"
    },
    {
     "name": "stdout",
     "output_type": "stream",
     "text": [
      "Running Epoch 0...\n",
      "Train==> Loss: 1.458 Acc: 46.556\n",
      "Test==> Loss: 1.496 Acc: 50.410\n",
      "Running Epoch 1...\n",
      "Train==> Loss: 1.048 Acc: 62.662\n",
      "Test==> Loss: 1.000 Acc: 63.810\n",
      "Running Epoch 2...\n",
      "Train==> Loss: 0.871 Acc: 69.054\n",
      "Test==> Loss: 1.031 Acc: 64.710\n",
      "Running Epoch 3...\n",
      "Train==> Loss: 0.746 Acc: 73.938\n",
      "Test==> Loss: 0.892 Acc: 69.500\n",
      "Running Epoch 4...\n",
      "Train==> Loss: 0.670 Acc: 76.808\n",
      "Test==> Loss: 0.726 Acc: 74.450\n",
      "Running Epoch 5...\n",
      "Train==> Loss: 0.618 Acc: 78.716\n",
      "Test==> Loss: 0.772 Acc: 74.940\n",
      "Running Epoch 6...\n",
      "Train==> Loss: 0.587 Acc: 79.970\n",
      "Test==> Loss: 0.666 Acc: 77.860\n",
      "Running Epoch 7...\n",
      "Train==> Loss: 0.552 Acc: 80.934\n",
      "Test==> Loss: 0.651 Acc: 78.420\n",
      "Running Epoch 8...\n",
      "Train==> Loss: 0.542 Acc: 81.358\n",
      "Test==> Loss: 0.734 Acc: 75.780\n",
      "Running Epoch 9...\n",
      "Train==> Loss: 0.524 Acc: 82.158\n",
      "Test==> Loss: 0.600 Acc: 79.590\n",
      "Running Epoch 10...\n",
      "Train==> Loss: 0.517 Acc: 82.116\n",
      "Test==> Loss: 0.705 Acc: 76.560\n",
      "Running Epoch 11...\n",
      "Train==> Loss: 0.507 Acc: 82.620\n",
      "Test==> Loss: 0.671 Acc: 77.630\n",
      "Running Epoch 12...\n",
      "Train==> Loss: 0.499 Acc: 82.850\n",
      "Test==> Loss: 0.596 Acc: 79.260\n",
      "Running Epoch 13...\n",
      "Train==> Loss: 0.497 Acc: 82.922\n",
      "Test==> Loss: 0.819 Acc: 74.450\n",
      "Running Epoch 14...\n",
      "Train==> Loss: 0.492 Acc: 83.264\n",
      "Test==> Loss: 0.614 Acc: 79.210\n",
      "Running Epoch 15...\n",
      "Train==> Loss: 0.486 Acc: 83.550\n",
      "Test==> Loss: 0.711 Acc: 77.000\n",
      "Running Epoch 16...\n",
      "Train==> Loss: 0.495 Acc: 83.138\n",
      "Test==> Loss: 0.745 Acc: 75.850\n",
      "Running Epoch 17...\n",
      "Train==> Loss: 0.483 Acc: 83.524\n",
      "Test==> Loss: 0.625 Acc: 79.570\n",
      "Running Epoch 18...\n",
      "Train==> Loss: 0.476 Acc: 83.638\n",
      "Test==> Loss: 0.666 Acc: 77.990\n",
      "Running Epoch 19...\n",
      "Train==> Loss: 0.477 Acc: 83.722\n",
      "Test==> Loss: 0.642 Acc: 78.170\n",
      "\n",
      "\n",
      "Best accuracy: 79.59\n"
     ]
    },
    {
     "data": {
      "text/html": [
       "Waiting for W&B process to finish... <strong style=\"color:green\">(success).</strong>"
      ],
      "text/plain": [
       "<IPython.core.display.HTML object>"
      ]
     },
     "metadata": {},
     "output_type": "display_data"
    },
    {
     "data": {
      "application/vnd.jupyter.widget-view+json": {
       "model_id": "6622751fd1a24bcbb9ccad91d9e05300",
       "version_major": 2,
       "version_minor": 0
      },
      "text/plain": [
       "VBox(children=(Label(value='0.001 MB of 0.001 MB uploaded (0.000 MB deduped)\\r'), FloatProgress(value=1.0, max…"
      ]
     },
     "metadata": {},
     "output_type": "display_data"
    },
    {
     "data": {
      "text/html": [
       "<style>\n",
       "    table.wandb td:nth-child(1) { padding: 0 10px; text-align: left ; width: auto;} td:nth-child(2) {text-align: left ; width: 100%}\n",
       "    .wandb-row { display: flex; flex-direction: row; flex-wrap: wrap; justify-content: flex-start; width: 100% }\n",
       "    .wandb-col { display: flex; flex-direction: column; flex-basis: 100%; flex: 1; padding: 10px; }\n",
       "    </style>\n",
       "<div class=\"wandb-row\"><div class=\"wandb-col\"><h3>Run history:</h3><br/><table class=\"wandb\"><tr><td>epoch</td><td>▁▁▂▂▂▃▃▄▄▄▅▅▅▆▆▇▇▇██</td></tr><tr><td>test_accuracy</td><td>▁▄▄▆▇▇██▇█▇██▇█▇▇███</td></tr><tr><td>test_loss</td><td>█▄▄▃▂▂▂▁▂▁▂▂▁▃▁▂▂▁▂▁</td></tr><tr><td>train_accuracy</td><td>▁▄▅▆▇▇▇▇████████████</td></tr><tr><td>train_loss</td><td>█▅▄▃▂▂▂▂▁▁▁▁▁▁▁▁▁▁▁▁</td></tr></table><br/></div><div class=\"wandb-col\"><h3>Run summary:</h3><br/><table class=\"wandb\"><tr><td>epoch</td><td>20</td></tr><tr><td>test_accuracy</td><td>78.17</td></tr><tr><td>test_loss</td><td>0.64191</td></tr><tr><td>train_accuracy</td><td>83.722</td></tr><tr><td>train_loss</td><td>0.47668</td></tr></table><br/></div></div>"
      ],
      "text/plain": [
       "<IPython.core.display.HTML object>"
      ]
     },
     "metadata": {},
     "output_type": "display_data"
    },
    {
     "data": {
      "text/html": [
       " View run <strong style=\"color:#cdcd00\">sweet-sweep-8</strong> at: <a href='https://wandb.ai/hn2237/dl_mini/runs/ldyx17l8' target=\"_blank\">https://wandb.ai/hn2237/dl_mini/runs/ldyx17l8</a><br/>Synced 5 W&B file(s), 0 media file(s), 0 artifact file(s) and 0 other file(s)"
      ],
      "text/plain": [
       "<IPython.core.display.HTML object>"
      ]
     },
     "metadata": {},
     "output_type": "display_data"
    },
    {
     "data": {
      "text/html": [
       "Find logs at: <code>.\\wandb\\run-20230414_194735-ldyx17l8\\logs</code>"
      ],
      "text/plain": [
       "<IPython.core.display.HTML object>"
      ]
     },
     "metadata": {},
     "output_type": "display_data"
    },
    {
     "name": "stderr",
     "output_type": "stream",
     "text": [
      "wandb: Agent Starting Run: qrf0frtf with config:\n",
      "wandb: \tlearning_rate: 0.1\n",
      "wandb: \tmomentum: 0.99\n",
      "wandb: \toptimizer: sgd-nesterov\n",
      "wandb: \tweight_decay: 0.0005\n"
     ]
    },
    {
     "data": {
      "text/html": [
       "Tracking run with wandb version 0.14.2"
      ],
      "text/plain": [
       "<IPython.core.display.HTML object>"
      ]
     },
     "metadata": {},
     "output_type": "display_data"
    },
    {
     "data": {
      "text/html": [
       "Run data is saved locally in <code>C:\\Users\\hnnha\\Desktop\\Hari_NYU\\Spring23\\DL\\Mini_Project\\wandb\\run-20230414_195332-qrf0frtf</code>"
      ],
      "text/plain": [
       "<IPython.core.display.HTML object>"
      ]
     },
     "metadata": {},
     "output_type": "display_data"
    },
    {
     "data": {
      "text/html": [
       "Syncing run <strong><a href='https://wandb.ai/hn2237/dl_mini/runs/qrf0frtf' target=\"_blank\">tough-sweep-9</a></strong> to <a href='https://wandb.ai/hn2237/dl_mini' target=\"_blank\">Weights & Biases</a> (<a href='https://wandb.me/run' target=\"_blank\">docs</a>)<br/>Sweep page: <a href='https://wandb.ai/hn2237/dl_mini/sweeps/ct9ebkvi' target=\"_blank\">https://wandb.ai/hn2237/dl_mini/sweeps/ct9ebkvi</a>"
      ],
      "text/plain": [
       "<IPython.core.display.HTML object>"
      ]
     },
     "metadata": {},
     "output_type": "display_data"
    },
    {
     "data": {
      "text/html": [
       " View project at <a href='https://wandb.ai/hn2237/dl_mini' target=\"_blank\">https://wandb.ai/hn2237/dl_mini</a>"
      ],
      "text/plain": [
       "<IPython.core.display.HTML object>"
      ]
     },
     "metadata": {},
     "output_type": "display_data"
    },
    {
     "data": {
      "text/html": [
       " View sweep at <a href='https://wandb.ai/hn2237/dl_mini/sweeps/ct9ebkvi' target=\"_blank\">https://wandb.ai/hn2237/dl_mini/sweeps/ct9ebkvi</a>"
      ],
      "text/plain": [
       "<IPython.core.display.HTML object>"
      ]
     },
     "metadata": {},
     "output_type": "display_data"
    },
    {
     "data": {
      "text/html": [
       " View run at <a href='https://wandb.ai/hn2237/dl_mini/runs/qrf0frtf' target=\"_blank\">https://wandb.ai/hn2237/dl_mini/runs/qrf0frtf</a>"
      ],
      "text/plain": [
       "<IPython.core.display.HTML object>"
      ]
     },
     "metadata": {},
     "output_type": "display_data"
    },
    {
     "name": "stdout",
     "output_type": "stream",
     "text": [
      "Running Epoch 0...\n",
      "Train==> Loss: 2.043 Acc: 24.478\n",
      "Test==> Loss: 1.986 Acc: 22.980\n",
      "Running Epoch 1...\n",
      "Train==> Loss: 1.561 Acc: 42.448\n",
      "Test==> Loss: 1.531 Acc: 45.910\n",
      "Running Epoch 2...\n",
      "Train==> Loss: 1.269 Acc: 54.512\n",
      "Test==> Loss: 1.233 Acc: 56.490\n",
      "Running Epoch 3...\n",
      "Train==> Loss: 1.119 Acc: 60.108\n",
      "Test==> Loss: 1.159 Acc: 58.970\n",
      "Running Epoch 4...\n",
      "Train==> Loss: 1.024 Acc: 63.936\n",
      "Test==> Loss: 1.485 Acc: 54.130\n",
      "Running Epoch 5...\n",
      "Train==> Loss: 0.964 Acc: 66.228\n",
      "Test==> Loss: 1.632 Acc: 51.230\n",
      "Running Epoch 6...\n",
      "Train==> Loss: 0.930 Acc: 67.620\n",
      "Test==> Loss: 1.588 Acc: 52.580\n",
      "Running Epoch 7...\n",
      "Train==> Loss: 0.924 Acc: 67.816\n",
      "Test==> Loss: 1.461 Acc: 57.140\n",
      "Running Epoch 8...\n",
      "Train==> Loss: 0.916 Acc: 68.134\n",
      "Test==> Loss: 1.379 Acc: 56.490\n",
      "Running Epoch 9...\n",
      "Train==> Loss: 0.909 Acc: 68.410\n",
      "Test==> Loss: 1.103 Acc: 62.220\n",
      "Running Epoch 10...\n",
      "Train==> Loss: 0.896 Acc: 68.860\n",
      "Test==> Loss: 0.910 Acc: 68.110\n",
      "Running Epoch 11...\n",
      "Train==> Loss: 0.904 Acc: 68.396\n",
      "Test==> Loss: 1.545 Acc: 54.410\n",
      "Running Epoch 12...\n",
      "Train==> Loss: 0.902 Acc: 68.794\n",
      "Test==> Loss: 1.001 Acc: 63.860\n",
      "Running Epoch 13...\n",
      "Train==> Loss: 0.906 Acc: 68.574\n",
      "Test==> Loss: 1.193 Acc: 60.150\n",
      "Running Epoch 14...\n",
      "Train==> Loss: 0.912 Acc: 68.374\n",
      "Test==> Loss: 1.331 Acc: 57.020\n",
      "Running Epoch 15...\n",
      "Train==> Loss: 0.913 Acc: 68.338\n",
      "Test==> Loss: 2.012 Acc: 46.060\n",
      "Running Epoch 16...\n",
      "Train==> Loss: 0.910 Acc: 68.480\n",
      "Test==> Loss: 1.720 Acc: 49.350\n",
      "Running Epoch 17...\n",
      "Train==> Loss: 0.922 Acc: 67.868\n",
      "Test==> Loss: 1.260 Acc: 59.010\n",
      "Running Epoch 18...\n",
      "Train==> Loss: 0.909 Acc: 68.370\n",
      "Test==> Loss: 1.423 Acc: 55.870\n",
      "Running Epoch 19...\n",
      "Train==> Loss: 0.912 Acc: 68.258\n",
      "Test==> Loss: 1.452 Acc: 54.950\n",
      "\n",
      "\n",
      "Best accuracy: 68.11\n"
     ]
    },
    {
     "data": {
      "text/html": [
       "Waiting for W&B process to finish... <strong style=\"color:green\">(success).</strong>"
      ],
      "text/plain": [
       "<IPython.core.display.HTML object>"
      ]
     },
     "metadata": {},
     "output_type": "display_data"
    },
    {
     "data": {
      "application/vnd.jupyter.widget-view+json": {
       "model_id": "65f4a65908934303987d53e1a683b892",
       "version_major": 2,
       "version_minor": 0
      },
      "text/plain": [
       "VBox(children=(Label(value='0.001 MB of 0.009 MB uploaded (0.000 MB deduped)\\r'), FloatProgress(value=0.119737…"
      ]
     },
     "metadata": {},
     "output_type": "display_data"
    },
    {
     "data": {
      "text/html": [
       "<style>\n",
       "    table.wandb td:nth-child(1) { padding: 0 10px; text-align: left ; width: auto;} td:nth-child(2) {text-align: left ; width: 100%}\n",
       "    .wandb-row { display: flex; flex-direction: row; flex-wrap: wrap; justify-content: flex-start; width: 100% }\n",
       "    .wandb-col { display: flex; flex-direction: column; flex-basis: 100%; flex: 1; padding: 10px; }\n",
       "    </style>\n",
       "<div class=\"wandb-row\"><div class=\"wandb-col\"><h3>Run history:</h3><br/><table class=\"wandb\"><tr><td>epoch</td><td>▁▁▂▂▂▃▃▄▄▄▅▅▅▆▆▇▇▇██</td></tr><tr><td>test_accuracy</td><td>▁▅▆▇▆▅▆▆▆▇█▆▇▇▆▅▅▇▆▆</td></tr><tr><td>test_loss</td><td>█▅▃▃▅▆▅▄▄▂▁▅▂▃▄█▆▃▄▄</td></tr><tr><td>train_accuracy</td><td>▁▄▆▇▇███████████████</td></tr><tr><td>train_loss</td><td>█▅▃▂▂▁▁▁▁▁▁▁▁▁▁▁▁▁▁▁</td></tr></table><br/></div><div class=\"wandb-col\"><h3>Run summary:</h3><br/><table class=\"wandb\"><tr><td>epoch</td><td>20</td></tr><tr><td>test_accuracy</td><td>54.95</td></tr><tr><td>test_loss</td><td>1.45222</td></tr><tr><td>train_accuracy</td><td>68.258</td></tr><tr><td>train_loss</td><td>0.91202</td></tr></table><br/></div></div>"
      ],
      "text/plain": [
       "<IPython.core.display.HTML object>"
      ]
     },
     "metadata": {},
     "output_type": "display_data"
    },
    {
     "data": {
      "text/html": [
       " View run <strong style=\"color:#cdcd00\">tough-sweep-9</strong> at: <a href='https://wandb.ai/hn2237/dl_mini/runs/qrf0frtf' target=\"_blank\">https://wandb.ai/hn2237/dl_mini/runs/qrf0frtf</a><br/>Synced 5 W&B file(s), 0 media file(s), 0 artifact file(s) and 0 other file(s)"
      ],
      "text/plain": [
       "<IPython.core.display.HTML object>"
      ]
     },
     "metadata": {},
     "output_type": "display_data"
    },
    {
     "data": {
      "text/html": [
       "Find logs at: <code>.\\wandb\\run-20230414_195332-qrf0frtf\\logs</code>"
      ],
      "text/plain": [
       "<IPython.core.display.HTML object>"
      ]
     },
     "metadata": {},
     "output_type": "display_data"
    },
    {
     "name": "stderr",
     "output_type": "stream",
     "text": [
      "wandb: Agent Starting Run: i9x69au7 with config:\n",
      "wandb: \tlearning_rate: 0.1\n",
      "wandb: \tmomentum: 0.99\n",
      "wandb: \toptimizer: adadelta\n",
      "wandb: \tweight_decay: 0.001\n"
     ]
    },
    {
     "data": {
      "text/html": [
       "Tracking run with wandb version 0.14.2"
      ],
      "text/plain": [
       "<IPython.core.display.HTML object>"
      ]
     },
     "metadata": {},
     "output_type": "display_data"
    },
    {
     "data": {
      "text/html": [
       "Run data is saved locally in <code>C:\\Users\\hnnha\\Desktop\\Hari_NYU\\Spring23\\DL\\Mini_Project\\wandb\\run-20230414_195923-i9x69au7</code>"
      ],
      "text/plain": [
       "<IPython.core.display.HTML object>"
      ]
     },
     "metadata": {},
     "output_type": "display_data"
    },
    {
     "data": {
      "text/html": [
       "Syncing run <strong><a href='https://wandb.ai/hn2237/dl_mini/runs/i9x69au7' target=\"_blank\">gallant-sweep-10</a></strong> to <a href='https://wandb.ai/hn2237/dl_mini' target=\"_blank\">Weights & Biases</a> (<a href='https://wandb.me/run' target=\"_blank\">docs</a>)<br/>Sweep page: <a href='https://wandb.ai/hn2237/dl_mini/sweeps/ct9ebkvi' target=\"_blank\">https://wandb.ai/hn2237/dl_mini/sweeps/ct9ebkvi</a>"
      ],
      "text/plain": [
       "<IPython.core.display.HTML object>"
      ]
     },
     "metadata": {},
     "output_type": "display_data"
    },
    {
     "data": {
      "text/html": [
       " View project at <a href='https://wandb.ai/hn2237/dl_mini' target=\"_blank\">https://wandb.ai/hn2237/dl_mini</a>"
      ],
      "text/plain": [
       "<IPython.core.display.HTML object>"
      ]
     },
     "metadata": {},
     "output_type": "display_data"
    },
    {
     "data": {
      "text/html": [
       " View sweep at <a href='https://wandb.ai/hn2237/dl_mini/sweeps/ct9ebkvi' target=\"_blank\">https://wandb.ai/hn2237/dl_mini/sweeps/ct9ebkvi</a>"
      ],
      "text/plain": [
       "<IPython.core.display.HTML object>"
      ]
     },
     "metadata": {},
     "output_type": "display_data"
    },
    {
     "data": {
      "text/html": [
       " View run at <a href='https://wandb.ai/hn2237/dl_mini/runs/i9x69au7' target=\"_blank\">https://wandb.ai/hn2237/dl_mini/runs/i9x69au7</a>"
      ],
      "text/plain": [
       "<IPython.core.display.HTML object>"
      ]
     },
     "metadata": {},
     "output_type": "display_data"
    },
    {
     "name": "stdout",
     "output_type": "stream",
     "text": [
      "Running Epoch 0...\n",
      "Train==> Loss: 1.408 Acc: 48.710\n",
      "Test==> Loss: 1.248 Acc: 55.750\n",
      "Running Epoch 1...\n",
      "Train==> Loss: 0.967 Acc: 65.538\n",
      "Test==> Loss: 1.095 Acc: 64.110\n",
      "Running Epoch 2...\n",
      "Train==> Loss: 0.792 Acc: 72.404\n",
      "Test==> Loss: 0.807 Acc: 71.740\n",
      "Running Epoch 3...\n",
      "Train==> Loss: 0.668 Acc: 76.818\n",
      "Test==> Loss: 0.738 Acc: 74.650\n",
      "Running Epoch 4...\n",
      "Train==> Loss: 0.589 Acc: 79.536\n",
      "Test==> Loss: 0.752 Acc: 75.290\n",
      "Running Epoch 5...\n",
      "Train==> Loss: 0.529 Acc: 81.684\n",
      "Test==> Loss: 0.635 Acc: 77.700\n",
      "Running Epoch 6...\n",
      "Train==> Loss: 0.487 Acc: 82.994\n",
      "Test==> Loss: 0.564 Acc: 80.290\n",
      "Running Epoch 7...\n",
      "Train==> Loss: 0.448 Acc: 84.534\n",
      "Test==> Loss: 0.734 Acc: 77.490\n",
      "Running Epoch 8...\n",
      "Train==> Loss: 0.421 Acc: 85.506\n",
      "Test==> Loss: 0.584 Acc: 80.770\n",
      "Running Epoch 9...\n",
      "Train==> Loss: 0.396 Acc: 86.424\n",
      "Test==> Loss: 0.566 Acc: 81.290\n",
      "Running Epoch 10...\n",
      "Train==> Loss: 0.370 Acc: 87.126\n",
      "Test==> Loss: 0.492 Acc: 83.640\n",
      "Running Epoch 11...\n",
      "Train==> Loss: 0.351 Acc: 87.930\n",
      "Test==> Loss: 0.528 Acc: 82.420\n",
      "Running Epoch 12...\n",
      "Train==> Loss: 0.330 Acc: 88.626\n",
      "Test==> Loss: 0.625 Acc: 80.230\n",
      "Running Epoch 13...\n",
      "Train==> Loss: 0.317 Acc: 89.136\n",
      "Test==> Loss: 0.518 Acc: 84.220\n",
      "Running Epoch 14...\n",
      "Train==> Loss: 0.300 Acc: 89.596\n",
      "Test==> Loss: 0.517 Acc: 83.780\n",
      "Running Epoch 15...\n",
      "Train==> Loss: 0.283 Acc: 90.244\n",
      "Test==> Loss: 0.562 Acc: 81.900\n",
      "Running Epoch 16...\n",
      "Train==> Loss: 0.273 Acc: 90.518\n",
      "Test==> Loss: 0.455 Acc: 85.590\n",
      "Running Epoch 17...\n",
      "Train==> Loss: 0.263 Acc: 90.904\n",
      "Test==> Loss: 0.537 Acc: 84.030\n",
      "Running Epoch 18...\n",
      "Train==> Loss: 0.253 Acc: 91.260\n",
      "Test==> Loss: 0.382 Acc: 87.410\n",
      "Running Epoch 19...\n",
      "Train==> Loss: 0.240 Acc: 91.766\n",
      "Test==> Loss: 0.481 Acc: 85.120\n",
      "\n",
      "\n",
      "Best accuracy: 87.41\n"
     ]
    },
    {
     "data": {
      "text/html": [
       "Waiting for W&B process to finish... <strong style=\"color:green\">(success).</strong>"
      ],
      "text/plain": [
       "<IPython.core.display.HTML object>"
      ]
     },
     "metadata": {},
     "output_type": "display_data"
    },
    {
     "data": {
      "application/vnd.jupyter.widget-view+json": {
       "model_id": "f9252e38b61c4f359706b4dbb9f17f70",
       "version_major": 2,
       "version_minor": 0
      },
      "text/plain": [
       "VBox(children=(Label(value='0.001 MB of 0.001 MB uploaded (0.000 MB deduped)\\r'), FloatProgress(value=1.0, max…"
      ]
     },
     "metadata": {},
     "output_type": "display_data"
    },
    {
     "data": {
      "text/html": [
       "<style>\n",
       "    table.wandb td:nth-child(1) { padding: 0 10px; text-align: left ; width: auto;} td:nth-child(2) {text-align: left ; width: 100%}\n",
       "    .wandb-row { display: flex; flex-direction: row; flex-wrap: wrap; justify-content: flex-start; width: 100% }\n",
       "    .wandb-col { display: flex; flex-direction: column; flex-basis: 100%; flex: 1; padding: 10px; }\n",
       "    </style>\n",
       "<div class=\"wandb-row\"><div class=\"wandb-col\"><h3>Run history:</h3><br/><table class=\"wandb\"><tr><td>epoch</td><td>▁▁▂▂▂▃▃▄▄▄▅▅▅▆▆▇▇▇██</td></tr><tr><td>test_accuracy</td><td>▁▃▅▅▅▆▆▆▇▇▇▇▆▇▇▇█▇█▇</td></tr><tr><td>test_loss</td><td>█▇▄▄▄▃▂▄▃▂▂▂▃▂▂▂▂▂▁▂</td></tr><tr><td>train_accuracy</td><td>▁▄▅▆▆▆▇▇▇▇▇▇▇███████</td></tr><tr><td>train_loss</td><td>█▅▄▄▃▃▂▂▂▂▂▂▂▁▁▁▁▁▁▁</td></tr></table><br/></div><div class=\"wandb-col\"><h3>Run summary:</h3><br/><table class=\"wandb\"><tr><td>epoch</td><td>20</td></tr><tr><td>test_accuracy</td><td>85.12</td></tr><tr><td>test_loss</td><td>0.48133</td></tr><tr><td>train_accuracy</td><td>91.766</td></tr><tr><td>train_loss</td><td>0.2397</td></tr></table><br/></div></div>"
      ],
      "text/plain": [
       "<IPython.core.display.HTML object>"
      ]
     },
     "metadata": {},
     "output_type": "display_data"
    },
    {
     "data": {
      "text/html": [
       " View run <strong style=\"color:#cdcd00\">gallant-sweep-10</strong> at: <a href='https://wandb.ai/hn2237/dl_mini/runs/i9x69au7' target=\"_blank\">https://wandb.ai/hn2237/dl_mini/runs/i9x69au7</a><br/>Synced 5 W&B file(s), 0 media file(s), 0 artifact file(s) and 0 other file(s)"
      ],
      "text/plain": [
       "<IPython.core.display.HTML object>"
      ]
     },
     "metadata": {},
     "output_type": "display_data"
    },
    {
     "data": {
      "text/html": [
       "Find logs at: <code>.\\wandb\\run-20230414_195923-i9x69au7\\logs</code>"
      ],
      "text/plain": [
       "<IPython.core.display.HTML object>"
      ]
     },
     "metadata": {},
     "output_type": "display_data"
    },
    {
     "name": "stderr",
     "output_type": "stream",
     "text": [
      "wandb: Agent Starting Run: pcmowcac with config:\n",
      "wandb: \tlearning_rate: 0.01\n",
      "wandb: \tmomentum: 0.9\n",
      "wandb: \toptimizer: adadelta\n",
      "wandb: \tweight_decay: 0.0005\n"
     ]
    },
    {
     "data": {
      "text/html": [
       "Tracking run with wandb version 0.14.2"
      ],
      "text/plain": [
       "<IPython.core.display.HTML object>"
      ]
     },
     "metadata": {},
     "output_type": "display_data"
    },
    {
     "data": {
      "text/html": [
       "Run data is saved locally in <code>C:\\Users\\hnnha\\Desktop\\Hari_NYU\\Spring23\\DL\\Mini_Project\\wandb\\run-20230414_200522-pcmowcac</code>"
      ],
      "text/plain": [
       "<IPython.core.display.HTML object>"
      ]
     },
     "metadata": {},
     "output_type": "display_data"
    },
    {
     "data": {
      "text/html": [
       "Syncing run <strong><a href='https://wandb.ai/hn2237/dl_mini/runs/pcmowcac' target=\"_blank\">crimson-sweep-11</a></strong> to <a href='https://wandb.ai/hn2237/dl_mini' target=\"_blank\">Weights & Biases</a> (<a href='https://wandb.me/run' target=\"_blank\">docs</a>)<br/>Sweep page: <a href='https://wandb.ai/hn2237/dl_mini/sweeps/ct9ebkvi' target=\"_blank\">https://wandb.ai/hn2237/dl_mini/sweeps/ct9ebkvi</a>"
      ],
      "text/plain": [
       "<IPython.core.display.HTML object>"
      ]
     },
     "metadata": {},
     "output_type": "display_data"
    },
    {
     "data": {
      "text/html": [
       " View project at <a href='https://wandb.ai/hn2237/dl_mini' target=\"_blank\">https://wandb.ai/hn2237/dl_mini</a>"
      ],
      "text/plain": [
       "<IPython.core.display.HTML object>"
      ]
     },
     "metadata": {},
     "output_type": "display_data"
    },
    {
     "data": {
      "text/html": [
       " View sweep at <a href='https://wandb.ai/hn2237/dl_mini/sweeps/ct9ebkvi' target=\"_blank\">https://wandb.ai/hn2237/dl_mini/sweeps/ct9ebkvi</a>"
      ],
      "text/plain": [
       "<IPython.core.display.HTML object>"
      ]
     },
     "metadata": {},
     "output_type": "display_data"
    },
    {
     "data": {
      "text/html": [
       " View run at <a href='https://wandb.ai/hn2237/dl_mini/runs/pcmowcac' target=\"_blank\">https://wandb.ai/hn2237/dl_mini/runs/pcmowcac</a>"
      ],
      "text/plain": [
       "<IPython.core.display.HTML object>"
      ]
     },
     "metadata": {},
     "output_type": "display_data"
    },
    {
     "name": "stdout",
     "output_type": "stream",
     "text": [
      "Running Epoch 0...\n",
      "Train==> Loss: 1.767 Acc: 35.500\n",
      "Test==> Loss: 1.488 Acc: 45.370\n",
      "Running Epoch 1...\n",
      "Train==> Loss: 1.438 Acc: 47.926\n",
      "Test==> Loss: 1.350 Acc: 50.580\n",
      "Running Epoch 2...\n",
      "Train==> Loss: 1.292 Acc: 53.336\n",
      "Test==> Loss: 1.244 Acc: 54.470\n",
      "Running Epoch 3...\n",
      "Train==> Loss: 1.193 Acc: 57.366\n",
      "Test==> Loss: 1.151 Acc: 58.900\n",
      "Running Epoch 4...\n",
      "Train==> Loss: 1.117 Acc: 59.968\n",
      "Test==> Loss: 1.124 Acc: 59.780\n",
      "Running Epoch 5...\n",
      "Train==> Loss: 1.058 Acc: 62.338\n",
      "Test==> Loss: 1.039 Acc: 62.510\n",
      "Running Epoch 6...\n",
      "Train==> Loss: 1.007 Acc: 64.354\n",
      "Test==> Loss: 1.034 Acc: 62.920\n",
      "Running Epoch 7...\n",
      "Train==> Loss: 0.960 Acc: 65.968\n",
      "Test==> Loss: 0.975 Acc: 65.480\n",
      "Running Epoch 8...\n",
      "Train==> Loss: 0.921 Acc: 67.326\n",
      "Test==> Loss: 0.953 Acc: 65.750\n",
      "Running Epoch 9...\n",
      "Train==> Loss: 0.885 Acc: 68.744\n",
      "Test==> Loss: 0.917 Acc: 67.570\n",
      "Running Epoch 10...\n",
      "Train==> Loss: 0.855 Acc: 69.878\n",
      "Test==> Loss: 0.910 Acc: 68.190\n",
      "Running Epoch 11...\n",
      "Train==> Loss: 0.823 Acc: 71.032\n",
      "Test==> Loss: 0.867 Acc: 69.980\n",
      "Running Epoch 12...\n",
      "Train==> Loss: 0.801 Acc: 71.790\n",
      "Test==> Loss: 0.895 Acc: 68.340\n",
      "Running Epoch 13...\n",
      "Train==> Loss: 0.773 Acc: 72.892\n",
      "Test==> Loss: 0.873 Acc: 69.450\n",
      "Running Epoch 14...\n",
      "Train==> Loss: 0.752 Acc: 73.792\n",
      "Test==> Loss: 0.803 Acc: 71.900\n",
      "Running Epoch 15...\n",
      "Train==> Loss: 0.727 Acc: 74.670\n",
      "Test==> Loss: 0.810 Acc: 72.250\n",
      "Running Epoch 16...\n",
      "Train==> Loss: 0.702 Acc: 75.608\n",
      "Test==> Loss: 0.789 Acc: 72.890\n",
      "Running Epoch 17...\n",
      "Train==> Loss: 0.684 Acc: 76.152\n",
      "Test==> Loss: 0.804 Acc: 72.560\n",
      "Running Epoch 18...\n",
      "Train==> Loss: 0.665 Acc: 76.910\n",
      "Test==> Loss: 0.772 Acc: 73.730\n",
      "Running Epoch 19...\n",
      "Train==> Loss: 0.646 Acc: 77.796\n",
      "Test==> Loss: 0.722 Acc: 74.940\n",
      "\n",
      "\n",
      "Best accuracy: 74.94\n"
     ]
    },
    {
     "data": {
      "text/html": [
       "Waiting for W&B process to finish... <strong style=\"color:green\">(success).</strong>"
      ],
      "text/plain": [
       "<IPython.core.display.HTML object>"
      ]
     },
     "metadata": {},
     "output_type": "display_data"
    },
    {
     "data": {
      "application/vnd.jupyter.widget-view+json": {
       "model_id": "0fd6db753a674295ad6876c203b61d48",
       "version_major": 2,
       "version_minor": 0
      },
      "text/plain": [
       "VBox(children=(Label(value='0.001 MB of 0.009 MB uploaded (0.000 MB deduped)\\r'), FloatProgress(value=0.119798…"
      ]
     },
     "metadata": {},
     "output_type": "display_data"
    },
    {
     "data": {
      "text/html": [
       "<style>\n",
       "    table.wandb td:nth-child(1) { padding: 0 10px; text-align: left ; width: auto;} td:nth-child(2) {text-align: left ; width: 100%}\n",
       "    .wandb-row { display: flex; flex-direction: row; flex-wrap: wrap; justify-content: flex-start; width: 100% }\n",
       "    .wandb-col { display: flex; flex-direction: column; flex-basis: 100%; flex: 1; padding: 10px; }\n",
       "    </style>\n",
       "<div class=\"wandb-row\"><div class=\"wandb-col\"><h3>Run history:</h3><br/><table class=\"wandb\"><tr><td>epoch</td><td>▁▁▂▂▂▃▃▄▄▄▅▅▅▆▆▇▇▇██</td></tr><tr><td>test_accuracy</td><td>▁▂▃▄▄▅▅▆▆▆▆▇▆▇▇▇█▇██</td></tr><tr><td>test_loss</td><td>█▇▆▅▅▄▄▃▃▃▃▂▃▂▂▂▂▂▁▁</td></tr><tr><td>train_accuracy</td><td>▁▃▄▅▅▅▆▆▆▇▇▇▇▇▇▇████</td></tr><tr><td>train_loss</td><td>█▆▅▄▄▄▃▃▃▂▂▂▂▂▂▂▁▁▁▁</td></tr></table><br/></div><div class=\"wandb-col\"><h3>Run summary:</h3><br/><table class=\"wandb\"><tr><td>epoch</td><td>20</td></tr><tr><td>test_accuracy</td><td>74.94</td></tr><tr><td>test_loss</td><td>0.72249</td></tr><tr><td>train_accuracy</td><td>77.796</td></tr><tr><td>train_loss</td><td>0.64565</td></tr></table><br/></div></div>"
      ],
      "text/plain": [
       "<IPython.core.display.HTML object>"
      ]
     },
     "metadata": {},
     "output_type": "display_data"
    },
    {
     "data": {
      "text/html": [
       " View run <strong style=\"color:#cdcd00\">crimson-sweep-11</strong> at: <a href='https://wandb.ai/hn2237/dl_mini/runs/pcmowcac' target=\"_blank\">https://wandb.ai/hn2237/dl_mini/runs/pcmowcac</a><br/>Synced 5 W&B file(s), 0 media file(s), 0 artifact file(s) and 0 other file(s)"
      ],
      "text/plain": [
       "<IPython.core.display.HTML object>"
      ]
     },
     "metadata": {},
     "output_type": "display_data"
    },
    {
     "data": {
      "text/html": [
       "Find logs at: <code>.\\wandb\\run-20230414_200522-pcmowcac\\logs</code>"
      ],
      "text/plain": [
       "<IPython.core.display.HTML object>"
      ]
     },
     "metadata": {},
     "output_type": "display_data"
    },
    {
     "name": "stderr",
     "output_type": "stream",
     "text": [
      "wandb: Agent Starting Run: wqn3k62d with config:\n",
      "wandb: \tlearning_rate: 0.01\n",
      "wandb: \tmomentum: 0.9\n",
      "wandb: \toptimizer: adam\n",
      "wandb: \tweight_decay: 0.0005\n",
      "wandb: W&B API key is configured. Use `wandb login --relogin` to force relogin\n"
     ]
    },
    {
     "data": {
      "text/html": [
       "Tracking run with wandb version 0.14.2"
      ],
      "text/plain": [
       "<IPython.core.display.HTML object>"
      ]
     },
     "metadata": {},
     "output_type": "display_data"
    },
    {
     "data": {
      "text/html": [
       "Run data is saved locally in <code>C:\\Users\\hnnha\\Desktop\\Hari_NYU\\Spring23\\DL\\Mini_Project\\wandb\\run-20230414_201128-wqn3k62d</code>"
      ],
      "text/plain": [
       "<IPython.core.display.HTML object>"
      ]
     },
     "metadata": {},
     "output_type": "display_data"
    },
    {
     "data": {
      "text/html": [
       "Syncing run <strong><a href='https://wandb.ai/hn2237/dl_mini/runs/wqn3k62d' target=\"_blank\">mild-sweep-12</a></strong> to <a href='https://wandb.ai/hn2237/dl_mini' target=\"_blank\">Weights & Biases</a> (<a href='https://wandb.me/run' target=\"_blank\">docs</a>)<br/>Sweep page: <a href='https://wandb.ai/hn2237/dl_mini/sweeps/ct9ebkvi' target=\"_blank\">https://wandb.ai/hn2237/dl_mini/sweeps/ct9ebkvi</a>"
      ],
      "text/plain": [
       "<IPython.core.display.HTML object>"
      ]
     },
     "metadata": {},
     "output_type": "display_data"
    },
    {
     "data": {
      "text/html": [
       " View project at <a href='https://wandb.ai/hn2237/dl_mini' target=\"_blank\">https://wandb.ai/hn2237/dl_mini</a>"
      ],
      "text/plain": [
       "<IPython.core.display.HTML object>"
      ]
     },
     "metadata": {},
     "output_type": "display_data"
    },
    {
     "data": {
      "text/html": [
       " View sweep at <a href='https://wandb.ai/hn2237/dl_mini/sweeps/ct9ebkvi' target=\"_blank\">https://wandb.ai/hn2237/dl_mini/sweeps/ct9ebkvi</a>"
      ],
      "text/plain": [
       "<IPython.core.display.HTML object>"
      ]
     },
     "metadata": {},
     "output_type": "display_data"
    },
    {
     "data": {
      "text/html": [
       " View run at <a href='https://wandb.ai/hn2237/dl_mini/runs/wqn3k62d' target=\"_blank\">https://wandb.ai/hn2237/dl_mini/runs/wqn3k62d</a>"
      ],
      "text/plain": [
       "<IPython.core.display.HTML object>"
      ]
     },
     "metadata": {},
     "output_type": "display_data"
    },
    {
     "name": "stdout",
     "output_type": "stream",
     "text": [
      "Running Epoch 0...\n",
      "Train==> Loss: 1.781 Acc: 33.470\n",
      "Test==> Loss: 1.658 Acc: 38.520\n",
      "Running Epoch 1...\n",
      "Train==> Loss: 1.351 Acc: 50.468\n",
      "Test==> Loss: 1.746 Acc: 39.620\n",
      "Running Epoch 2...\n",
      "Train==> Loss: 1.132 Acc: 59.200\n",
      "Test==> Loss: 1.321 Acc: 52.580\n",
      "Running Epoch 3...\n",
      "Train==> Loss: 1.056 Acc: 62.028\n",
      "Test==> Loss: 1.789 Acc: 47.570\n",
      "Running Epoch 4...\n",
      "Train==> Loss: 0.995 Acc: 64.368\n",
      "Test==> Loss: 1.168 Acc: 59.870\n",
      "Running Epoch 5...\n",
      "Train==> Loss: 0.955 Acc: 65.686\n",
      "Test==> Loss: 1.103 Acc: 61.790\n",
      "Running Epoch 6...\n",
      "Train==> Loss: 0.916 Acc: 67.434\n",
      "Test==> Loss: 1.072 Acc: 63.670\n",
      "Running Epoch 7...\n",
      "Train==> Loss: 0.885 Acc: 68.654\n",
      "Test==> Loss: 0.883 Acc: 68.590\n",
      "Running Epoch 8...\n",
      "Train==> Loss: 0.868 Acc: 69.634\n",
      "Test==> Loss: 0.978 Acc: 65.670\n",
      "Running Epoch 9...\n",
      "Train==> Loss: 0.846 Acc: 70.286\n",
      "Test==> Loss: 1.168 Acc: 60.380\n",
      "Running Epoch 10...\n",
      "Train==> Loss: 0.837 Acc: 70.814\n",
      "Test==> Loss: 1.287 Acc: 62.270\n",
      "Running Epoch 11...\n",
      "Train==> Loss: 0.822 Acc: 71.166\n",
      "Test==> Loss: 1.539 Acc: 50.760\n",
      "Running Epoch 12...\n",
      "Train==> Loss: 0.814 Acc: 71.672\n",
      "Test==> Loss: 1.090 Acc: 63.070\n",
      "Running Epoch 13...\n",
      "Train==> Loss: 0.809 Acc: 71.642\n",
      "Test==> Loss: 1.128 Acc: 63.330\n",
      "Running Epoch 14...\n",
      "Train==> Loss: 0.798 Acc: 72.034\n",
      "Test==> Loss: 1.197 Acc: 59.450\n",
      "Running Epoch 15...\n",
      "Train==> Loss: 0.793 Acc: 72.430\n",
      "Test==> Loss: 1.304 Acc: 57.830\n",
      "Running Epoch 16...\n",
      "Train==> Loss: 0.791 Acc: 72.446\n",
      "Test==> Loss: 1.364 Acc: 56.430\n",
      "Running Epoch 17...\n",
      "Train==> Loss: 0.791 Acc: 72.568\n",
      "Test==> Loss: 1.547 Acc: 52.750\n",
      "Running Epoch 18...\n",
      "Train==> Loss: 0.790 Acc: 72.706\n",
      "Test==> Loss: 1.475 Acc: 53.590\n",
      "Running Epoch 19...\n",
      "Train==> Loss: 0.787 Acc: 72.654\n",
      "Test==> Loss: 1.017 Acc: 65.900\n",
      "\n",
      "\n",
      "Best accuracy: 68.59\n"
     ]
    },
    {
     "data": {
      "text/html": [
       "Waiting for W&B process to finish... <strong style=\"color:green\">(success).</strong>"
      ],
      "text/plain": [
       "<IPython.core.display.HTML object>"
      ]
     },
     "metadata": {},
     "output_type": "display_data"
    },
    {
     "data": {
      "application/vnd.jupyter.widget-view+json": {
       "model_id": "2a9dc50058534ef19ad3934841d6bc8d",
       "version_major": 2,
       "version_minor": 0
      },
      "text/plain": [
       "VBox(children=(Label(value='0.001 MB of 0.001 MB uploaded (0.000 MB deduped)\\r'), FloatProgress(value=1.0, max…"
      ]
     },
     "metadata": {},
     "output_type": "display_data"
    },
    {
     "data": {
      "text/html": [
       "<style>\n",
       "    table.wandb td:nth-child(1) { padding: 0 10px; text-align: left ; width: auto;} td:nth-child(2) {text-align: left ; width: 100%}\n",
       "    .wandb-row { display: flex; flex-direction: row; flex-wrap: wrap; justify-content: flex-start; width: 100% }\n",
       "    .wandb-col { display: flex; flex-direction: column; flex-basis: 100%; flex: 1; padding: 10px; }\n",
       "    </style>\n",
       "<div class=\"wandb-row\"><div class=\"wandb-col\"><h3>Run history:</h3><br/><table class=\"wandb\"><tr><td>epoch</td><td>▁▁▂▂▂▃▃▄▄▄▅▅▅▆▆▇▇▇██</td></tr><tr><td>test_accuracy</td><td>▁▁▄▃▆▆▇█▇▆▇▄▇▇▆▅▅▄▅▇</td></tr><tr><td>test_loss</td><td>▇█▄█▃▃▂▁▂▃▄▆▃▃▃▄▅▆▆▂</td></tr><tr><td>train_accuracy</td><td>▁▄▆▆▇▇▇▇▇███████████</td></tr><tr><td>train_loss</td><td>█▅▃▃▂▂▂▂▂▁▁▁▁▁▁▁▁▁▁▁</td></tr></table><br/></div><div class=\"wandb-col\"><h3>Run summary:</h3><br/><table class=\"wandb\"><tr><td>epoch</td><td>20</td></tr><tr><td>test_accuracy</td><td>65.9</td></tr><tr><td>test_loss</td><td>1.01701</td></tr><tr><td>train_accuracy</td><td>72.654</td></tr><tr><td>train_loss</td><td>0.7873</td></tr></table><br/></div></div>"
      ],
      "text/plain": [
       "<IPython.core.display.HTML object>"
      ]
     },
     "metadata": {},
     "output_type": "display_data"
    },
    {
     "data": {
      "text/html": [
       " View run <strong style=\"color:#cdcd00\">mild-sweep-12</strong> at: <a href='https://wandb.ai/hn2237/dl_mini/runs/wqn3k62d' target=\"_blank\">https://wandb.ai/hn2237/dl_mini/runs/wqn3k62d</a><br/>Synced 5 W&B file(s), 0 media file(s), 0 artifact file(s) and 0 other file(s)"
      ],
      "text/plain": [
       "<IPython.core.display.HTML object>"
      ]
     },
     "metadata": {},
     "output_type": "display_data"
    },
    {
     "data": {
      "text/html": [
       "Find logs at: <code>.\\wandb\\run-20230414_201128-wqn3k62d\\logs</code>"
      ],
      "text/plain": [
       "<IPython.core.display.HTML object>"
      ]
     },
     "metadata": {},
     "output_type": "display_data"
    },
    {
     "name": "stderr",
     "output_type": "stream",
     "text": [
      "wandb: Agent Starting Run: axuit4lc with config:\n",
      "wandb: \tlearning_rate: 0.1\n",
      "wandb: \tmomentum: 0.9\n",
      "wandb: \toptimizer: sgd\n",
      "wandb: \tweight_decay: 0.001\n"
     ]
    },
    {
     "data": {
      "text/html": [
       "Tracking run with wandb version 0.14.2"
      ],
      "text/plain": [
       "<IPython.core.display.HTML object>"
      ]
     },
     "metadata": {},
     "output_type": "display_data"
    },
    {
     "data": {
      "text/html": [
       "Run data is saved locally in <code>C:\\Users\\hnnha\\Desktop\\Hari_NYU\\Spring23\\DL\\Mini_Project\\wandb\\run-20230414_201727-axuit4lc</code>"
      ],
      "text/plain": [
       "<IPython.core.display.HTML object>"
      ]
     },
     "metadata": {},
     "output_type": "display_data"
    },
    {
     "data": {
      "text/html": [
       "Syncing run <strong><a href='https://wandb.ai/hn2237/dl_mini/runs/axuit4lc' target=\"_blank\">blooming-sweep-13</a></strong> to <a href='https://wandb.ai/hn2237/dl_mini' target=\"_blank\">Weights & Biases</a> (<a href='https://wandb.me/run' target=\"_blank\">docs</a>)<br/>Sweep page: <a href='https://wandb.ai/hn2237/dl_mini/sweeps/ct9ebkvi' target=\"_blank\">https://wandb.ai/hn2237/dl_mini/sweeps/ct9ebkvi</a>"
      ],
      "text/plain": [
       "<IPython.core.display.HTML object>"
      ]
     },
     "metadata": {},
     "output_type": "display_data"
    },
    {
     "data": {
      "text/html": [
       " View project at <a href='https://wandb.ai/hn2237/dl_mini' target=\"_blank\">https://wandb.ai/hn2237/dl_mini</a>"
      ],
      "text/plain": [
       "<IPython.core.display.HTML object>"
      ]
     },
     "metadata": {},
     "output_type": "display_data"
    },
    {
     "data": {
      "text/html": [
       " View sweep at <a href='https://wandb.ai/hn2237/dl_mini/sweeps/ct9ebkvi' target=\"_blank\">https://wandb.ai/hn2237/dl_mini/sweeps/ct9ebkvi</a>"
      ],
      "text/plain": [
       "<IPython.core.display.HTML object>"
      ]
     },
     "metadata": {},
     "output_type": "display_data"
    },
    {
     "data": {
      "text/html": [
       " View run at <a href='https://wandb.ai/hn2237/dl_mini/runs/axuit4lc' target=\"_blank\">https://wandb.ai/hn2237/dl_mini/runs/axuit4lc</a>"
      ],
      "text/plain": [
       "<IPython.core.display.HTML object>"
      ]
     },
     "metadata": {},
     "output_type": "display_data"
    },
    {
     "name": "stdout",
     "output_type": "stream",
     "text": [
      "Running Epoch 0...\n",
      "Train==> Loss: 1.602 Acc: 40.948\n",
      "Test==> Loss: 1.452 Acc: 48.140\n",
      "Running Epoch 1...\n",
      "Train==> Loss: 1.134 Acc: 59.152\n",
      "Test==> Loss: 1.216 Acc: 58.480\n",
      "Running Epoch 2...\n",
      "Train==> Loss: 0.923 Acc: 67.038\n",
      "Test==> Loss: 1.011 Acc: 64.550\n",
      "Running Epoch 3...\n",
      "Train==> Loss: 0.779 Acc: 72.818\n",
      "Test==> Loss: 1.125 Acc: 64.490\n",
      "Running Epoch 4...\n",
      "Train==> Loss: 0.698 Acc: 75.726\n",
      "Test==> Loss: 0.792 Acc: 72.320\n",
      "Running Epoch 5...\n",
      "Train==> Loss: 0.653 Acc: 77.260\n",
      "Test==> Loss: 1.207 Acc: 64.210\n",
      "Running Epoch 6...\n",
      "Train==> Loss: 0.619 Acc: 78.624\n",
      "Test==> Loss: 0.724 Acc: 76.590\n",
      "Running Epoch 7...\n",
      "Train==> Loss: 0.594 Acc: 79.524\n",
      "Test==> Loss: 1.185 Acc: 66.130\n",
      "Running Epoch 8...\n",
      "Train==> Loss: 0.578 Acc: 80.094\n",
      "Test==> Loss: 0.981 Acc: 70.560\n",
      "Running Epoch 9...\n",
      "Train==> Loss: 0.564 Acc: 80.754\n",
      "Test==> Loss: 0.956 Acc: 70.040\n",
      "Running Epoch 10...\n",
      "Train==> Loss: 0.553 Acc: 81.110\n",
      "Test==> Loss: 0.977 Acc: 67.600\n",
      "Running Epoch 11...\n",
      "Train==> Loss: 0.546 Acc: 81.116\n",
      "Test==> Loss: 1.013 Acc: 68.420\n",
      "Running Epoch 12...\n",
      "Train==> Loss: 0.539 Acc: 81.542\n",
      "Test==> Loss: 0.778 Acc: 74.170\n",
      "Running Epoch 13...\n",
      "Train==> Loss: 0.530 Acc: 81.794\n",
      "Test==> Loss: 0.645 Acc: 78.390\n",
      "Running Epoch 14...\n",
      "Train==> Loss: 0.533 Acc: 81.786\n",
      "Test==> Loss: 1.113 Acc: 67.410\n",
      "Running Epoch 15...\n",
      "Train==> Loss: 0.526 Acc: 81.914\n",
      "Test==> Loss: 0.771 Acc: 74.080\n",
      "Running Epoch 16...\n",
      "Train==> Loss: 0.529 Acc: 81.908\n",
      "Test==> Loss: 0.693 Acc: 76.650\n",
      "Running Epoch 17...\n",
      "Train==> Loss: 0.520 Acc: 82.370\n",
      "Test==> Loss: 0.727 Acc: 75.710\n",
      "Running Epoch 18...\n",
      "Train==> Loss: 0.512 Acc: 82.594\n",
      "Test==> Loss: 0.668 Acc: 78.050\n",
      "Running Epoch 19...\n",
      "Train==> Loss: 0.515 Acc: 82.406\n",
      "Test==> Loss: 0.950 Acc: 69.150\n",
      "\n",
      "\n",
      "Best accuracy: 78.39\n"
     ]
    },
    {
     "data": {
      "text/html": [
       "Waiting for W&B process to finish... <strong style=\"color:green\">(success).</strong>"
      ],
      "text/plain": [
       "<IPython.core.display.HTML object>"
      ]
     },
     "metadata": {},
     "output_type": "display_data"
    },
    {
     "data": {
      "text/html": [
       "<style>\n",
       "    table.wandb td:nth-child(1) { padding: 0 10px; text-align: left ; width: auto;} td:nth-child(2) {text-align: left ; width: 100%}\n",
       "    .wandb-row { display: flex; flex-direction: row; flex-wrap: wrap; justify-content: flex-start; width: 100% }\n",
       "    .wandb-col { display: flex; flex-direction: column; flex-basis: 100%; flex: 1; padding: 10px; }\n",
       "    </style>\n",
       "<div class=\"wandb-row\"><div class=\"wandb-col\"><h3>Run history:</h3><br/><table class=\"wandb\"><tr><td>epoch</td><td>▁▁▂▂▂▃▃▄▄▄▅▅▅▆▆▇▇▇██</td></tr><tr><td>test_accuracy</td><td>▁▃▅▅▇▅█▅▆▆▆▆▇█▅▇█▇█▆</td></tr><tr><td>test_loss</td><td>█▆▄▅▂▆▂▆▄▄▄▄▂▁▅▂▁▂▁▄</td></tr><tr><td>train_accuracy</td><td>▁▄▅▆▇▇▇▇████████████</td></tr><tr><td>train_loss</td><td>█▅▄▃▂▂▂▂▁▁▁▁▁▁▁▁▁▁▁▁</td></tr></table><br/></div><div class=\"wandb-col\"><h3>Run summary:</h3><br/><table class=\"wandb\"><tr><td>epoch</td><td>20</td></tr><tr><td>test_accuracy</td><td>69.15</td></tr><tr><td>test_loss</td><td>0.95016</td></tr><tr><td>train_accuracy</td><td>82.406</td></tr><tr><td>train_loss</td><td>0.51543</td></tr></table><br/></div></div>"
      ],
      "text/plain": [
       "<IPython.core.display.HTML object>"
      ]
     },
     "metadata": {},
     "output_type": "display_data"
    },
    {
     "data": {
      "text/html": [
       " View run <strong style=\"color:#cdcd00\">blooming-sweep-13</strong> at: <a href='https://wandb.ai/hn2237/dl_mini/runs/axuit4lc' target=\"_blank\">https://wandb.ai/hn2237/dl_mini/runs/axuit4lc</a><br/>Synced 5 W&B file(s), 0 media file(s), 0 artifact file(s) and 0 other file(s)"
      ],
      "text/plain": [
       "<IPython.core.display.HTML object>"
      ]
     },
     "metadata": {},
     "output_type": "display_data"
    },
    {
     "data": {
      "text/html": [
       "Find logs at: <code>.\\wandb\\run-20230414_201727-axuit4lc\\logs</code>"
      ],
      "text/plain": [
       "<IPython.core.display.HTML object>"
      ]
     },
     "metadata": {},
     "output_type": "display_data"
    },
    {
     "name": "stderr",
     "output_type": "stream",
     "text": [
      "wandb: Agent Starting Run: hklbpx2g with config:\n",
      "wandb: \tlearning_rate: 0.01\n",
      "wandb: \tmomentum: 0.99\n",
      "wandb: \toptimizer: adadelta\n",
      "wandb: \tweight_decay: 0.0005\n"
     ]
    },
    {
     "data": {
      "application/vnd.jupyter.widget-view+json": {
       "model_id": "aa831cc8610e4bc49eb19cf884421aaf",
       "version_major": 2,
       "version_minor": 0
      },
      "text/plain": [
       "VBox(children=(Label(value='Waiting for wandb.init()...\\r'), FloatProgress(value=0.016666666666666666, max=1.0…"
      ]
     },
     "metadata": {},
     "output_type": "display_data"
    },
    {
     "data": {
      "text/html": [
       "Tracking run with wandb version 0.14.2"
      ],
      "text/plain": [
       "<IPython.core.display.HTML object>"
      ]
     },
     "metadata": {},
     "output_type": "display_data"
    },
    {
     "data": {
      "text/html": [
       "Run data is saved locally in <code>C:\\Users\\hnnha\\Desktop\\Hari_NYU\\Spring23\\DL\\Mini_Project\\wandb\\run-20230414_202324-hklbpx2g</code>"
      ],
      "text/plain": [
       "<IPython.core.display.HTML object>"
      ]
     },
     "metadata": {},
     "output_type": "display_data"
    },
    {
     "data": {
      "text/html": [
       "Syncing run <strong><a href='https://wandb.ai/hn2237/dl_mini/runs/hklbpx2g' target=\"_blank\">fanciful-sweep-14</a></strong> to <a href='https://wandb.ai/hn2237/dl_mini' target=\"_blank\">Weights & Biases</a> (<a href='https://wandb.me/run' target=\"_blank\">docs</a>)<br/>Sweep page: <a href='https://wandb.ai/hn2237/dl_mini/sweeps/ct9ebkvi' target=\"_blank\">https://wandb.ai/hn2237/dl_mini/sweeps/ct9ebkvi</a>"
      ],
      "text/plain": [
       "<IPython.core.display.HTML object>"
      ]
     },
     "metadata": {},
     "output_type": "display_data"
    },
    {
     "data": {
      "text/html": [
       " View project at <a href='https://wandb.ai/hn2237/dl_mini' target=\"_blank\">https://wandb.ai/hn2237/dl_mini</a>"
      ],
      "text/plain": [
       "<IPython.core.display.HTML object>"
      ]
     },
     "metadata": {},
     "output_type": "display_data"
    },
    {
     "data": {
      "text/html": [
       " View sweep at <a href='https://wandb.ai/hn2237/dl_mini/sweeps/ct9ebkvi' target=\"_blank\">https://wandb.ai/hn2237/dl_mini/sweeps/ct9ebkvi</a>"
      ],
      "text/plain": [
       "<IPython.core.display.HTML object>"
      ]
     },
     "metadata": {},
     "output_type": "display_data"
    },
    {
     "data": {
      "text/html": [
       " View run at <a href='https://wandb.ai/hn2237/dl_mini/runs/hklbpx2g' target=\"_blank\">https://wandb.ai/hn2237/dl_mini/runs/hklbpx2g</a>"
      ],
      "text/plain": [
       "<IPython.core.display.HTML object>"
      ]
     },
     "metadata": {},
     "output_type": "display_data"
    },
    {
     "name": "stdout",
     "output_type": "stream",
     "text": [
      "Running Epoch 0...\n",
      "Train==> Loss: 1.769 Acc: 35.696\n",
      "Test==> Loss: 1.511 Acc: 43.860\n",
      "Running Epoch 1...\n",
      "Train==> Loss: 1.442 Acc: 47.696\n",
      "Test==> Loss: 1.396 Acc: 49.010\n",
      "Running Epoch 2...\n",
      "Train==> Loss: 1.301 Acc: 53.128\n",
      "Test==> Loss: 1.226 Acc: 55.730\n",
      "Running Epoch 3...\n",
      "Train==> Loss: 1.203 Acc: 56.786\n",
      "Test==> Loss: 1.247 Acc: 55.040\n",
      "Running Epoch 4...\n",
      "Train==> Loss: 1.129 Acc: 59.676\n",
      "Test==> Loss: 1.089 Acc: 61.410\n",
      "Running Epoch 5...\n",
      "Train==> Loss: 1.065 Acc: 62.172\n",
      "Test==> Loss: 1.134 Acc: 59.570\n",
      "Running Epoch 6...\n",
      "Train==> Loss: 1.009 Acc: 64.194\n",
      "Test==> Loss: 0.988 Acc: 65.110\n",
      "Running Epoch 7...\n",
      "Train==> Loss: 0.964 Acc: 65.860\n",
      "Test==> Loss: 0.976 Acc: 65.920\n",
      "Running Epoch 8...\n",
      "Train==> Loss: 0.923 Acc: 67.494\n",
      "Test==> Loss: 0.987 Acc: 65.200\n",
      "Running Epoch 9...\n",
      "Train==> Loss: 0.887 Acc: 68.892\n",
      "Test==> Loss: 0.968 Acc: 66.140\n",
      "Running Epoch 10...\n",
      "Train==> Loss: 0.855 Acc: 70.012\n",
      "Test==> Loss: 0.903 Acc: 68.440\n",
      "Running Epoch 11...\n",
      "Train==> Loss: 0.822 Acc: 71.178\n",
      "Test==> Loss: 0.899 Acc: 68.710\n",
      "Running Epoch 12...\n",
      "Train==> Loss: 0.793 Acc: 72.362\n",
      "Test==> Loss: 0.817 Acc: 71.560\n",
      "Running Epoch 13...\n",
      "Train==> Loss: 0.766 Acc: 73.272\n",
      "Test==> Loss: 0.880 Acc: 69.280\n",
      "Running Epoch 14...\n",
      "Train==> Loss: 0.742 Acc: 74.052\n",
      "Test==> Loss: 0.782 Acc: 72.590\n",
      "Running Epoch 15...\n",
      "Train==> Loss: 0.719 Acc: 74.896\n",
      "Test==> Loss: 0.775 Acc: 73.220\n",
      "Running Epoch 16...\n",
      "Train==> Loss: 0.693 Acc: 75.878\n",
      "Test==> Loss: 0.749 Acc: 74.380\n",
      "Running Epoch 17...\n",
      "Train==> Loss: 0.671 Acc: 76.818\n",
      "Test==> Loss: 0.727 Acc: 74.750\n",
      "Running Epoch 18...\n",
      "Train==> Loss: 0.652 Acc: 77.346\n",
      "Test==> Loss: 0.705 Acc: 75.310\n",
      "Running Epoch 19...\n",
      "Train==> Loss: 0.632 Acc: 78.016\n",
      "Test==> Loss: 0.749 Acc: 74.520\n",
      "\n",
      "\n",
      "Best accuracy: 75.31\n"
     ]
    },
    {
     "data": {
      "text/html": [
       "Waiting for W&B process to finish... <strong style=\"color:green\">(success).</strong>"
      ],
      "text/plain": [
       "<IPython.core.display.HTML object>"
      ]
     },
     "metadata": {},
     "output_type": "display_data"
    },
    {
     "data": {
      "application/vnd.jupyter.widget-view+json": {
       "model_id": "b8f9f3d32d8c4651a941d7575dc4a390",
       "version_major": 2,
       "version_minor": 0
      },
      "text/plain": [
       "VBox(children=(Label(value='0.001 MB of 0.001 MB uploaded (0.000 MB deduped)\\r'), FloatProgress(value=1.0, max…"
      ]
     },
     "metadata": {},
     "output_type": "display_data"
    },
    {
     "data": {
      "text/html": [
       "<style>\n",
       "    table.wandb td:nth-child(1) { padding: 0 10px; text-align: left ; width: auto;} td:nth-child(2) {text-align: left ; width: 100%}\n",
       "    .wandb-row { display: flex; flex-direction: row; flex-wrap: wrap; justify-content: flex-start; width: 100% }\n",
       "    .wandb-col { display: flex; flex-direction: column; flex-basis: 100%; flex: 1; padding: 10px; }\n",
       "    </style>\n",
       "<div class=\"wandb-row\"><div class=\"wandb-col\"><h3>Run history:</h3><br/><table class=\"wandb\"><tr><td>epoch</td><td>▁▁▂▂▂▃▃▄▄▄▅▅▅▆▆▇▇▇██</td></tr><tr><td>test_accuracy</td><td>▁▂▄▃▅▄▆▆▆▆▆▇▇▇▇█████</td></tr><tr><td>test_loss</td><td>█▇▆▆▄▅▃▃▃▃▃▃▂▃▂▂▁▁▁▁</td></tr><tr><td>train_accuracy</td><td>▁▃▄▄▅▅▆▆▆▆▇▇▇▇▇▇████</td></tr><tr><td>train_loss</td><td>█▆▅▅▄▄▃▃▃▃▂▂▂▂▂▂▁▁▁▁</td></tr></table><br/></div><div class=\"wandb-col\"><h3>Run summary:</h3><br/><table class=\"wandb\"><tr><td>epoch</td><td>20</td></tr><tr><td>test_accuracy</td><td>74.52</td></tr><tr><td>test_loss</td><td>0.74947</td></tr><tr><td>train_accuracy</td><td>78.016</td></tr><tr><td>train_loss</td><td>0.63163</td></tr></table><br/></div></div>"
      ],
      "text/plain": [
       "<IPython.core.display.HTML object>"
      ]
     },
     "metadata": {},
     "output_type": "display_data"
    },
    {
     "data": {
      "text/html": [
       " View run <strong style=\"color:#cdcd00\">fanciful-sweep-14</strong> at: <a href='https://wandb.ai/hn2237/dl_mini/runs/hklbpx2g' target=\"_blank\">https://wandb.ai/hn2237/dl_mini/runs/hklbpx2g</a><br/>Synced 5 W&B file(s), 0 media file(s), 0 artifact file(s) and 0 other file(s)"
      ],
      "text/plain": [
       "<IPython.core.display.HTML object>"
      ]
     },
     "metadata": {},
     "output_type": "display_data"
    },
    {
     "data": {
      "text/html": [
       "Find logs at: <code>.\\wandb\\run-20230414_202324-hklbpx2g\\logs</code>"
      ],
      "text/plain": [
       "<IPython.core.display.HTML object>"
      ]
     },
     "metadata": {},
     "output_type": "display_data"
    },
    {
     "name": "stderr",
     "output_type": "stream",
     "text": [
      "wandb: Agent Starting Run: a32nk4dy with config:\n",
      "wandb: \tlearning_rate: 0.1\n",
      "wandb: \tmomentum: 0.99\n",
      "wandb: \toptimizer: sgd-nesterov\n",
      "wandb: \tweight_decay: 0.0005\n"
     ]
    },
    {
     "data": {
      "text/html": [
       "Tracking run with wandb version 0.14.2"
      ],
      "text/plain": [
       "<IPython.core.display.HTML object>"
      ]
     },
     "metadata": {},
     "output_type": "display_data"
    },
    {
     "data": {
      "text/html": [
       "Run data is saved locally in <code>C:\\Users\\hnnha\\Desktop\\Hari_NYU\\Spring23\\DL\\Mini_Project\\wandb\\run-20230414_202929-a32nk4dy</code>"
      ],
      "text/plain": [
       "<IPython.core.display.HTML object>"
      ]
     },
     "metadata": {},
     "output_type": "display_data"
    },
    {
     "data": {
      "text/html": [
       "Syncing run <strong><a href='https://wandb.ai/hn2237/dl_mini/runs/a32nk4dy' target=\"_blank\">dazzling-sweep-15</a></strong> to <a href='https://wandb.ai/hn2237/dl_mini' target=\"_blank\">Weights & Biases</a> (<a href='https://wandb.me/run' target=\"_blank\">docs</a>)<br/>Sweep page: <a href='https://wandb.ai/hn2237/dl_mini/sweeps/ct9ebkvi' target=\"_blank\">https://wandb.ai/hn2237/dl_mini/sweeps/ct9ebkvi</a>"
      ],
      "text/plain": [
       "<IPython.core.display.HTML object>"
      ]
     },
     "metadata": {},
     "output_type": "display_data"
    },
    {
     "data": {
      "text/html": [
       " View project at <a href='https://wandb.ai/hn2237/dl_mini' target=\"_blank\">https://wandb.ai/hn2237/dl_mini</a>"
      ],
      "text/plain": [
       "<IPython.core.display.HTML object>"
      ]
     },
     "metadata": {},
     "output_type": "display_data"
    },
    {
     "data": {
      "text/html": [
       " View sweep at <a href='https://wandb.ai/hn2237/dl_mini/sweeps/ct9ebkvi' target=\"_blank\">https://wandb.ai/hn2237/dl_mini/sweeps/ct9ebkvi</a>"
      ],
      "text/plain": [
       "<IPython.core.display.HTML object>"
      ]
     },
     "metadata": {},
     "output_type": "display_data"
    },
    {
     "data": {
      "text/html": [
       " View run at <a href='https://wandb.ai/hn2237/dl_mini/runs/a32nk4dy' target=\"_blank\">https://wandb.ai/hn2237/dl_mini/runs/a32nk4dy</a>"
      ],
      "text/plain": [
       "<IPython.core.display.HTML object>"
      ]
     },
     "metadata": {},
     "output_type": "display_data"
    },
    {
     "name": "stdout",
     "output_type": "stream",
     "text": [
      "Running Epoch 0...\n",
      "Train==> Loss: 1.738 Acc: 35.412\n",
      "Test==> Loss: 1.530 Acc: 42.590\n",
      "Running Epoch 1...\n",
      "Train==> Loss: 1.350 Acc: 50.498\n",
      "Test==> Loss: 1.773 Acc: 44.790\n",
      "Running Epoch 2...\n",
      "Train==> Loss: 1.154 Acc: 58.922\n",
      "Test==> Loss: 1.532 Acc: 46.860\n",
      "Running Epoch 3...\n",
      "Train==> Loss: 1.070 Acc: 62.016\n",
      "Test==> Loss: 1.127 Acc: 61.040\n",
      "Running Epoch 4...\n",
      "Train==> Loss: 0.989 Acc: 64.954\n",
      "Test==> Loss: 1.304 Acc: 59.080\n",
      "Running Epoch 5...\n",
      "Train==> Loss: 0.943 Acc: 67.112\n",
      "Test==> Loss: 1.010 Acc: 65.290\n",
      "Running Epoch 6...\n",
      "Train==> Loss: 0.908 Acc: 68.282\n",
      "Test==> Loss: 1.478 Acc: 57.070\n",
      "Running Epoch 7...\n",
      "Train==> Loss: 0.890 Acc: 69.132\n",
      "Test==> Loss: 1.400 Acc: 57.350\n",
      "Running Epoch 8...\n",
      "Train==> Loss: 0.893 Acc: 68.856\n",
      "Test==> Loss: 1.671 Acc: 51.810\n",
      "Running Epoch 9...\n",
      "Train==> Loss: 0.897 Acc: 68.916\n",
      "Test==> Loss: 0.964 Acc: 66.670\n",
      "Running Epoch 10...\n",
      "Train==> Loss: 0.891 Acc: 69.104\n",
      "Test==> Loss: 1.335 Acc: 57.010\n",
      "Running Epoch 11...\n",
      "Train==> Loss: 0.881 Acc: 69.464\n",
      "Test==> Loss: 1.002 Acc: 64.850\n",
      "Running Epoch 12...\n",
      "Train==> Loss: 0.890 Acc: 69.076\n",
      "Test==> Loss: 1.407 Acc: 56.420\n",
      "Running Epoch 13...\n",
      "Train==> Loss: 0.893 Acc: 68.982\n",
      "Test==> Loss: 1.393 Acc: 59.180\n",
      "Running Epoch 14...\n",
      "Train==> Loss: 0.899 Acc: 68.642\n",
      "Test==> Loss: 1.048 Acc: 64.280\n",
      "Running Epoch 15...\n",
      "Train==> Loss: 0.898 Acc: 68.842\n",
      "Test==> Loss: 1.072 Acc: 64.600\n",
      "Running Epoch 16...\n",
      "Train==> Loss: 0.892 Acc: 69.140\n",
      "Test==> Loss: 1.134 Acc: 62.550\n",
      "Running Epoch 17...\n",
      "Train==> Loss: 0.897 Acc: 68.754\n",
      "Test==> Loss: 1.347 Acc: 56.790\n",
      "Running Epoch 18...\n",
      "Train==> Loss: 0.910 Acc: 68.418\n",
      "Test==> Loss: 1.158 Acc: 62.170\n",
      "Running Epoch 19...\n",
      "Train==> Loss: 0.898 Acc: 68.970\n",
      "Test==> Loss: 1.151 Acc: 60.980\n",
      "\n",
      "\n",
      "Best accuracy: 66.67\n"
     ]
    },
    {
     "data": {
      "text/html": [
       "Waiting for W&B process to finish... <strong style=\"color:green\">(success).</strong>"
      ],
      "text/plain": [
       "<IPython.core.display.HTML object>"
      ]
     },
     "metadata": {},
     "output_type": "display_data"
    },
    {
     "data": {
      "application/vnd.jupyter.widget-view+json": {
       "model_id": "660fec7871a245369959034599030267",
       "version_major": 2,
       "version_minor": 0
      },
      "text/plain": [
       "VBox(children=(Label(value='0.001 MB of 0.009 MB uploaded (0.000 MB deduped)\\r'), FloatProgress(value=0.122698…"
      ]
     },
     "metadata": {},
     "output_type": "display_data"
    },
    {
     "data": {
      "text/html": [
       "<style>\n",
       "    table.wandb td:nth-child(1) { padding: 0 10px; text-align: left ; width: auto;} td:nth-child(2) {text-align: left ; width: 100%}\n",
       "    .wandb-row { display: flex; flex-direction: row; flex-wrap: wrap; justify-content: flex-start; width: 100% }\n",
       "    .wandb-col { display: flex; flex-direction: column; flex-basis: 100%; flex: 1; padding: 10px; }\n",
       "    </style>\n",
       "<div class=\"wandb-row\"><div class=\"wandb-col\"><h3>Run history:</h3><br/><table class=\"wandb\"><tr><td>epoch</td><td>▁▁▂▂▂▃▃▄▄▄▅▅▅▆▆▇▇▇██</td></tr><tr><td>test_accuracy</td><td>▁▂▂▆▆█▅▅▄█▅▇▅▆▇▇▇▅▇▆</td></tr><tr><td>test_loss</td><td>▆█▆▂▄▁▅▅▇▁▄▁▅▅▂▂▂▄▃▃</td></tr><tr><td>train_accuracy</td><td>▁▄▆▆▇███████████████</td></tr><tr><td>train_loss</td><td>█▅▃▃▂▂▁▁▁▁▁▁▁▁▁▁▁▁▁▁</td></tr></table><br/></div><div class=\"wandb-col\"><h3>Run summary:</h3><br/><table class=\"wandb\"><tr><td>epoch</td><td>20</td></tr><tr><td>test_accuracy</td><td>60.98</td></tr><tr><td>test_loss</td><td>1.15067</td></tr><tr><td>train_accuracy</td><td>68.97</td></tr><tr><td>train_loss</td><td>0.89775</td></tr></table><br/></div></div>"
      ],
      "text/plain": [
       "<IPython.core.display.HTML object>"
      ]
     },
     "metadata": {},
     "output_type": "display_data"
    },
    {
     "data": {
      "text/html": [
       " View run <strong style=\"color:#cdcd00\">dazzling-sweep-15</strong> at: <a href='https://wandb.ai/hn2237/dl_mini/runs/a32nk4dy' target=\"_blank\">https://wandb.ai/hn2237/dl_mini/runs/a32nk4dy</a><br/>Synced 5 W&B file(s), 0 media file(s), 0 artifact file(s) and 0 other file(s)"
      ],
      "text/plain": [
       "<IPython.core.display.HTML object>"
      ]
     },
     "metadata": {},
     "output_type": "display_data"
    },
    {
     "data": {
      "text/html": [
       "Find logs at: <code>.\\wandb\\run-20230414_202929-a32nk4dy\\logs</code>"
      ],
      "text/plain": [
       "<IPython.core.display.HTML object>"
      ]
     },
     "metadata": {},
     "output_type": "display_data"
    },
    {
     "name": "stderr",
     "output_type": "stream",
     "text": [
      "wandb: Agent Starting Run: 8u6v7v7p with config:\n",
      "wandb: \tlearning_rate: 0.01\n",
      "wandb: \tmomentum: 0.9\n",
      "wandb: \toptimizer: sgd-nesterov\n",
      "wandb: \tweight_decay: 0.0005\n"
     ]
    },
    {
     "data": {
      "text/html": [
       "Tracking run with wandb version 0.14.2"
      ],
      "text/plain": [
       "<IPython.core.display.HTML object>"
      ]
     },
     "metadata": {},
     "output_type": "display_data"
    },
    {
     "data": {
      "text/html": [
       "Run data is saved locally in <code>C:\\Users\\hnnha\\Desktop\\Hari_NYU\\Spring23\\DL\\Mini_Project\\wandb\\run-20230414_203521-8u6v7v7p</code>"
      ],
      "text/plain": [
       "<IPython.core.display.HTML object>"
      ]
     },
     "metadata": {},
     "output_type": "display_data"
    },
    {
     "data": {
      "text/html": [
       "Syncing run <strong><a href='https://wandb.ai/hn2237/dl_mini/runs/8u6v7v7p' target=\"_blank\">toasty-sweep-16</a></strong> to <a href='https://wandb.ai/hn2237/dl_mini' target=\"_blank\">Weights & Biases</a> (<a href='https://wandb.me/run' target=\"_blank\">docs</a>)<br/>Sweep page: <a href='https://wandb.ai/hn2237/dl_mini/sweeps/ct9ebkvi' target=\"_blank\">https://wandb.ai/hn2237/dl_mini/sweeps/ct9ebkvi</a>"
      ],
      "text/plain": [
       "<IPython.core.display.HTML object>"
      ]
     },
     "metadata": {},
     "output_type": "display_data"
    },
    {
     "data": {
      "text/html": [
       " View project at <a href='https://wandb.ai/hn2237/dl_mini' target=\"_blank\">https://wandb.ai/hn2237/dl_mini</a>"
      ],
      "text/plain": [
       "<IPython.core.display.HTML object>"
      ]
     },
     "metadata": {},
     "output_type": "display_data"
    },
    {
     "data": {
      "text/html": [
       " View sweep at <a href='https://wandb.ai/hn2237/dl_mini/sweeps/ct9ebkvi' target=\"_blank\">https://wandb.ai/hn2237/dl_mini/sweeps/ct9ebkvi</a>"
      ],
      "text/plain": [
       "<IPython.core.display.HTML object>"
      ]
     },
     "metadata": {},
     "output_type": "display_data"
    },
    {
     "data": {
      "text/html": [
       " View run at <a href='https://wandb.ai/hn2237/dl_mini/runs/8u6v7v7p' target=\"_blank\">https://wandb.ai/hn2237/dl_mini/runs/8u6v7v7p</a>"
      ],
      "text/plain": [
       "<IPython.core.display.HTML object>"
      ]
     },
     "metadata": {},
     "output_type": "display_data"
    },
    {
     "name": "stdout",
     "output_type": "stream",
     "text": [
      "Running Epoch 0...\n",
      "Train==> Loss: 1.348 Acc: 50.890\n",
      "Test==> Loss: 1.089 Acc: 62.170\n",
      "Running Epoch 1...\n",
      "Train==> Loss: 0.890 Acc: 68.522\n",
      "Test==> Loss: 0.863 Acc: 69.850\n",
      "Running Epoch 2...\n",
      "Train==> Loss: 0.707 Acc: 75.254\n",
      "Test==> Loss: 0.681 Acc: 76.070\n",
      "Running Epoch 3...\n",
      "Train==> Loss: 0.604 Acc: 79.028\n",
      "Test==> Loss: 0.621 Acc: 78.670\n",
      "Running Epoch 4...\n",
      "Train==> Loss: 0.534 Acc: 81.512\n",
      "Test==> Loss: 0.821 Acc: 73.350\n",
      "Running Epoch 5...\n",
      "Train==> Loss: 0.487 Acc: 83.186\n",
      "Test==> Loss: 0.603 Acc: 80.840\n",
      "Running Epoch 6...\n",
      "Train==> Loss: 0.447 Acc: 84.650\n",
      "Test==> Loss: 0.565 Acc: 81.280\n",
      "Running Epoch 7...\n",
      "Train==> Loss: 0.414 Acc: 85.682\n",
      "Test==> Loss: 0.514 Acc: 82.890\n",
      "Running Epoch 8...\n",
      "Train==> Loss: 0.384 Acc: 86.840\n",
      "Test==> Loss: 0.542 Acc: 82.550\n",
      "Running Epoch 9...\n",
      "Train==> Loss: 0.358 Acc: 87.712\n",
      "Test==> Loss: 0.547 Acc: 81.730\n",
      "Running Epoch 10...\n",
      "Train==> Loss: 0.339 Acc: 88.368\n",
      "Test==> Loss: 0.505 Acc: 83.180\n",
      "Running Epoch 11...\n",
      "Train==> Loss: 0.317 Acc: 88.994\n",
      "Test==> Loss: 0.503 Acc: 83.840\n",
      "Running Epoch 12...\n",
      "Train==> Loss: 0.300 Acc: 89.640\n",
      "Test==> Loss: 0.476 Acc: 84.810\n",
      "Running Epoch 13...\n",
      "Train==> Loss: 0.287 Acc: 90.116\n",
      "Test==> Loss: 0.435 Acc: 86.180\n",
      "Running Epoch 14...\n",
      "Train==> Loss: 0.274 Acc: 90.550\n",
      "Test==> Loss: 0.458 Acc: 85.440\n",
      "Running Epoch 15...\n",
      "Train==> Loss: 0.260 Acc: 91.010\n",
      "Test==> Loss: 0.513 Acc: 84.060\n",
      "Running Epoch 16...\n",
      "Train==> Loss: 0.249 Acc: 91.350\n",
      "Test==> Loss: 0.399 Acc: 87.260\n",
      "Running Epoch 17...\n",
      "Train==> Loss: 0.240 Acc: 91.684\n",
      "Test==> Loss: 0.415 Acc: 86.810\n",
      "Running Epoch 18...\n",
      "Train==> Loss: 0.229 Acc: 92.112\n",
      "Test==> Loss: 0.394 Acc: 87.050\n",
      "Running Epoch 19...\n",
      "Train==> Loss: 0.215 Acc: 92.610\n",
      "Test==> Loss: 0.404 Acc: 87.240\n",
      "\n",
      "\n",
      "Best accuracy: 87.26\n"
     ]
    },
    {
     "data": {
      "text/html": [
       "Waiting for W&B process to finish... <strong style=\"color:green\">(success).</strong>"
      ],
      "text/plain": [
       "<IPython.core.display.HTML object>"
      ]
     },
     "metadata": {},
     "output_type": "display_data"
    },
    {
     "data": {
      "application/vnd.jupyter.widget-view+json": {
       "model_id": "d7fe628369624c95a4f618c3705cc517",
       "version_major": 2,
       "version_minor": 0
      },
      "text/plain": [
       "VBox(children=(Label(value='0.001 MB of 0.001 MB uploaded (0.000 MB deduped)\\r'), FloatProgress(value=1.0, max…"
      ]
     },
     "metadata": {},
     "output_type": "display_data"
    },
    {
     "data": {
      "text/html": [
       "<style>\n",
       "    table.wandb td:nth-child(1) { padding: 0 10px; text-align: left ; width: auto;} td:nth-child(2) {text-align: left ; width: 100%}\n",
       "    .wandb-row { display: flex; flex-direction: row; flex-wrap: wrap; justify-content: flex-start; width: 100% }\n",
       "    .wandb-col { display: flex; flex-direction: column; flex-basis: 100%; flex: 1; padding: 10px; }\n",
       "    </style>\n",
       "<div class=\"wandb-row\"><div class=\"wandb-col\"><h3>Run history:</h3><br/><table class=\"wandb\"><tr><td>epoch</td><td>▁▁▂▂▂▃▃▄▄▄▅▅▅▆▆▇▇▇██</td></tr><tr><td>test_accuracy</td><td>▁▃▅▆▄▆▆▇▇▆▇▇▇█▇▇████</td></tr><tr><td>test_loss</td><td>█▆▄▃▅▃▃▂▂▃▂▂▂▁▂▂▁▁▁▁</td></tr><tr><td>train_accuracy</td><td>▁▄▅▆▆▆▇▇▇▇▇▇████████</td></tr><tr><td>train_loss</td><td>█▅▄▃▃▃▂▂▂▂▂▂▂▁▁▁▁▁▁▁</td></tr></table><br/></div><div class=\"wandb-col\"><h3>Run summary:</h3><br/><table class=\"wandb\"><tr><td>epoch</td><td>20</td></tr><tr><td>test_accuracy</td><td>87.24</td></tr><tr><td>test_loss</td><td>0.40368</td></tr><tr><td>train_accuracy</td><td>92.61</td></tr><tr><td>train_loss</td><td>0.21508</td></tr></table><br/></div></div>"
      ],
      "text/plain": [
       "<IPython.core.display.HTML object>"
      ]
     },
     "metadata": {},
     "output_type": "display_data"
    },
    {
     "data": {
      "text/html": [
       " View run <strong style=\"color:#cdcd00\">toasty-sweep-16</strong> at: <a href='https://wandb.ai/hn2237/dl_mini/runs/8u6v7v7p' target=\"_blank\">https://wandb.ai/hn2237/dl_mini/runs/8u6v7v7p</a><br/>Synced 5 W&B file(s), 0 media file(s), 0 artifact file(s) and 0 other file(s)"
      ],
      "text/plain": [
       "<IPython.core.display.HTML object>"
      ]
     },
     "metadata": {},
     "output_type": "display_data"
    },
    {
     "data": {
      "text/html": [
       "Find logs at: <code>.\\wandb\\run-20230414_203521-8u6v7v7p\\logs</code>"
      ],
      "text/plain": [
       "<IPython.core.display.HTML object>"
      ]
     },
     "metadata": {},
     "output_type": "display_data"
    },
    {
     "name": "stderr",
     "output_type": "stream",
     "text": [
      "wandb: Sweep Agent: Waiting for job.\n",
      "wandb: Job received.\n",
      "wandb: Agent Starting Run: o9am2tnu with config:\n",
      "wandb: \tlearning_rate: 0.1\n",
      "wandb: \tmomentum: 0.99\n",
      "wandb: \toptimizer: sgd-nesterov\n",
      "wandb: \tweight_decay: 0.001\n"
     ]
    },
    {
     "data": {
      "text/html": [
       "Tracking run with wandb version 0.14.2"
      ],
      "text/plain": [
       "<IPython.core.display.HTML object>"
      ]
     },
     "metadata": {},
     "output_type": "display_data"
    },
    {
     "data": {
      "text/html": [
       "Run data is saved locally in <code>C:\\Users\\hnnha\\Desktop\\Hari_NYU\\Spring23\\DL\\Mini_Project\\wandb\\run-20230414_204119-o9am2tnu</code>"
      ],
      "text/plain": [
       "<IPython.core.display.HTML object>"
      ]
     },
     "metadata": {},
     "output_type": "display_data"
    },
    {
     "data": {
      "text/html": [
       "Syncing run <strong><a href='https://wandb.ai/hn2237/dl_mini/runs/o9am2tnu' target=\"_blank\">eager-sweep-17</a></strong> to <a href='https://wandb.ai/hn2237/dl_mini' target=\"_blank\">Weights & Biases</a> (<a href='https://wandb.me/run' target=\"_blank\">docs</a>)<br/>Sweep page: <a href='https://wandb.ai/hn2237/dl_mini/sweeps/ct9ebkvi' target=\"_blank\">https://wandb.ai/hn2237/dl_mini/sweeps/ct9ebkvi</a>"
      ],
      "text/plain": [
       "<IPython.core.display.HTML object>"
      ]
     },
     "metadata": {},
     "output_type": "display_data"
    },
    {
     "data": {
      "text/html": [
       " View project at <a href='https://wandb.ai/hn2237/dl_mini' target=\"_blank\">https://wandb.ai/hn2237/dl_mini</a>"
      ],
      "text/plain": [
       "<IPython.core.display.HTML object>"
      ]
     },
     "metadata": {},
     "output_type": "display_data"
    },
    {
     "data": {
      "text/html": [
       " View sweep at <a href='https://wandb.ai/hn2237/dl_mini/sweeps/ct9ebkvi' target=\"_blank\">https://wandb.ai/hn2237/dl_mini/sweeps/ct9ebkvi</a>"
      ],
      "text/plain": [
       "<IPython.core.display.HTML object>"
      ]
     },
     "metadata": {},
     "output_type": "display_data"
    },
    {
     "data": {
      "text/html": [
       " View run at <a href='https://wandb.ai/hn2237/dl_mini/runs/o9am2tnu' target=\"_blank\">https://wandb.ai/hn2237/dl_mini/runs/o9am2tnu</a>"
      ],
      "text/plain": [
       "<IPython.core.display.HTML object>"
      ]
     },
     "metadata": {},
     "output_type": "display_data"
    },
    {
     "name": "stdout",
     "output_type": "stream",
     "text": [
      "Running Epoch 0...\n",
      "Train==> Loss: 1.742 Acc: 35.896\n",
      "Test==> Loss: 1.975 Acc: 35.700\n",
      "Running Epoch 1...\n",
      "Train==> Loss: 1.340 Acc: 51.346\n",
      "Test==> Loss: 1.670 Acc: 42.200\n",
      "Running Epoch 2...\n",
      "Train==> Loss: 1.192 Acc: 57.464\n",
      "Test==> Loss: 1.458 Acc: 50.710\n",
      "Running Epoch 3...\n",
      "Train==> Loss: 1.175 Acc: 57.950\n",
      "Test==> Loss: 2.321 Acc: 29.910\n",
      "Running Epoch 4...\n",
      "Train==> Loss: 1.174 Acc: 58.096\n",
      "Test==> Loss: 2.899 Acc: 37.020\n",
      "Running Epoch 5...\n",
      "Train==> Loss: 1.186 Acc: 58.060\n",
      "Test==> Loss: 1.865 Acc: 41.480\n",
      "Running Epoch 6...\n",
      "Train==> Loss: 1.191 Acc: 57.694\n",
      "Test==> Loss: 2.740 Acc: 31.290\n",
      "Running Epoch 7...\n",
      "Train==> Loss: 1.183 Acc: 57.704\n",
      "Test==> Loss: 2.070 Acc: 35.360\n",
      "Running Epoch 8...\n",
      "Train==> Loss: 1.177 Acc: 58.112\n",
      "Test==> Loss: 1.222 Acc: 55.260\n",
      "Running Epoch 9...\n",
      "Train==> Loss: 1.174 Acc: 58.084\n",
      "Test==> Loss: 1.776 Acc: 38.760\n",
      "Running Epoch 10...\n",
      "Train==> Loss: 1.196 Acc: 57.480\n",
      "Test==> Loss: 1.351 Acc: 52.120\n",
      "Running Epoch 11...\n",
      "Train==> Loss: 1.189 Acc: 57.530\n",
      "Test==> Loss: 2.156 Acc: 35.750\n",
      "Running Epoch 12...\n",
      "Train==> Loss: 1.173 Acc: 57.916\n",
      "Test==> Loss: 1.822 Acc: 40.200\n",
      "Running Epoch 13...\n",
      "Train==> Loss: 1.174 Acc: 58.326\n",
      "Test==> Loss: 1.340 Acc: 54.100\n",
      "Running Epoch 14...\n",
      "Train==> Loss: 1.166 Acc: 58.436\n",
      "Test==> Loss: 2.024 Acc: 41.690\n",
      "Running Epoch 15...\n",
      "Train==> Loss: 1.126 Acc: 60.260\n",
      "Test==> Loss: 1.973 Acc: 38.710\n",
      "Running Epoch 16...\n",
      "Train==> Loss: 1.109 Acc: 60.772\n",
      "Test==> Loss: 1.607 Acc: 48.520\n",
      "Running Epoch 17...\n",
      "Train==> Loss: 1.119 Acc: 60.438\n",
      "Test==> Loss: 1.439 Acc: 49.440\n",
      "Running Epoch 18...\n",
      "Train==> Loss: 1.112 Acc: 60.926\n",
      "Test==> Loss: 1.949 Acc: 39.780\n",
      "Running Epoch 19...\n",
      "Train==> Loss: 1.117 Acc: 60.602\n",
      "Test==> Loss: 1.851 Acc: 41.860\n",
      "\n",
      "\n",
      "Best accuracy: 55.26\n"
     ]
    },
    {
     "data": {
      "text/html": [
       "Waiting for W&B process to finish... <strong style=\"color:green\">(success).</strong>"
      ],
      "text/plain": [
       "<IPython.core.display.HTML object>"
      ]
     },
     "metadata": {},
     "output_type": "display_data"
    },
    {
     "data": {
      "text/html": [
       "<style>\n",
       "    table.wandb td:nth-child(1) { padding: 0 10px; text-align: left ; width: auto;} td:nth-child(2) {text-align: left ; width: 100%}\n",
       "    .wandb-row { display: flex; flex-direction: row; flex-wrap: wrap; justify-content: flex-start; width: 100% }\n",
       "    .wandb-col { display: flex; flex-direction: column; flex-basis: 100%; flex: 1; padding: 10px; }\n",
       "    </style>\n",
       "<div class=\"wandb-row\"><div class=\"wandb-col\"><h3>Run history:</h3><br/><table class=\"wandb\"><tr><td>epoch</td><td>▁▁▂▂▂▃▃▄▄▄▅▅▅▆▆▇▇▇██</td></tr><tr><td>test_accuracy</td><td>▃▄▇▁▃▄▁▃█▃▇▃▄█▄▃▆▆▄▄</td></tr><tr><td>test_loss</td><td>▄▃▂▆█▄▇▅▁▃▂▅▄▁▄▄▃▂▄▄</td></tr><tr><td>train_accuracy</td><td>▁▅▇▇▇▇▇▇▇▇▇▇▇▇▇█████</td></tr><tr><td>train_loss</td><td>█▄▂▂▂▂▂▂▂▂▂▂▂▂▂▁▁▁▁▁</td></tr></table><br/></div><div class=\"wandb-col\"><h3>Run summary:</h3><br/><table class=\"wandb\"><tr><td>epoch</td><td>20</td></tr><tr><td>test_accuracy</td><td>41.86</td></tr><tr><td>test_loss</td><td>1.85076</td></tr><tr><td>train_accuracy</td><td>60.602</td></tr><tr><td>train_loss</td><td>1.11672</td></tr></table><br/></div></div>"
      ],
      "text/plain": [
       "<IPython.core.display.HTML object>"
      ]
     },
     "metadata": {},
     "output_type": "display_data"
    },
    {
     "data": {
      "text/html": [
       " View run <strong style=\"color:#cdcd00\">eager-sweep-17</strong> at: <a href='https://wandb.ai/hn2237/dl_mini/runs/o9am2tnu' target=\"_blank\">https://wandb.ai/hn2237/dl_mini/runs/o9am2tnu</a><br/>Synced 5 W&B file(s), 0 media file(s), 0 artifact file(s) and 0 other file(s)"
      ],
      "text/plain": [
       "<IPython.core.display.HTML object>"
      ]
     },
     "metadata": {},
     "output_type": "display_data"
    },
    {
     "data": {
      "text/html": [
       "Find logs at: <code>.\\wandb\\run-20230414_204119-o9am2tnu\\logs</code>"
      ],
      "text/plain": [
       "<IPython.core.display.HTML object>"
      ]
     },
     "metadata": {},
     "output_type": "display_data"
    },
    {
     "name": "stderr",
     "output_type": "stream",
     "text": [
      "wandb: Agent Starting Run: sj99qeys with config:\n",
      "wandb: \tlearning_rate: 0.1\n",
      "wandb: \tmomentum: 0.9\n",
      "wandb: \toptimizer: adadelta\n",
      "wandb: \tweight_decay: 0.0005\n"
     ]
    },
    {
     "data": {
      "text/html": [
       "Tracking run with wandb version 0.14.2"
      ],
      "text/plain": [
       "<IPython.core.display.HTML object>"
      ]
     },
     "metadata": {},
     "output_type": "display_data"
    },
    {
     "data": {
      "text/html": [
       "Run data is saved locally in <code>C:\\Users\\hnnha\\Desktop\\Hari_NYU\\Spring23\\DL\\Mini_Project\\wandb\\run-20230414_204714-sj99qeys</code>"
      ],
      "text/plain": [
       "<IPython.core.display.HTML object>"
      ]
     },
     "metadata": {},
     "output_type": "display_data"
    },
    {
     "data": {
      "text/html": [
       "Syncing run <strong><a href='https://wandb.ai/hn2237/dl_mini/runs/sj99qeys' target=\"_blank\">hopeful-sweep-18</a></strong> to <a href='https://wandb.ai/hn2237/dl_mini' target=\"_blank\">Weights & Biases</a> (<a href='https://wandb.me/run' target=\"_blank\">docs</a>)<br/>Sweep page: <a href='https://wandb.ai/hn2237/dl_mini/sweeps/ct9ebkvi' target=\"_blank\">https://wandb.ai/hn2237/dl_mini/sweeps/ct9ebkvi</a>"
      ],
      "text/plain": [
       "<IPython.core.display.HTML object>"
      ]
     },
     "metadata": {},
     "output_type": "display_data"
    },
    {
     "data": {
      "text/html": [
       " View project at <a href='https://wandb.ai/hn2237/dl_mini' target=\"_blank\">https://wandb.ai/hn2237/dl_mini</a>"
      ],
      "text/plain": [
       "<IPython.core.display.HTML object>"
      ]
     },
     "metadata": {},
     "output_type": "display_data"
    },
    {
     "data": {
      "text/html": [
       " View sweep at <a href='https://wandb.ai/hn2237/dl_mini/sweeps/ct9ebkvi' target=\"_blank\">https://wandb.ai/hn2237/dl_mini/sweeps/ct9ebkvi</a>"
      ],
      "text/plain": [
       "<IPython.core.display.HTML object>"
      ]
     },
     "metadata": {},
     "output_type": "display_data"
    },
    {
     "data": {
      "text/html": [
       " View run at <a href='https://wandb.ai/hn2237/dl_mini/runs/sj99qeys' target=\"_blank\">https://wandb.ai/hn2237/dl_mini/runs/sj99qeys</a>"
      ],
      "text/plain": [
       "<IPython.core.display.HTML object>"
      ]
     },
     "metadata": {},
     "output_type": "display_data"
    },
    {
     "name": "stdout",
     "output_type": "stream",
     "text": [
      "Running Epoch 0...\n",
      "Train==> Loss: 1.398 Acc: 48.710\n",
      "Test==> Loss: 1.298 Acc: 52.470\n",
      "Running Epoch 1...\n",
      "Train==> Loss: 0.977 Acc: 65.244\n",
      "Test==> Loss: 0.923 Acc: 67.570\n",
      "Running Epoch 2...\n",
      "Train==> Loss: 0.802 Acc: 71.634\n",
      "Test==> Loss: 1.068 Acc: 64.660\n",
      "Running Epoch 3...\n",
      "Train==> Loss: 0.681 Acc: 76.310\n",
      "Test==> Loss: 0.867 Acc: 71.150\n",
      "Running Epoch 4...\n",
      "Train==> Loss: 0.606 Acc: 78.994\n",
      "Test==> Loss: 0.853 Acc: 72.790\n",
      "Running Epoch 5...\n",
      "Train==> Loss: 0.543 Acc: 81.118\n",
      "Test==> Loss: 0.624 Acc: 78.620\n",
      "Running Epoch 6...\n",
      "Train==> Loss: 0.494 Acc: 82.924\n",
      "Test==> Loss: 0.686 Acc: 78.180\n",
      "Running Epoch 7...\n",
      "Train==> Loss: 0.459 Acc: 84.004\n",
      "Test==> Loss: 0.728 Acc: 76.290\n",
      "Running Epoch 8...\n",
      "Train==> Loss: 0.429 Acc: 85.086\n",
      "Test==> Loss: 0.549 Acc: 81.550\n",
      "Running Epoch 9...\n",
      "Train==> Loss: 0.401 Acc: 86.120\n",
      "Test==> Loss: 0.581 Acc: 81.740\n",
      "Running Epoch 10...\n",
      "Train==> Loss: 0.376 Acc: 86.916\n",
      "Test==> Loss: 0.567 Acc: 81.910\n",
      "Running Epoch 11...\n",
      "Train==> Loss: 0.355 Acc: 87.810\n",
      "Test==> Loss: 0.548 Acc: 81.880\n",
      "Running Epoch 12...\n",
      "Train==> Loss: 0.335 Acc: 88.328\n",
      "Test==> Loss: 0.474 Acc: 83.890\n",
      "Running Epoch 13...\n",
      "Train==> Loss: 0.317 Acc: 89.092\n",
      "Test==> Loss: 0.612 Acc: 81.200\n",
      "Running Epoch 14...\n",
      "Train==> Loss: 0.303 Acc: 89.422\n",
      "Test==> Loss: 0.497 Acc: 84.030\n",
      "Running Epoch 15...\n",
      "Train==> Loss: 0.286 Acc: 90.044\n",
      "Test==> Loss: 0.460 Acc: 85.430\n",
      "Running Epoch 16...\n",
      "Train==> Loss: 0.271 Acc: 90.592\n",
      "Test==> Loss: 0.621 Acc: 81.620\n",
      "Running Epoch 17...\n",
      "Train==> Loss: 0.261 Acc: 90.960\n",
      "Test==> Loss: 0.653 Acc: 80.650\n",
      "Running Epoch 18...\n",
      "Train==> Loss: 0.253 Acc: 91.146\n",
      "Test==> Loss: 0.849 Acc: 78.840\n",
      "Running Epoch 19...\n",
      "Train==> Loss: 0.239 Acc: 91.724\n",
      "Test==> Loss: 0.492 Acc: 84.920\n",
      "\n",
      "\n",
      "Best accuracy: 85.43\n"
     ]
    },
    {
     "data": {
      "text/html": [
       "Waiting for W&B process to finish... <strong style=\"color:green\">(success).</strong>"
      ],
      "text/plain": [
       "<IPython.core.display.HTML object>"
      ]
     },
     "metadata": {},
     "output_type": "display_data"
    },
    {
     "data": {
      "application/vnd.jupyter.widget-view+json": {
       "model_id": "e1ffa24ff15048ffb8d06f67814cce55",
       "version_major": 2,
       "version_minor": 0
      },
      "text/plain": [
       "VBox(children=(Label(value='0.001 MB of 0.001 MB uploaded (0.000 MB deduped)\\r'), FloatProgress(value=1.0, max…"
      ]
     },
     "metadata": {},
     "output_type": "display_data"
    },
    {
     "data": {
      "text/html": [
       "<style>\n",
       "    table.wandb td:nth-child(1) { padding: 0 10px; text-align: left ; width: auto;} td:nth-child(2) {text-align: left ; width: 100%}\n",
       "    .wandb-row { display: flex; flex-direction: row; flex-wrap: wrap; justify-content: flex-start; width: 100% }\n",
       "    .wandb-col { display: flex; flex-direction: column; flex-basis: 100%; flex: 1; padding: 10px; }\n",
       "    </style>\n",
       "<div class=\"wandb-row\"><div class=\"wandb-col\"><h3>Run history:</h3><br/><table class=\"wandb\"><tr><td>epoch</td><td>▁▁▂▂▂▃▃▄▄▄▅▅▅▆▆▇▇▇██</td></tr><tr><td>test_accuracy</td><td>▁▄▄▅▅▇▆▆▇▇▇▇█▇██▇▇▇█</td></tr><tr><td>test_loss</td><td>█▅▆▄▄▂▃▃▂▂▂▂▁▂▁▁▂▃▄▁</td></tr><tr><td>train_accuracy</td><td>▁▄▅▅▆▆▇▇▇▇▇▇▇███████</td></tr><tr><td>train_loss</td><td>█▅▄▄▃▃▃▂▂▂▂▂▂▁▁▁▁▁▁▁</td></tr></table><br/></div><div class=\"wandb-col\"><h3>Run summary:</h3><br/><table class=\"wandb\"><tr><td>epoch</td><td>20</td></tr><tr><td>test_accuracy</td><td>84.92</td></tr><tr><td>test_loss</td><td>0.4921</td></tr><tr><td>train_accuracy</td><td>91.724</td></tr><tr><td>train_loss</td><td>0.23874</td></tr></table><br/></div></div>"
      ],
      "text/plain": [
       "<IPython.core.display.HTML object>"
      ]
     },
     "metadata": {},
     "output_type": "display_data"
    },
    {
     "data": {
      "text/html": [
       " View run <strong style=\"color:#cdcd00\">hopeful-sweep-18</strong> at: <a href='https://wandb.ai/hn2237/dl_mini/runs/sj99qeys' target=\"_blank\">https://wandb.ai/hn2237/dl_mini/runs/sj99qeys</a><br/>Synced 5 W&B file(s), 0 media file(s), 0 artifact file(s) and 0 other file(s)"
      ],
      "text/plain": [
       "<IPython.core.display.HTML object>"
      ]
     },
     "metadata": {},
     "output_type": "display_data"
    },
    {
     "data": {
      "text/html": [
       "Find logs at: <code>.\\wandb\\run-20230414_204714-sj99qeys\\logs</code>"
      ],
      "text/plain": [
       "<IPython.core.display.HTML object>"
      ]
     },
     "metadata": {},
     "output_type": "display_data"
    },
    {
     "name": "stderr",
     "output_type": "stream",
     "text": [
      "wandb: Sweep Agent: Waiting for job.\n",
      "wandb: Job received.\n",
      "wandb: Agent Starting Run: dtfsxmfn with config:\n",
      "wandb: \tlearning_rate: 0.01\n",
      "wandb: \tmomentum: 0.99\n",
      "wandb: \toptimizer: adadelta\n",
      "wandb: \tweight_decay: 0.0005\n"
     ]
    },
    {
     "data": {
      "text/html": [
       "Tracking run with wandb version 0.14.2"
      ],
      "text/plain": [
       "<IPython.core.display.HTML object>"
      ]
     },
     "metadata": {},
     "output_type": "display_data"
    },
    {
     "data": {
      "text/html": [
       "Run data is saved locally in <code>C:\\Users\\hnnha\\Desktop\\Hari_NYU\\Spring23\\DL\\Mini_Project\\wandb\\run-20230414_205319-dtfsxmfn</code>"
      ],
      "text/plain": [
       "<IPython.core.display.HTML object>"
      ]
     },
     "metadata": {},
     "output_type": "display_data"
    },
    {
     "data": {
      "text/html": [
       "Syncing run <strong><a href='https://wandb.ai/hn2237/dl_mini/runs/dtfsxmfn' target=\"_blank\">twilight-sweep-19</a></strong> to <a href='https://wandb.ai/hn2237/dl_mini' target=\"_blank\">Weights & Biases</a> (<a href='https://wandb.me/run' target=\"_blank\">docs</a>)<br/>Sweep page: <a href='https://wandb.ai/hn2237/dl_mini/sweeps/ct9ebkvi' target=\"_blank\">https://wandb.ai/hn2237/dl_mini/sweeps/ct9ebkvi</a>"
      ],
      "text/plain": [
       "<IPython.core.display.HTML object>"
      ]
     },
     "metadata": {},
     "output_type": "display_data"
    },
    {
     "data": {
      "text/html": [
       " View project at <a href='https://wandb.ai/hn2237/dl_mini' target=\"_blank\">https://wandb.ai/hn2237/dl_mini</a>"
      ],
      "text/plain": [
       "<IPython.core.display.HTML object>"
      ]
     },
     "metadata": {},
     "output_type": "display_data"
    },
    {
     "data": {
      "text/html": [
       " View sweep at <a href='https://wandb.ai/hn2237/dl_mini/sweeps/ct9ebkvi' target=\"_blank\">https://wandb.ai/hn2237/dl_mini/sweeps/ct9ebkvi</a>"
      ],
      "text/plain": [
       "<IPython.core.display.HTML object>"
      ]
     },
     "metadata": {},
     "output_type": "display_data"
    },
    {
     "data": {
      "text/html": [
       " View run at <a href='https://wandb.ai/hn2237/dl_mini/runs/dtfsxmfn' target=\"_blank\">https://wandb.ai/hn2237/dl_mini/runs/dtfsxmfn</a>"
      ],
      "text/plain": [
       "<IPython.core.display.HTML object>"
      ]
     },
     "metadata": {},
     "output_type": "display_data"
    },
    {
     "name": "stdout",
     "output_type": "stream",
     "text": [
      "Running Epoch 0...\n",
      "Train==> Loss: 1.765 Acc: 35.370\n",
      "Test==> Loss: 1.585 Acc: 42.460\n",
      "Running Epoch 1...\n",
      "Train==> Loss: 1.452 Acc: 47.300\n",
      "Test==> Loss: 1.347 Acc: 50.850\n",
      "Running Epoch 2...\n",
      "Train==> Loss: 1.302 Acc: 53.244\n",
      "Test==> Loss: 1.240 Acc: 55.150\n",
      "Running Epoch 3...\n",
      "Train==> Loss: 1.204 Acc: 56.808\n",
      "Test==> Loss: 1.150 Acc: 57.900\n",
      "Running Epoch 4...\n",
      "Train==> Loss: 1.123 Acc: 59.884\n",
      "Test==> Loss: 1.110 Acc: 59.750\n",
      "Running Epoch 5...\n",
      "Train==> Loss: 1.057 Acc: 62.398\n",
      "Test==> Loss: 1.083 Acc: 61.390\n",
      "Running Epoch 6...\n",
      "Train==> Loss: 1.002 Acc: 64.244\n",
      "Test==> Loss: 1.002 Acc: 64.690\n",
      "Running Epoch 7...\n",
      "Train==> Loss: 0.950 Acc: 66.326\n",
      "Test==> Loss: 0.990 Acc: 65.530\n",
      "Running Epoch 8...\n",
      "Train==> Loss: 0.906 Acc: 68.026\n",
      "Test==> Loss: 0.905 Acc: 67.720\n",
      "Running Epoch 9...\n",
      "Train==> Loss: 0.866 Acc: 69.652\n",
      "Test==> Loss: 0.944 Acc: 67.130\n",
      "Running Epoch 10...\n",
      "Train==> Loss: 0.833 Acc: 70.882\n",
      "Test==> Loss: 0.932 Acc: 67.260\n",
      "Running Epoch 11...\n",
      "Train==> Loss: 0.798 Acc: 71.896\n",
      "Test==> Loss: 0.853 Acc: 69.950\n",
      "Running Epoch 12...\n",
      "Train==> Loss: 0.764 Acc: 73.122\n",
      "Test==> Loss: 0.783 Acc: 72.580\n",
      "Running Epoch 13...\n",
      "Train==> Loss: 0.734 Acc: 74.288\n",
      "Test==> Loss: 0.751 Acc: 73.880\n",
      "Running Epoch 14...\n",
      "Train==> Loss: 0.708 Acc: 75.288\n",
      "Test==> Loss: 0.805 Acc: 72.800\n",
      "Running Epoch 15...\n",
      "Train==> Loss: 0.683 Acc: 76.096\n",
      "Test==> Loss: 0.738 Acc: 74.400\n",
      "Running Epoch 16...\n",
      "Train==> Loss: 0.659 Acc: 77.040\n",
      "Test==> Loss: 0.708 Acc: 75.640\n",
      "Running Epoch 17...\n",
      "Train==> Loss: 0.638 Acc: 77.876\n",
      "Test==> Loss: 0.829 Acc: 72.070\n",
      "Running Epoch 18...\n",
      "Train==> Loss: 0.618 Acc: 78.698\n",
      "Test==> Loss: 0.678 Acc: 76.690\n",
      "Running Epoch 19...\n",
      "Train==> Loss: 0.597 Acc: 79.278\n",
      "Test==> Loss: 0.713 Acc: 75.520\n",
      "\n",
      "\n",
      "Best accuracy: 76.69\n"
     ]
    },
    {
     "data": {
      "text/html": [
       "Waiting for W&B process to finish... <strong style=\"color:green\">(success).</strong>"
      ],
      "text/plain": [
       "<IPython.core.display.HTML object>"
      ]
     },
     "metadata": {},
     "output_type": "display_data"
    },
    {
     "data": {
      "application/vnd.jupyter.widget-view+json": {
       "model_id": "059d8326783c460bb1ce6b2fd273ebc8",
       "version_major": 2,
       "version_minor": 0
      },
      "text/plain": [
       "VBox(children=(Label(value='0.001 MB of 0.001 MB uploaded (0.000 MB deduped)\\r'), FloatProgress(value=1.0, max…"
      ]
     },
     "metadata": {},
     "output_type": "display_data"
    },
    {
     "data": {
      "text/html": [
       "<style>\n",
       "    table.wandb td:nth-child(1) { padding: 0 10px; text-align: left ; width: auto;} td:nth-child(2) {text-align: left ; width: 100%}\n",
       "    .wandb-row { display: flex; flex-direction: row; flex-wrap: wrap; justify-content: flex-start; width: 100% }\n",
       "    .wandb-col { display: flex; flex-direction: column; flex-basis: 100%; flex: 1; padding: 10px; }\n",
       "    </style>\n",
       "<div class=\"wandb-row\"><div class=\"wandb-col\"><h3>Run history:</h3><br/><table class=\"wandb\"><tr><td>epoch</td><td>▁▁▂▂▂▃▃▄▄▄▅▅▅▆▆▇▇▇██</td></tr><tr><td>test_accuracy</td><td>▁▃▄▄▅▅▆▆▆▆▆▇▇▇▇██▇██</td></tr><tr><td>test_loss</td><td>█▆▅▅▄▄▃▃▃▃▃▂▂▂▂▁▁▂▁▁</td></tr><tr><td>train_accuracy</td><td>▁▃▄▄▅▅▆▆▆▆▇▇▇▇▇▇████</td></tr><tr><td>train_loss</td><td>█▆▅▅▄▄▃▃▃▃▂▂▂▂▂▂▁▁▁▁</td></tr></table><br/></div><div class=\"wandb-col\"><h3>Run summary:</h3><br/><table class=\"wandb\"><tr><td>epoch</td><td>20</td></tr><tr><td>test_accuracy</td><td>75.52</td></tr><tr><td>test_loss</td><td>0.71304</td></tr><tr><td>train_accuracy</td><td>79.278</td></tr><tr><td>train_loss</td><td>0.59721</td></tr></table><br/></div></div>"
      ],
      "text/plain": [
       "<IPython.core.display.HTML object>"
      ]
     },
     "metadata": {},
     "output_type": "display_data"
    },
    {
     "data": {
      "text/html": [
       " View run <strong style=\"color:#cdcd00\">twilight-sweep-19</strong> at: <a href='https://wandb.ai/hn2237/dl_mini/runs/dtfsxmfn' target=\"_blank\">https://wandb.ai/hn2237/dl_mini/runs/dtfsxmfn</a><br/>Synced 5 W&B file(s), 0 media file(s), 0 artifact file(s) and 0 other file(s)"
      ],
      "text/plain": [
       "<IPython.core.display.HTML object>"
      ]
     },
     "metadata": {},
     "output_type": "display_data"
    },
    {
     "data": {
      "text/html": [
       "Find logs at: <code>.\\wandb\\run-20230414_205319-dtfsxmfn\\logs</code>"
      ],
      "text/plain": [
       "<IPython.core.display.HTML object>"
      ]
     },
     "metadata": {},
     "output_type": "display_data"
    },
    {
     "name": "stderr",
     "output_type": "stream",
     "text": [
      "wandb: Agent Starting Run: e1zaty38 with config:\n",
      "wandb: \tlearning_rate: 0.1\n",
      "wandb: \tmomentum: 0.99\n",
      "wandb: \toptimizer: adagrad\n",
      "wandb: \tweight_decay: 0.001\n"
     ]
    },
    {
     "data": {
      "text/html": [
       "Tracking run with wandb version 0.14.2"
      ],
      "text/plain": [
       "<IPython.core.display.HTML object>"
      ]
     },
     "metadata": {},
     "output_type": "display_data"
    },
    {
     "data": {
      "text/html": [
       "Run data is saved locally in <code>C:\\Users\\hnnha\\Desktop\\Hari_NYU\\Spring23\\DL\\Mini_Project\\wandb\\run-20230414_205911-e1zaty38</code>"
      ],
      "text/plain": [
       "<IPython.core.display.HTML object>"
      ]
     },
     "metadata": {},
     "output_type": "display_data"
    },
    {
     "data": {
      "text/html": [
       "Syncing run <strong><a href='https://wandb.ai/hn2237/dl_mini/runs/e1zaty38' target=\"_blank\">earthy-sweep-20</a></strong> to <a href='https://wandb.ai/hn2237/dl_mini' target=\"_blank\">Weights & Biases</a> (<a href='https://wandb.me/run' target=\"_blank\">docs</a>)<br/>Sweep page: <a href='https://wandb.ai/hn2237/dl_mini/sweeps/ct9ebkvi' target=\"_blank\">https://wandb.ai/hn2237/dl_mini/sweeps/ct9ebkvi</a>"
      ],
      "text/plain": [
       "<IPython.core.display.HTML object>"
      ]
     },
     "metadata": {},
     "output_type": "display_data"
    },
    {
     "data": {
      "text/html": [
       " View project at <a href='https://wandb.ai/hn2237/dl_mini' target=\"_blank\">https://wandb.ai/hn2237/dl_mini</a>"
      ],
      "text/plain": [
       "<IPython.core.display.HTML object>"
      ]
     },
     "metadata": {},
     "output_type": "display_data"
    },
    {
     "data": {
      "text/html": [
       " View sweep at <a href='https://wandb.ai/hn2237/dl_mini/sweeps/ct9ebkvi' target=\"_blank\">https://wandb.ai/hn2237/dl_mini/sweeps/ct9ebkvi</a>"
      ],
      "text/plain": [
       "<IPython.core.display.HTML object>"
      ]
     },
     "metadata": {},
     "output_type": "display_data"
    },
    {
     "data": {
      "text/html": [
       " View run at <a href='https://wandb.ai/hn2237/dl_mini/runs/e1zaty38' target=\"_blank\">https://wandb.ai/hn2237/dl_mini/runs/e1zaty38</a>"
      ],
      "text/plain": [
       "<IPython.core.display.HTML object>"
      ]
     },
     "metadata": {},
     "output_type": "display_data"
    },
    {
     "name": "stdout",
     "output_type": "stream",
     "text": [
      "Running Epoch 0...\n",
      "Train==> Loss: 2.106 Acc: 24.872\n",
      "Test==> Loss: 1.865 Acc: 29.490\n",
      "Running Epoch 1...\n",
      "Train==> Loss: 1.862 Acc: 29.622\n",
      "Test==> Loss: 1.844 Acc: 30.800\n",
      "Running Epoch 2...\n",
      "Train==> Loss: 1.781 Acc: 34.116\n",
      "Test==> Loss: 1.568 Acc: 41.990\n",
      "Running Epoch 3...\n",
      "Train==> Loss: 1.776 Acc: 33.764\n",
      "Test==> Loss: 1.593 Acc: 42.650\n",
      "Running Epoch 4...\n",
      "Train==> Loss: 1.767 Acc: 34.658\n",
      "Test==> Loss: 1.829 Acc: 36.180\n",
      "Running Epoch 5...\n",
      "Train==> Loss: 1.744 Acc: 35.488\n",
      "Test==> Loss: 1.480 Acc: 45.800\n",
      "Running Epoch 6...\n",
      "Train==> Loss: 1.734 Acc: 36.454\n",
      "Test==> Loss: 1.583 Acc: 41.770\n",
      "Running Epoch 7...\n",
      "Train==> Loss: 1.747 Acc: 36.158\n",
      "Test==> Loss: 1.533 Acc: 43.310\n",
      "Running Epoch 8...\n",
      "Train==> Loss: 1.725 Acc: 37.046\n",
      "Test==> Loss: 1.677 Acc: 39.880\n",
      "Running Epoch 9...\n",
      "Train==> Loss: 1.723 Acc: 36.354\n",
      "Test==> Loss: 1.983 Acc: 33.940\n",
      "Running Epoch 10...\n",
      "Train==> Loss: 1.724 Acc: 36.182\n",
      "Test==> Loss: 1.528 Acc: 43.600\n",
      "Running Epoch 11...\n",
      "Train==> Loss: 1.738 Acc: 36.300\n",
      "Test==> Loss: 1.510 Acc: 44.440\n",
      "Running Epoch 12...\n",
      "Train==> Loss: 1.732 Acc: 36.636\n",
      "Test==> Loss: 1.735 Acc: 38.320\n",
      "Running Epoch 13...\n",
      "Train==> Loss: 1.738 Acc: 36.044\n",
      "Test==> Loss: 1.564 Acc: 42.840\n",
      "Running Epoch 14...\n",
      "Train==> Loss: 1.752 Acc: 35.200\n",
      "Test==> Loss: 1.554 Acc: 42.330\n",
      "Running Epoch 15...\n",
      "Train==> Loss: 1.713 Acc: 37.150\n",
      "Test==> Loss: 1.597 Acc: 41.230\n",
      "Running Epoch 16...\n",
      "Train==> Loss: 1.692 Acc: 38.272\n",
      "Test==> Loss: 1.456 Acc: 46.340\n",
      "Running Epoch 17...\n",
      "Train==> Loss: 1.641 Acc: 40.250\n",
      "Test==> Loss: 1.687 Acc: 41.230\n",
      "Running Epoch 18...\n",
      "Train==> Loss: 1.695 Acc: 38.228\n",
      "Test==> Loss: 1.484 Acc: 45.710\n",
      "Running Epoch 19...\n",
      "Train==> Loss: 1.632 Acc: 40.516\n",
      "Test==> Loss: 1.720 Acc: 42.510\n",
      "\n",
      "\n",
      "Best accuracy: 46.34\n"
     ]
    },
    {
     "data": {
      "text/html": [
       "Waiting for W&B process to finish... <strong style=\"color:green\">(success).</strong>"
      ],
      "text/plain": [
       "<IPython.core.display.HTML object>"
      ]
     },
     "metadata": {},
     "output_type": "display_data"
    },
    {
     "data": {
      "application/vnd.jupyter.widget-view+json": {
       "model_id": "81663ae57c7b4faca05fa3549be3d6b5",
       "version_major": 2,
       "version_minor": 0
      },
      "text/plain": [
       "VBox(children=(Label(value='0.001 MB of 0.001 MB uploaded (0.000 MB deduped)\\r'), FloatProgress(value=1.0, max…"
      ]
     },
     "metadata": {},
     "output_type": "display_data"
    },
    {
     "data": {
      "text/html": [
       "<style>\n",
       "    table.wandb td:nth-child(1) { padding: 0 10px; text-align: left ; width: auto;} td:nth-child(2) {text-align: left ; width: 100%}\n",
       "    .wandb-row { display: flex; flex-direction: row; flex-wrap: wrap; justify-content: flex-start; width: 100% }\n",
       "    .wandb-col { display: flex; flex-direction: column; flex-basis: 100%; flex: 1; padding: 10px; }\n",
       "    </style>\n",
       "<div class=\"wandb-row\"><div class=\"wandb-col\"><h3>Run history:</h3><br/><table class=\"wandb\"><tr><td>epoch</td><td>▁▁▂▂▂▃▃▄▄▄▅▅▅▆▆▇▇▇██</td></tr><tr><td>test_accuracy</td><td>▁▂▆▆▄█▆▇▅▃▇▇▅▇▆▆█▆█▆</td></tr><tr><td>test_loss</td><td>▆▆▂▃▆▁▃▂▄█▂▂▅▂▂▃▁▄▁▅</td></tr><tr><td>train_accuracy</td><td>▁▃▅▅▅▆▆▆▆▆▆▆▆▆▆▆▇█▇█</td></tr><tr><td>train_loss</td><td>█▄▃▃▃▃▃▃▂▂▂▃▂▃▃▂▂▁▂▁</td></tr></table><br/></div><div class=\"wandb-col\"><h3>Run summary:</h3><br/><table class=\"wandb\"><tr><td>epoch</td><td>20</td></tr><tr><td>test_accuracy</td><td>42.51</td></tr><tr><td>test_loss</td><td>1.71968</td></tr><tr><td>train_accuracy</td><td>40.516</td></tr><tr><td>train_loss</td><td>1.6321</td></tr></table><br/></div></div>"
      ],
      "text/plain": [
       "<IPython.core.display.HTML object>"
      ]
     },
     "metadata": {},
     "output_type": "display_data"
    },
    {
     "data": {
      "text/html": [
       " View run <strong style=\"color:#cdcd00\">earthy-sweep-20</strong> at: <a href='https://wandb.ai/hn2237/dl_mini/runs/e1zaty38' target=\"_blank\">https://wandb.ai/hn2237/dl_mini/runs/e1zaty38</a><br/>Synced 5 W&B file(s), 0 media file(s), 0 artifact file(s) and 0 other file(s)"
      ],
      "text/plain": [
       "<IPython.core.display.HTML object>"
      ]
     },
     "metadata": {},
     "output_type": "display_data"
    },
    {
     "data": {
      "text/html": [
       "Find logs at: <code>.\\wandb\\run-20230414_205911-e1zaty38\\logs</code>"
      ],
      "text/plain": [
       "<IPython.core.display.HTML object>"
      ]
     },
     "metadata": {},
     "output_type": "display_data"
    }
   ],
   "source": [
    "wandb.agent(sweep_id, test_wandb, count=20)"
   ]
  },
  {
   "cell_type": "code",
   "execution_count": 25,
   "metadata": {},
   "outputs": [
    {
     "name": "stdout",
     "output_type": "stream",
     "text": [
      "Running Epoch 0...\n",
      "Saving..\n",
      "Train==> Loss: 1.398 Acc: 48.850\n",
      "Test==> Loss: 1.539 Acc: 48.690\n",
      "Running Epoch 1...\n",
      "Saving..\n",
      "Train==> Loss: 0.960 Acc: 65.782\n",
      "Test==> Loss: 1.015 Acc: 65.160\n",
      "Running Epoch 2...\n",
      "Saving..\n",
      "Train==> Loss: 0.774 Acc: 72.754\n",
      "Test==> Loss: 0.882 Acc: 69.750\n",
      "Running Epoch 3...\n",
      "Saving..\n",
      "Train==> Loss: 0.666 Acc: 76.802\n",
      "Test==> Loss: 0.769 Acc: 74.190\n",
      "Running Epoch 4...\n",
      "Saving..\n",
      "Train==> Loss: 0.589 Acc: 79.502\n",
      "Test==> Loss: 0.753 Acc: 75.100\n",
      "Running Epoch 5...\n",
      "Saving..\n",
      "Train==> Loss: 0.525 Acc: 81.752\n",
      "Test==> Loss: 0.726 Acc: 75.370\n",
      "Running Epoch 6...\n",
      "Train==> Loss: 0.486 Acc: 83.200\n",
      "Test==> Loss: 1.059 Acc: 69.090\n",
      "Running Epoch 7...\n",
      "Saving..\n",
      "Train==> Loss: 0.448 Acc: 84.482\n",
      "Test==> Loss: 0.678 Acc: 77.790\n",
      "Running Epoch 8...\n",
      "Saving..\n",
      "Train==> Loss: 0.419 Acc: 85.400\n",
      "Test==> Loss: 0.588 Acc: 80.790\n",
      "Running Epoch 9...\n",
      "Train==> Loss: 0.388 Acc: 86.622\n",
      "Test==> Loss: 0.666 Acc: 79.200\n",
      "Running Epoch 10...\n",
      "Saving..\n",
      "Train==> Loss: 0.368 Acc: 87.304\n",
      "Test==> Loss: 0.513 Acc: 83.260\n",
      "Running Epoch 11...\n",
      "Train==> Loss: 0.348 Acc: 87.996\n",
      "Test==> Loss: 0.568 Acc: 82.110\n",
      "Running Epoch 12...\n",
      "Saving..\n",
      "Train==> Loss: 0.327 Acc: 88.882\n",
      "Test==> Loss: 0.526 Acc: 83.790\n",
      "Running Epoch 13...\n",
      "Train==> Loss: 0.313 Acc: 89.252\n",
      "Test==> Loss: 0.542 Acc: 82.700\n",
      "Running Epoch 14...\n",
      "Saving..\n",
      "Train==> Loss: 0.294 Acc: 89.832\n",
      "Test==> Loss: 0.509 Acc: 84.160\n",
      "Running Epoch 15...\n",
      "Saving..\n",
      "Train==> Loss: 0.281 Acc: 90.362\n",
      "Test==> Loss: 0.466 Acc: 85.000\n",
      "Running Epoch 16...\n",
      "Train==> Loss: 0.270 Acc: 90.622\n",
      "Test==> Loss: 0.492 Acc: 84.880\n",
      "Running Epoch 17...\n",
      "Saving..\n",
      "Train==> Loss: 0.256 Acc: 91.144\n",
      "Test==> Loss: 0.440 Acc: 86.030\n",
      "Running Epoch 18...\n",
      "Train==> Loss: 0.245 Acc: 91.456\n",
      "Test==> Loss: 0.520 Acc: 83.950\n",
      "Running Epoch 19...\n",
      "Saving..\n",
      "Train==> Loss: 0.233 Acc: 91.890\n",
      "Test==> Loss: 0.415 Acc: 86.690\n",
      "Running Epoch 20...\n",
      "Train==> Loss: 0.225 Acc: 92.198\n",
      "Test==> Loss: 0.584 Acc: 82.950\n",
      "Running Epoch 21...\n",
      "Saving..\n",
      "Train==> Loss: 0.214 Acc: 92.676\n",
      "Test==> Loss: 0.411 Acc: 87.210\n",
      "Running Epoch 22...\n",
      "Train==> Loss: 0.203 Acc: 92.888\n",
      "Test==> Loss: 0.527 Acc: 84.450\n",
      "Running Epoch 23...\n",
      "Train==> Loss: 0.200 Acc: 93.090\n",
      "Test==> Loss: 0.418 Acc: 87.030\n",
      "Running Epoch 24...\n",
      "Saving..\n",
      "Train==> Loss: 0.191 Acc: 93.338\n",
      "Test==> Loss: 0.404 Acc: 87.610\n",
      "Running Epoch 25...\n",
      "Train==> Loss: 0.179 Acc: 93.634\n",
      "Test==> Loss: 0.499 Acc: 85.400\n",
      "Running Epoch 26...\n",
      "Train==> Loss: 0.178 Acc: 93.896\n",
      "Test==> Loss: 0.417 Acc: 87.460\n",
      "Running Epoch 27...\n",
      "Train==> Loss: 0.169 Acc: 94.096\n",
      "Test==> Loss: 0.564 Acc: 84.410\n",
      "Running Epoch 28...\n",
      "Train==> Loss: 0.162 Acc: 94.278\n",
      "Test==> Loss: 0.562 Acc: 84.720\n",
      "Running Epoch 29...\n",
      "Train==> Loss: 0.157 Acc: 94.536\n",
      "Test==> Loss: 0.484 Acc: 86.390\n",
      "Running Epoch 30...\n",
      "Train==> Loss: 0.152 Acc: 94.772\n",
      "Test==> Loss: 0.438 Acc: 87.470\n",
      "Running Epoch 31...\n",
      "Saving..\n",
      "Train==> Loss: 0.144 Acc: 95.000\n",
      "Test==> Loss: 0.410 Acc: 88.470\n",
      "Running Epoch 32...\n",
      "Train==> Loss: 0.141 Acc: 95.058\n",
      "Test==> Loss: 0.402 Acc: 88.130\n",
      "Running Epoch 33...\n",
      "Train==> Loss: 0.138 Acc: 95.228\n",
      "Test==> Loss: 0.508 Acc: 86.360\n",
      "Running Epoch 34...\n",
      "Saving..\n",
      "Train==> Loss: 0.130 Acc: 95.576\n",
      "Test==> Loss: 0.402 Acc: 88.690\n",
      "Running Epoch 35...\n",
      "Train==> Loss: 0.127 Acc: 95.564\n",
      "Test==> Loss: 0.523 Acc: 85.870\n",
      "Running Epoch 36...\n",
      "Train==> Loss: 0.123 Acc: 95.840\n",
      "Test==> Loss: 0.487 Acc: 87.350\n",
      "Running Epoch 37...\n",
      "Train==> Loss: 0.121 Acc: 95.816\n",
      "Test==> Loss: 0.471 Acc: 87.440\n",
      "Running Epoch 38...\n",
      "Train==> Loss: 0.113 Acc: 96.144\n",
      "Test==> Loss: 0.483 Acc: 86.670\n",
      "Running Epoch 39...\n",
      "Train==> Loss: 0.110 Acc: 96.236\n",
      "Test==> Loss: 0.465 Acc: 86.950\n",
      "Running Epoch 40...\n",
      "Saving..\n",
      "Train==> Loss: 0.107 Acc: 96.366\n",
      "Test==> Loss: 0.413 Acc: 88.970\n",
      "Running Epoch 41...\n",
      "Train==> Loss: 0.107 Acc: 96.374\n",
      "Test==> Loss: 0.455 Acc: 87.880\n",
      "Running Epoch 42...\n",
      "Train==> Loss: 0.100 Acc: 96.578\n",
      "Test==> Loss: 0.482 Acc: 87.550\n",
      "Running Epoch 43...\n",
      "Train==> Loss: 0.097 Acc: 96.630\n",
      "Test==> Loss: 0.463 Acc: 87.610\n",
      "Running Epoch 44...\n",
      "Saving..\n",
      "Train==> Loss: 0.099 Acc: 96.564\n",
      "Test==> Loss: 0.389 Acc: 89.460\n",
      "Running Epoch 45...\n",
      "Train==> Loss: 0.095 Acc: 96.706\n",
      "Test==> Loss: 0.483 Acc: 87.510\n",
      "Running Epoch 46...\n",
      "Train==> Loss: 0.089 Acc: 97.012\n",
      "Test==> Loss: 0.434 Acc: 88.850\n",
      "Running Epoch 47...\n",
      "Saving..\n",
      "Train==> Loss: 0.085 Acc: 97.144\n",
      "Test==> Loss: 0.374 Acc: 89.970\n",
      "Running Epoch 48...\n",
      "Train==> Loss: 0.087 Acc: 96.990\n",
      "Test==> Loss: 0.367 Acc: 89.940\n",
      "Running Epoch 49...\n",
      "Train==> Loss: 0.084 Acc: 97.112\n",
      "Test==> Loss: 0.669 Acc: 83.900\n",
      "Running Epoch 50...\n",
      "Train==> Loss: 0.083 Acc: 97.198\n",
      "Test==> Loss: 0.446 Acc: 88.550\n",
      "Running Epoch 51...\n",
      "Train==> Loss: 0.078 Acc: 97.356\n",
      "Test==> Loss: 0.379 Acc: 89.690\n",
      "Running Epoch 52...\n",
      "Train==> Loss: 0.075 Acc: 97.494\n",
      "Test==> Loss: 0.497 Acc: 87.270\n",
      "Running Epoch 53...\n",
      "Train==> Loss: 0.079 Acc: 97.322\n",
      "Test==> Loss: 0.697 Acc: 84.450\n",
      "Running Epoch 54...\n",
      "Train==> Loss: 0.073 Acc: 97.594\n",
      "Test==> Loss: 0.449 Acc: 88.690\n",
      "Running Epoch 55...\n",
      "Train==> Loss: 0.072 Acc: 97.564\n",
      "Test==> Loss: 0.379 Acc: 89.650\n",
      "Running Epoch 56...\n",
      "Train==> Loss: 0.071 Acc: 97.552\n",
      "Test==> Loss: 0.385 Acc: 89.970\n",
      "Running Epoch 57...\n",
      "Saving..\n",
      "Train==> Loss: 0.069 Acc: 97.754\n",
      "Test==> Loss: 0.368 Acc: 90.110\n",
      "Running Epoch 58...\n",
      "Train==> Loss: 0.067 Acc: 97.788\n",
      "Test==> Loss: 0.388 Acc: 89.740\n",
      "Running Epoch 59...\n",
      "Train==> Loss: 0.067 Acc: 97.808\n",
      "Test==> Loss: 0.538 Acc: 87.310\n",
      "Running Epoch 60...\n",
      "Train==> Loss: 0.066 Acc: 97.812\n",
      "Test==> Loss: 0.588 Acc: 86.840\n",
      "Running Epoch 61...\n",
      "Train==> Loss: 0.062 Acc: 97.946\n",
      "Test==> Loss: 0.445 Acc: 88.990\n",
      "Running Epoch 62...\n",
      "Train==> Loss: 0.060 Acc: 98.058\n",
      "Test==> Loss: 0.426 Acc: 89.230\n",
      "Running Epoch 63...\n",
      "Train==> Loss: 0.060 Acc: 98.026\n",
      "Test==> Loss: 0.387 Acc: 89.900\n",
      "Running Epoch 64...\n",
      "Train==> Loss: 0.062 Acc: 97.876\n",
      "Test==> Loss: 0.388 Acc: 89.990\n",
      "Running Epoch 65...\n",
      "Saving..\n",
      "Train==> Loss: 0.063 Acc: 97.924\n",
      "Test==> Loss: 0.389 Acc: 90.330\n",
      "Running Epoch 66...\n",
      "Train==> Loss: 0.060 Acc: 98.046\n",
      "Test==> Loss: 0.401 Acc: 89.870\n",
      "Running Epoch 67...\n",
      "Train==> Loss: 0.058 Acc: 98.082\n",
      "Test==> Loss: 0.442 Acc: 89.280\n",
      "Running Epoch 68...\n",
      "Train==> Loss: 0.056 Acc: 98.134\n",
      "Test==> Loss: 0.439 Acc: 89.170\n",
      "Running Epoch 69...\n",
      "Train==> Loss: 0.056 Acc: 98.154\n",
      "Test==> Loss: 0.442 Acc: 88.880\n",
      "Running Epoch 70...\n",
      "Train==> Loss: 0.056 Acc: 98.206\n",
      "Test==> Loss: 0.361 Acc: 90.170\n",
      "Running Epoch 71...\n",
      "Train==> Loss: 0.055 Acc: 98.256\n",
      "Test==> Loss: 0.446 Acc: 88.830\n",
      "Running Epoch 72...\n",
      "Train==> Loss: 0.053 Acc: 98.346\n",
      "Test==> Loss: 0.452 Acc: 89.140\n",
      "Running Epoch 73...\n",
      "Train==> Loss: 0.054 Acc: 98.270\n",
      "Test==> Loss: 0.405 Acc: 89.870\n",
      "Running Epoch 74...\n",
      "Train==> Loss: 0.053 Acc: 98.338\n",
      "Test==> Loss: 0.398 Acc: 90.120\n",
      "Running Epoch 75...\n",
      "Train==> Loss: 0.051 Acc: 98.352\n",
      "Test==> Loss: 0.425 Acc: 89.700\n",
      "Running Epoch 76...\n",
      "Train==> Loss: 0.051 Acc: 98.386\n",
      "Test==> Loss: 0.397 Acc: 89.790\n",
      "Running Epoch 77...\n",
      "Train==> Loss: 0.052 Acc: 98.314\n",
      "Test==> Loss: 0.414 Acc: 89.520\n",
      "Running Epoch 78...\n",
      "Train==> Loss: 0.051 Acc: 98.314\n",
      "Test==> Loss: 0.435 Acc: 89.450\n",
      "Running Epoch 79...\n",
      "Train==> Loss: 0.048 Acc: 98.502\n",
      "Test==> Loss: 0.416 Acc: 89.660\n",
      "Running Epoch 80...\n",
      "Train==> Loss: 0.051 Acc: 98.258\n",
      "Test==> Loss: 0.448 Acc: 89.280\n",
      "Running Epoch 81...\n",
      "Train==> Loss: 0.050 Acc: 98.396\n",
      "Test==> Loss: 0.413 Acc: 89.740\n",
      "Running Epoch 82...\n",
      "Train==> Loss: 0.052 Acc: 98.312\n",
      "Test==> Loss: 0.414 Acc: 89.600\n",
      "Running Epoch 83...\n",
      "Train==> Loss: 0.046 Acc: 98.570\n",
      "Test==> Loss: 0.400 Acc: 90.080\n",
      "Running Epoch 84...\n",
      "Train==> Loss: 0.048 Acc: 98.484\n",
      "Test==> Loss: 0.397 Acc: 89.690\n",
      "Running Epoch 85...\n",
      "Saving..\n",
      "Train==> Loss: 0.047 Acc: 98.496\n",
      "Test==> Loss: 0.378 Acc: 90.380\n",
      "Running Epoch 86...\n",
      "Train==> Loss: 0.048 Acc: 98.484\n",
      "Test==> Loss: 0.422 Acc: 90.140\n",
      "Running Epoch 87...\n",
      "Saving..\n",
      "Train==> Loss: 0.051 Acc: 98.276\n",
      "Test==> Loss: 0.350 Acc: 90.890\n",
      "Running Epoch 88...\n",
      "Train==> Loss: 0.048 Acc: 98.494\n",
      "Test==> Loss: 0.501 Acc: 87.720\n",
      "Running Epoch 89...\n",
      "Train==> Loss: 0.047 Acc: 98.536\n",
      "Test==> Loss: 0.405 Acc: 89.920\n",
      "Running Epoch 90...\n",
      "Train==> Loss: 0.046 Acc: 98.540\n",
      "Test==> Loss: 0.398 Acc: 89.620\n",
      "Running Epoch 91...\n",
      "Train==> Loss: 0.045 Acc: 98.596\n",
      "Test==> Loss: 0.348 Acc: 90.740\n",
      "Running Epoch 92...\n",
      "Train==> Loss: 0.043 Acc: 98.678\n",
      "Test==> Loss: 0.466 Acc: 88.620\n",
      "Running Epoch 93...\n",
      "Train==> Loss: 0.046 Acc: 98.558\n",
      "Test==> Loss: 0.405 Acc: 89.800\n",
      "Running Epoch 94...\n"
     ]
    },
    {
     "name": "stdout",
     "output_type": "stream",
     "text": [
      "Train==> Loss: 0.044 Acc: 98.578\n",
      "Test==> Loss: 0.406 Acc: 90.040\n",
      "Running Epoch 95...\n",
      "Train==> Loss: 0.042 Acc: 98.634\n",
      "Test==> Loss: 0.390 Acc: 90.000\n",
      "Running Epoch 96...\n",
      "Train==> Loss: 0.042 Acc: 98.682\n",
      "Test==> Loss: 0.395 Acc: 89.710\n",
      "Running Epoch 97...\n",
      "Train==> Loss: 0.042 Acc: 98.674\n",
      "Test==> Loss: 0.485 Acc: 88.470\n",
      "Running Epoch 98...\n",
      "Train==> Loss: 0.044 Acc: 98.652\n",
      "Test==> Loss: 0.419 Acc: 89.630\n",
      "Running Epoch 99...\n",
      "Train==> Loss: 0.041 Acc: 98.694\n",
      "Test==> Loss: 0.402 Acc: 90.070\n",
      "\n",
      "\n",
      "Best accuracy: 90.89\n"
     ]
    }
   ],
   "source": [
    "train_accs, test_accs = main(optimizer_ = 'adadelta',\n",
    "                             epochs = 100,\n",
    "                             lr = 0.1, \n",
    "                             momentum = 0.9, \n",
    "                             weight_decay = 0.0005,\n",
    "                             save_weights = True,\n",
    "                             ret_polt_values = True)"
   ]
  },
  {
   "cell_type": "code",
   "execution_count": 28,
   "metadata": {},
   "outputs": [
    {
     "data": {
      "image/png": "[encoded data removed]",
      "text/plain": [
       "<Figure size 432x288 with 1 Axes>"
      ]
     },
     "metadata": {
      "needs_background": "light"
     },
     "output_type": "display_data"
    }
   ],
   "source": [
    "import matplotlib.pyplot as plt\n",
    "\n",
    "#train plot\n",
    "plt.plot(range(100), train_accs, color ='tab:blue') \n",
    "#test plot\n",
    "plt.plot(range(100), test_accs, color ='tab:orange') \n",
    "  \n",
    "plt.title('Train and Test Accuraccy vs Epochs') \n",
    "    \n",
    "# display the plot \n",
    "plt.show()"
   ]
  },
  {
   "cell_type": "code",
   "execution_count": 29,
   "metadata": {},
   "outputs": [],
   "source": [
    "# # Load checkpoint to test\n",
    "\n",
    "checkpoint = torch.load('./checkpoint/ckpt.pth')\n",
    "net.load_state_dict(checkpoint['net'])\n",
    "best_acc = checkpoint['acc']\n",
    "epoch = checkpoint['epoch']"
   ]
  },
  {
   "cell_type": "code",
   "execution_count": 32,
   "metadata": {},
   "outputs": [
    {
     "name": "stdout",
     "output_type": "stream",
     "text": [
      "Best Accuracy: 90.89 at epoch: 87\n"
     ]
    }
   ],
   "source": [
    "print(f\"Best Accuracy: {best_acc} at epoch: {epoch}\")"
   ]
  },
  {
   "cell_type": "code",
   "execution_count": null,
   "metadata": {},
   "outputs": [],
   "source": []
  }
 ],
 "metadata": {
  "accelerator": "GPU",
  "colab": {
   "provenance": []
  },
  "gpuClass": "standard",
  "kernelspec": {
   "display_name": "Python 3",
   "language": "python",
   "name": "python3"
  },
  "language_info": {
   "codemirror_mode": {
    "name": "ipython",
    "version": 3
   },
   "file_extension": ".py",
   "mimetype": "text/x-python",
   "name": "python",
   "nbconvert_exporter": "python",
   "pygments_lexer": "ipython3",
   "version": "3.7.6"
  }
 },
 "nbformat": 4,
 "nbformat_minor": 1
}
